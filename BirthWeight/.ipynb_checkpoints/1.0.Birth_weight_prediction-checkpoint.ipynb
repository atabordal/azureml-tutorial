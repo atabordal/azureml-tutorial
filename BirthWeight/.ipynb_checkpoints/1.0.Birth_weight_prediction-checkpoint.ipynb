{
 "cells": [
  {
   "cell_type": "markdown",
   "metadata": {
    "id": "6ZIu0Y62EiRQ"
   },
   "source": [
    "# **Birth weight prediction**\n",
    "\n",
    "---\n",
    "\n"
   ]
  },
  {
   "cell_type": "markdown",
   "metadata": {
    "id": "u7zBdY3ssZMJ"
   },
   "source": [
    "## Load Libraries"
   ]
  },
  {
   "cell_type": "code",
   "execution_count": 1,
   "metadata": {
    "gather": {
     "logged": 1626850987119
    },
    "id": "7_8hrWO8tWCT"
   },
   "outputs": [],
   "source": [
    "import os\n",
    "import numpy as np\n",
    "import pandas as pd\n",
    "import seaborn as sn\n",
    "import matplotlib.pyplot as plt\n",
    "from joblib import dump, load\n",
    "\n",
    "from sklearn.preprocessing import StandardScaler\n",
    "from sklearn.linear_model import LinearRegression\n",
    "from sklearn.model_selection import train_test_split\n",
    "\n",
    "from sklearn.metrics import mean_squared_error, mean_absolute_error, r2_score\n",
    "from sklearn.feature_selection import SelectKBest, f_regression, mutual_info_regression"
   ]
  },
  {
   "cell_type": "markdown",
   "metadata": {
    "id": "Gl68xwi9qUp_"
   },
   "source": [
    "## Load The data"
   ]
  },
  {
   "cell_type": "code",
   "execution_count": 2,
   "metadata": {
    "gather": {
     "logged": 1626850988213
    },
    "id": "3UhdTCv7BHZ1"
   },
   "outputs": [],
   "source": [
    "data = pd.read_csv('inputs/baby-weights-dataset2.csv')"
   ]
  },
  {
   "cell_type": "code",
   "execution_count": 3,
   "metadata": {
    "colab": {
     "base_uri": "https://localhost:8080/"
    },
    "id": "r8QTdMwqC-Zu",
    "outputId": "a7df8785-efee-4c4c-b383-ddc917c0283c"
   },
   "outputs": [
    {
     "data": {
      "text/plain": [
       "Index(['ID', 'SEX', 'MARITAL', 'FAGE', 'GAINED', 'VISITS', 'MAGE', 'FEDUC',\n",
       "       'MEDUC', 'TOTALP', 'BDEAD', 'TERMS', 'LOUTCOME', 'WEEKS', 'RACEMOM',\n",
       "       'RACEDAD', 'HISPMOM', 'HISPDAD', 'CIGNUM', 'DRINKNUM', 'ANEMIA',\n",
       "       'CARDIAC', 'ACLUNG', 'DIABETES', 'HERPES', 'HYDRAM', 'HEMOGLOB',\n",
       "       'HYPERCH', 'HYPERPR', 'ECLAMP', 'CERVIX', 'PINFANT', 'PRETERM', 'RENAL',\n",
       "       'RHSEN', 'UTERINE', 'BWEIGHT'],\n",
       "      dtype='object')"
      ]
     },
     "execution_count": 3,
     "metadata": {},
     "output_type": "execute_result"
    }
   ],
   "source": [
    "data.columns"
   ]
  },
  {
   "cell_type": "code",
   "execution_count": 4,
   "metadata": {
    "colab": {
     "base_uri": "https://localhost:8080/",
     "height": 224
    },
    "id": "kAP7Aw7nEw9H",
    "outputId": "39cb0de4-2b87-4229-ee76-df9eff7e2560"
   },
   "outputs": [
    {
     "data": {
      "text/html": [
       "<div>\n",
       "<style scoped>\n",
       "    .dataframe tbody tr th:only-of-type {\n",
       "        vertical-align: middle;\n",
       "    }\n",
       "\n",
       "    .dataframe tbody tr th {\n",
       "        vertical-align: top;\n",
       "    }\n",
       "\n",
       "    .dataframe thead th {\n",
       "        text-align: right;\n",
       "    }\n",
       "</style>\n",
       "<table border=\"1\" class=\"dataframe\">\n",
       "  <thead>\n",
       "    <tr style=\"text-align: right;\">\n",
       "      <th></th>\n",
       "      <th>ID</th>\n",
       "      <th>SEX</th>\n",
       "      <th>MARITAL</th>\n",
       "      <th>FAGE</th>\n",
       "      <th>GAINED</th>\n",
       "      <th>VISITS</th>\n",
       "      <th>MAGE</th>\n",
       "      <th>FEDUC</th>\n",
       "      <th>MEDUC</th>\n",
       "      <th>TOTALP</th>\n",
       "      <th>...</th>\n",
       "      <th>HYPERCH</th>\n",
       "      <th>HYPERPR</th>\n",
       "      <th>ECLAMP</th>\n",
       "      <th>CERVIX</th>\n",
       "      <th>PINFANT</th>\n",
       "      <th>PRETERM</th>\n",
       "      <th>RENAL</th>\n",
       "      <th>RHSEN</th>\n",
       "      <th>UTERINE</th>\n",
       "      <th>BWEIGHT</th>\n",
       "    </tr>\n",
       "  </thead>\n",
       "  <tbody>\n",
       "    <tr>\n",
       "      <th>0</th>\n",
       "      <td>2001</td>\n",
       "      <td>2</td>\n",
       "      <td>1</td>\n",
       "      <td>33</td>\n",
       "      <td>26</td>\n",
       "      <td>10</td>\n",
       "      <td>34</td>\n",
       "      <td>12</td>\n",
       "      <td>4</td>\n",
       "      <td>2</td>\n",
       "      <td>...</td>\n",
       "      <td>0</td>\n",
       "      <td>0</td>\n",
       "      <td>0</td>\n",
       "      <td>0</td>\n",
       "      <td>0</td>\n",
       "      <td>0</td>\n",
       "      <td>0</td>\n",
       "      <td>0</td>\n",
       "      <td>0</td>\n",
       "      <td>4.3750</td>\n",
       "    </tr>\n",
       "    <tr>\n",
       "      <th>1</th>\n",
       "      <td>2002</td>\n",
       "      <td>2</td>\n",
       "      <td>2</td>\n",
       "      <td>19</td>\n",
       "      <td>40</td>\n",
       "      <td>10</td>\n",
       "      <td>18</td>\n",
       "      <td>11</td>\n",
       "      <td>12</td>\n",
       "      <td>1</td>\n",
       "      <td>...</td>\n",
       "      <td>0</td>\n",
       "      <td>0</td>\n",
       "      <td>0</td>\n",
       "      <td>0</td>\n",
       "      <td>0</td>\n",
       "      <td>0</td>\n",
       "      <td>0</td>\n",
       "      <td>0</td>\n",
       "      <td>0</td>\n",
       "      <td>6.9375</td>\n",
       "    </tr>\n",
       "    <tr>\n",
       "      <th>2</th>\n",
       "      <td>2003</td>\n",
       "      <td>2</td>\n",
       "      <td>1</td>\n",
       "      <td>33</td>\n",
       "      <td>16</td>\n",
       "      <td>14</td>\n",
       "      <td>31</td>\n",
       "      <td>16</td>\n",
       "      <td>16</td>\n",
       "      <td>2</td>\n",
       "      <td>...</td>\n",
       "      <td>0</td>\n",
       "      <td>0</td>\n",
       "      <td>0</td>\n",
       "      <td>0</td>\n",
       "      <td>0</td>\n",
       "      <td>0</td>\n",
       "      <td>0</td>\n",
       "      <td>0</td>\n",
       "      <td>0</td>\n",
       "      <td>8.5000</td>\n",
       "    </tr>\n",
       "    <tr>\n",
       "      <th>3</th>\n",
       "      <td>2004</td>\n",
       "      <td>1</td>\n",
       "      <td>1</td>\n",
       "      <td>25</td>\n",
       "      <td>40</td>\n",
       "      <td>15</td>\n",
       "      <td>28</td>\n",
       "      <td>12</td>\n",
       "      <td>12</td>\n",
       "      <td>3</td>\n",
       "      <td>...</td>\n",
       "      <td>0</td>\n",
       "      <td>0</td>\n",
       "      <td>0</td>\n",
       "      <td>0</td>\n",
       "      <td>0</td>\n",
       "      <td>0</td>\n",
       "      <td>0</td>\n",
       "      <td>0</td>\n",
       "      <td>0</td>\n",
       "      <td>8.5000</td>\n",
       "    </tr>\n",
       "    <tr>\n",
       "      <th>4</th>\n",
       "      <td>2005</td>\n",
       "      <td>1</td>\n",
       "      <td>2</td>\n",
       "      <td>21</td>\n",
       "      <td>60</td>\n",
       "      <td>13</td>\n",
       "      <td>20</td>\n",
       "      <td>12</td>\n",
       "      <td>14</td>\n",
       "      <td>2</td>\n",
       "      <td>...</td>\n",
       "      <td>0</td>\n",
       "      <td>1</td>\n",
       "      <td>0</td>\n",
       "      <td>0</td>\n",
       "      <td>0</td>\n",
       "      <td>0</td>\n",
       "      <td>0</td>\n",
       "      <td>0</td>\n",
       "      <td>0</td>\n",
       "      <td>9.0000</td>\n",
       "    </tr>\n",
       "  </tbody>\n",
       "</table>\n",
       "<p>5 rows × 37 columns</p>\n",
       "</div>"
      ],
      "text/plain": [
       "     ID  SEX  MARITAL  FAGE  GAINED  VISITS  MAGE  FEDUC  MEDUC  TOTALP  ...  \\\n",
       "0  2001    2        1    33      26      10    34     12      4       2  ...   \n",
       "1  2002    2        2    19      40      10    18     11     12       1  ...   \n",
       "2  2003    2        1    33      16      14    31     16     16       2  ...   \n",
       "3  2004    1        1    25      40      15    28     12     12       3  ...   \n",
       "4  2005    1        2    21      60      13    20     12     14       2  ...   \n",
       "\n",
       "   HYPERCH  HYPERPR  ECLAMP  CERVIX  PINFANT  PRETERM RENAL RHSEN  UTERINE  \\\n",
       "0        0        0       0       0        0        0     0     0        0   \n",
       "1        0        0       0       0        0        0     0     0        0   \n",
       "2        0        0       0       0        0        0     0     0        0   \n",
       "3        0        0       0       0        0        0     0     0        0   \n",
       "4        0        1       0       0        0        0     0     0        0   \n",
       "\n",
       "   BWEIGHT  \n",
       "0   4.3750  \n",
       "1   6.9375  \n",
       "2   8.5000  \n",
       "3   8.5000  \n",
       "4   9.0000  \n",
       "\n",
       "[5 rows x 37 columns]"
      ]
     },
     "execution_count": 4,
     "metadata": {},
     "output_type": "execute_result"
    }
   ],
   "source": [
    "data.head()"
   ]
  },
  {
   "cell_type": "markdown",
   "metadata": {
    "id": "eeyYGwu9GsNy"
   },
   "source": [
    "### Dropping bias columns"
   ]
  },
  {
   "cell_type": "code",
   "execution_count": 5,
   "metadata": {
    "colab": {
     "base_uri": "https://localhost:8080/"
    },
    "gather": {
     "logged": 1626850993107
    },
    "id": "apoNV3e7F_ST",
    "outputId": "954ff974-ff7d-4379-d915-d36902a98fcf"
   },
   "outputs": [
    {
     "data": {
      "text/plain": [
       "Index(['SEX', 'FAGE', 'GAINED', 'VISITS', 'MAGE', 'TOTALP', 'BDEAD', 'TERMS',\n",
       "       'LOUTCOME', 'WEEKS', 'RACEMOM', 'RACEDAD', 'CIGNUM', 'DRINKNUM',\n",
       "       'ANEMIA', 'CARDIAC', 'ACLUNG', 'DIABETES', 'HERPES', 'HYDRAM',\n",
       "       'HEMOGLOB', 'HYPERCH', 'HYPERPR', 'ECLAMP', 'CERVIX', 'PINFANT',\n",
       "       'PRETERM', 'RENAL', 'RHSEN', 'UTERINE', 'BWEIGHT'],\n",
       "      dtype='object')"
      ]
     },
     "execution_count": 5,
     "metadata": {},
     "output_type": "execute_result"
    }
   ],
   "source": [
    "columns = ['ID', 'MARITAL', 'FEDUC', 'MEDUC', 'HISPMOM', 'HISPDAD']\n",
    "data.drop(columns, inplace=True, axis=1, errors='ignore')\n",
    "data.columns"
   ]
  },
  {
   "cell_type": "code",
   "execution_count": 6,
   "metadata": {
    "colab": {
     "base_uri": "https://localhost:8080/",
     "height": 224
    },
    "id": "IGCtkYcbGqlV",
    "outputId": "0d4f25fc-58cc-4969-a055-d60443b82197"
   },
   "outputs": [
    {
     "data": {
      "text/html": [
       "<div>\n",
       "<style scoped>\n",
       "    .dataframe tbody tr th:only-of-type {\n",
       "        vertical-align: middle;\n",
       "    }\n",
       "\n",
       "    .dataframe tbody tr th {\n",
       "        vertical-align: top;\n",
       "    }\n",
       "\n",
       "    .dataframe thead th {\n",
       "        text-align: right;\n",
       "    }\n",
       "</style>\n",
       "<table border=\"1\" class=\"dataframe\">\n",
       "  <thead>\n",
       "    <tr style=\"text-align: right;\">\n",
       "      <th></th>\n",
       "      <th>SEX</th>\n",
       "      <th>FAGE</th>\n",
       "      <th>GAINED</th>\n",
       "      <th>VISITS</th>\n",
       "      <th>MAGE</th>\n",
       "      <th>TOTALP</th>\n",
       "      <th>BDEAD</th>\n",
       "      <th>TERMS</th>\n",
       "      <th>LOUTCOME</th>\n",
       "      <th>WEEKS</th>\n",
       "      <th>...</th>\n",
       "      <th>HYPERCH</th>\n",
       "      <th>HYPERPR</th>\n",
       "      <th>ECLAMP</th>\n",
       "      <th>CERVIX</th>\n",
       "      <th>PINFANT</th>\n",
       "      <th>PRETERM</th>\n",
       "      <th>RENAL</th>\n",
       "      <th>RHSEN</th>\n",
       "      <th>UTERINE</th>\n",
       "      <th>BWEIGHT</th>\n",
       "    </tr>\n",
       "  </thead>\n",
       "  <tbody>\n",
       "    <tr>\n",
       "      <th>0</th>\n",
       "      <td>2</td>\n",
       "      <td>33</td>\n",
       "      <td>26</td>\n",
       "      <td>10</td>\n",
       "      <td>34</td>\n",
       "      <td>2</td>\n",
       "      <td>0</td>\n",
       "      <td>0</td>\n",
       "      <td>1</td>\n",
       "      <td>35</td>\n",
       "      <td>...</td>\n",
       "      <td>0</td>\n",
       "      <td>0</td>\n",
       "      <td>0</td>\n",
       "      <td>0</td>\n",
       "      <td>0</td>\n",
       "      <td>0</td>\n",
       "      <td>0</td>\n",
       "      <td>0</td>\n",
       "      <td>0</td>\n",
       "      <td>4.3750</td>\n",
       "    </tr>\n",
       "    <tr>\n",
       "      <th>1</th>\n",
       "      <td>2</td>\n",
       "      <td>19</td>\n",
       "      <td>40</td>\n",
       "      <td>10</td>\n",
       "      <td>18</td>\n",
       "      <td>1</td>\n",
       "      <td>0</td>\n",
       "      <td>0</td>\n",
       "      <td>9</td>\n",
       "      <td>41</td>\n",
       "      <td>...</td>\n",
       "      <td>0</td>\n",
       "      <td>0</td>\n",
       "      <td>0</td>\n",
       "      <td>0</td>\n",
       "      <td>0</td>\n",
       "      <td>0</td>\n",
       "      <td>0</td>\n",
       "      <td>0</td>\n",
       "      <td>0</td>\n",
       "      <td>6.9375</td>\n",
       "    </tr>\n",
       "    <tr>\n",
       "      <th>2</th>\n",
       "      <td>2</td>\n",
       "      <td>33</td>\n",
       "      <td>16</td>\n",
       "      <td>14</td>\n",
       "      <td>31</td>\n",
       "      <td>2</td>\n",
       "      <td>0</td>\n",
       "      <td>0</td>\n",
       "      <td>1</td>\n",
       "      <td>39</td>\n",
       "      <td>...</td>\n",
       "      <td>0</td>\n",
       "      <td>0</td>\n",
       "      <td>0</td>\n",
       "      <td>0</td>\n",
       "      <td>0</td>\n",
       "      <td>0</td>\n",
       "      <td>0</td>\n",
       "      <td>0</td>\n",
       "      <td>0</td>\n",
       "      <td>8.5000</td>\n",
       "    </tr>\n",
       "    <tr>\n",
       "      <th>3</th>\n",
       "      <td>1</td>\n",
       "      <td>25</td>\n",
       "      <td>40</td>\n",
       "      <td>15</td>\n",
       "      <td>28</td>\n",
       "      <td>3</td>\n",
       "      <td>0</td>\n",
       "      <td>0</td>\n",
       "      <td>1</td>\n",
       "      <td>38</td>\n",
       "      <td>...</td>\n",
       "      <td>0</td>\n",
       "      <td>0</td>\n",
       "      <td>0</td>\n",
       "      <td>0</td>\n",
       "      <td>0</td>\n",
       "      <td>0</td>\n",
       "      <td>0</td>\n",
       "      <td>0</td>\n",
       "      <td>0</td>\n",
       "      <td>8.5000</td>\n",
       "    </tr>\n",
       "    <tr>\n",
       "      <th>4</th>\n",
       "      <td>1</td>\n",
       "      <td>21</td>\n",
       "      <td>60</td>\n",
       "      <td>13</td>\n",
       "      <td>20</td>\n",
       "      <td>2</td>\n",
       "      <td>0</td>\n",
       "      <td>0</td>\n",
       "      <td>1</td>\n",
       "      <td>40</td>\n",
       "      <td>...</td>\n",
       "      <td>0</td>\n",
       "      <td>1</td>\n",
       "      <td>0</td>\n",
       "      <td>0</td>\n",
       "      <td>0</td>\n",
       "      <td>0</td>\n",
       "      <td>0</td>\n",
       "      <td>0</td>\n",
       "      <td>0</td>\n",
       "      <td>9.0000</td>\n",
       "    </tr>\n",
       "  </tbody>\n",
       "</table>\n",
       "<p>5 rows × 31 columns</p>\n",
       "</div>"
      ],
      "text/plain": [
       "   SEX  FAGE  GAINED  VISITS  MAGE  TOTALP  BDEAD  TERMS  LOUTCOME  WEEKS  \\\n",
       "0    2    33      26      10    34       2      0      0         1     35   \n",
       "1    2    19      40      10    18       1      0      0         9     41   \n",
       "2    2    33      16      14    31       2      0      0         1     39   \n",
       "3    1    25      40      15    28       3      0      0         1     38   \n",
       "4    1    21      60      13    20       2      0      0         1     40   \n",
       "\n",
       "   ...  HYPERCH  HYPERPR  ECLAMP  CERVIX  PINFANT  PRETERM  RENAL  RHSEN  \\\n",
       "0  ...        0        0       0       0        0        0      0      0   \n",
       "1  ...        0        0       0       0        0        0      0      0   \n",
       "2  ...        0        0       0       0        0        0      0      0   \n",
       "3  ...        0        0       0       0        0        0      0      0   \n",
       "4  ...        0        1       0       0        0        0      0      0   \n",
       "\n",
       "   UTERINE  BWEIGHT  \n",
       "0        0   4.3750  \n",
       "1        0   6.9375  \n",
       "2        0   8.5000  \n",
       "3        0   8.5000  \n",
       "4        0   9.0000  \n",
       "\n",
       "[5 rows x 31 columns]"
      ]
     },
     "execution_count": 6,
     "metadata": {},
     "output_type": "execute_result"
    }
   ],
   "source": [
    "data.head()"
   ]
  },
  {
   "cell_type": "markdown",
   "metadata": {
    "id": "6J9cUUKEsbhs"
   },
   "source": [
    "## Correlation Analysis"
   ]
  },
  {
   "cell_type": "markdown",
   "metadata": {
    "id": "4Z3UXIUExoSh"
   },
   "source": [
    "### Standardize the data"
   ]
  },
  {
   "cell_type": "code",
   "execution_count": 7,
   "metadata": {
    "gather": {
     "logged": 1626850996495
    },
    "id": "cJVFBRTEMZ2U"
   },
   "outputs": [],
   "source": [
    "y = data[['BWEIGHT']]\n",
    "sc_y = StandardScaler()\n",
    "# fit and transform the data\n",
    "y_std = sc_y.fit_transform(y)"
   ]
  },
  {
   "cell_type": "code",
   "execution_count": 8,
   "metadata": {
    "colab": {
     "base_uri": "https://localhost:8080/",
     "height": 204
    },
    "gather": {
     "logged": 1626850997749
    },
    "id": "gN3pogIxM8dt",
    "outputId": "0dcedeb1-9447-4775-ea5c-87871fd31220"
   },
   "outputs": [
    {
     "data": {
      "text/html": [
       "<div>\n",
       "<style scoped>\n",
       "    .dataframe tbody tr th:only-of-type {\n",
       "        vertical-align: middle;\n",
       "    }\n",
       "\n",
       "    .dataframe tbody tr th {\n",
       "        vertical-align: top;\n",
       "    }\n",
       "\n",
       "    .dataframe thead th {\n",
       "        text-align: right;\n",
       "    }\n",
       "</style>\n",
       "<table border=\"1\" class=\"dataframe\">\n",
       "  <thead>\n",
       "    <tr style=\"text-align: right;\">\n",
       "      <th></th>\n",
       "      <th>BWEIGHT</th>\n",
       "    </tr>\n",
       "  </thead>\n",
       "  <tbody>\n",
       "    <tr>\n",
       "      <th>0</th>\n",
       "      <td>-2.168609</td>\n",
       "    </tr>\n",
       "    <tr>\n",
       "      <th>1</th>\n",
       "      <td>-0.241126</td>\n",
       "    </tr>\n",
       "    <tr>\n",
       "      <th>2</th>\n",
       "      <td>0.934169</td>\n",
       "    </tr>\n",
       "    <tr>\n",
       "      <th>3</th>\n",
       "      <td>0.934169</td>\n",
       "    </tr>\n",
       "    <tr>\n",
       "      <th>4</th>\n",
       "      <td>1.310263</td>\n",
       "    </tr>\n",
       "  </tbody>\n",
       "</table>\n",
       "</div>"
      ],
      "text/plain": [
       "    BWEIGHT\n",
       "0 -2.168609\n",
       "1 -0.241126\n",
       "2  0.934169\n",
       "3  0.934169\n",
       "4  1.310263"
      ]
     },
     "execution_count": 8,
     "metadata": {},
     "output_type": "execute_result"
    }
   ],
   "source": [
    "y_std = pd.DataFrame(y_std, columns = y.columns)\n",
    "y_std.head()"
   ]
  },
  {
   "cell_type": "code",
   "execution_count": 9,
   "metadata": {},
   "outputs": [
    {
     "data": {
      "image/png": "[encoded data removed]",
      "text/plain": [
       "<Figure size 432x288 with 1 Axes>"
      ]
     },
     "metadata": {
      "needs_background": "light"
     },
     "output_type": "display_data"
    }
   ],
   "source": [
    "df = pd.DataFrame(sc_y.inverse_transform(y_std), columns=['y_std'])\n",
    "#Pounds to kilograms\n",
    "df['y_kg'] = df['y_std'].apply(lambda x: x * .454)\n",
    "\n",
    "plt.scatter(df.index, df['y_kg'], color = 'red', label = 'Real data')\n",
    "plt.legend()\n",
    "plt.show()"
   ]
  },
  {
   "cell_type": "code",
   "execution_count": 10,
   "metadata": {
    "gather": {
     "logged": 1626851000942
    },
    "id": "xTIKaE2_Mc5z"
   },
   "outputs": [],
   "source": [
    "X = data.drop(['BWEIGHT'], axis=1)\n",
    "sc_X = StandardScaler()\n",
    "# fit and transform the data\n",
    "X_std = sc_X.fit_transform(X)"
   ]
  },
  {
   "cell_type": "code",
   "execution_count": 11,
   "metadata": {
    "colab": {
     "base_uri": "https://localhost:8080/",
     "height": 224
    },
    "gather": {
     "logged": 1626851001711
    },
    "id": "fD635oduM88I",
    "outputId": "39fbf9af-8e7b-4e51-ecc8-06dada953c20"
   },
   "outputs": [
    {
     "data": {
      "text/html": [
       "<div>\n",
       "<style scoped>\n",
       "    .dataframe tbody tr th:only-of-type {\n",
       "        vertical-align: middle;\n",
       "    }\n",
       "\n",
       "    .dataframe tbody tr th {\n",
       "        vertical-align: top;\n",
       "    }\n",
       "\n",
       "    .dataframe thead th {\n",
       "        text-align: right;\n",
       "    }\n",
       "</style>\n",
       "<table border=\"1\" class=\"dataframe\">\n",
       "  <thead>\n",
       "    <tr style=\"text-align: right;\">\n",
       "      <th></th>\n",
       "      <th>SEX</th>\n",
       "      <th>FAGE</th>\n",
       "      <th>GAINED</th>\n",
       "      <th>VISITS</th>\n",
       "      <th>MAGE</th>\n",
       "      <th>TOTALP</th>\n",
       "      <th>BDEAD</th>\n",
       "      <th>TERMS</th>\n",
       "      <th>LOUTCOME</th>\n",
       "      <th>WEEKS</th>\n",
       "      <th>...</th>\n",
       "      <th>HEMOGLOB</th>\n",
       "      <th>HYPERCH</th>\n",
       "      <th>HYPERPR</th>\n",
       "      <th>ECLAMP</th>\n",
       "      <th>CERVIX</th>\n",
       "      <th>PINFANT</th>\n",
       "      <th>PRETERM</th>\n",
       "      <th>RENAL</th>\n",
       "      <th>RHSEN</th>\n",
       "      <th>UTERINE</th>\n",
       "    </tr>\n",
       "  </thead>\n",
       "  <tbody>\n",
       "    <tr>\n",
       "      <th>0</th>\n",
       "      <td>1.027946</td>\n",
       "      <td>0.417018</td>\n",
       "      <td>-0.314575</td>\n",
       "      <td>-0.653532</td>\n",
       "      <td>1.051424</td>\n",
       "      <td>-0.253956</td>\n",
       "      <td>-0.106854</td>\n",
       "      <td>-0.462832</td>\n",
       "      <td>-0.770996</td>\n",
       "      <td>-1.491207</td>\n",
       "      <td>...</td>\n",
       "      <td>-0.04146</td>\n",
       "      <td>-0.11815</td>\n",
       "      <td>-0.229511</td>\n",
       "      <td>-0.061816</td>\n",
       "      <td>-0.061251</td>\n",
       "      <td>-0.075584</td>\n",
       "      <td>-0.094526</td>\n",
       "      <td>-0.046842</td>\n",
       "      <td>-0.061575</td>\n",
       "      <td>-0.058768</td>\n",
       "    </tr>\n",
       "    <tr>\n",
       "      <th>1</th>\n",
       "      <td>1.027946</td>\n",
       "      <td>-1.649237</td>\n",
       "      <td>0.713678</td>\n",
       "      <td>-0.653532</td>\n",
       "      <td>-1.634339</td>\n",
       "      <td>-0.924978</td>\n",
       "      <td>-0.106854</td>\n",
       "      <td>-0.462832</td>\n",
       "      <td>1.386573</td>\n",
       "      <td>0.903940</td>\n",
       "      <td>...</td>\n",
       "      <td>-0.04146</td>\n",
       "      <td>-0.11815</td>\n",
       "      <td>-0.229511</td>\n",
       "      <td>-0.061816</td>\n",
       "      <td>-0.061251</td>\n",
       "      <td>-0.075584</td>\n",
       "      <td>-0.094526</td>\n",
       "      <td>-0.046842</td>\n",
       "      <td>-0.061575</td>\n",
       "      <td>-0.058768</td>\n",
       "    </tr>\n",
       "    <tr>\n",
       "      <th>2</th>\n",
       "      <td>1.027946</td>\n",
       "      <td>0.417018</td>\n",
       "      <td>-1.049041</td>\n",
       "      <td>0.419176</td>\n",
       "      <td>0.547843</td>\n",
       "      <td>-0.253956</td>\n",
       "      <td>-0.106854</td>\n",
       "      <td>-0.462832</td>\n",
       "      <td>-0.770996</td>\n",
       "      <td>0.105557</td>\n",
       "      <td>...</td>\n",
       "      <td>-0.04146</td>\n",
       "      <td>-0.11815</td>\n",
       "      <td>-0.229511</td>\n",
       "      <td>-0.061816</td>\n",
       "      <td>-0.061251</td>\n",
       "      <td>-0.075584</td>\n",
       "      <td>-0.094526</td>\n",
       "      <td>-0.046842</td>\n",
       "      <td>-0.061575</td>\n",
       "      <td>-0.058768</td>\n",
       "    </tr>\n",
       "    <tr>\n",
       "      <th>3</th>\n",
       "      <td>-0.970668</td>\n",
       "      <td>-0.763699</td>\n",
       "      <td>0.713678</td>\n",
       "      <td>0.687353</td>\n",
       "      <td>0.044263</td>\n",
       "      <td>0.417066</td>\n",
       "      <td>-0.106854</td>\n",
       "      <td>-0.462832</td>\n",
       "      <td>-0.770996</td>\n",
       "      <td>-0.293634</td>\n",
       "      <td>...</td>\n",
       "      <td>-0.04146</td>\n",
       "      <td>-0.11815</td>\n",
       "      <td>-0.229511</td>\n",
       "      <td>-0.061816</td>\n",
       "      <td>-0.061251</td>\n",
       "      <td>-0.075584</td>\n",
       "      <td>-0.094526</td>\n",
       "      <td>-0.046842</td>\n",
       "      <td>-0.061575</td>\n",
       "      <td>-0.058768</td>\n",
       "    </tr>\n",
       "    <tr>\n",
       "      <th>4</th>\n",
       "      <td>-0.970668</td>\n",
       "      <td>-1.354058</td>\n",
       "      <td>2.182610</td>\n",
       "      <td>0.150999</td>\n",
       "      <td>-1.298619</td>\n",
       "      <td>-0.253956</td>\n",
       "      <td>-0.106854</td>\n",
       "      <td>-0.462832</td>\n",
       "      <td>-0.770996</td>\n",
       "      <td>0.504748</td>\n",
       "      <td>...</td>\n",
       "      <td>-0.04146</td>\n",
       "      <td>-0.11815</td>\n",
       "      <td>4.357090</td>\n",
       "      <td>-0.061816</td>\n",
       "      <td>-0.061251</td>\n",
       "      <td>-0.075584</td>\n",
       "      <td>-0.094526</td>\n",
       "      <td>-0.046842</td>\n",
       "      <td>-0.061575</td>\n",
       "      <td>-0.058768</td>\n",
       "    </tr>\n",
       "  </tbody>\n",
       "</table>\n",
       "<p>5 rows × 30 columns</p>\n",
       "</div>"
      ],
      "text/plain": [
       "        SEX      FAGE    GAINED    VISITS      MAGE    TOTALP     BDEAD  \\\n",
       "0  1.027946  0.417018 -0.314575 -0.653532  1.051424 -0.253956 -0.106854   \n",
       "1  1.027946 -1.649237  0.713678 -0.653532 -1.634339 -0.924978 -0.106854   \n",
       "2  1.027946  0.417018 -1.049041  0.419176  0.547843 -0.253956 -0.106854   \n",
       "3 -0.970668 -0.763699  0.713678  0.687353  0.044263  0.417066 -0.106854   \n",
       "4 -0.970668 -1.354058  2.182610  0.150999 -1.298619 -0.253956 -0.106854   \n",
       "\n",
       "      TERMS  LOUTCOME     WEEKS  ...  HEMOGLOB  HYPERCH   HYPERPR    ECLAMP  \\\n",
       "0 -0.462832 -0.770996 -1.491207  ...  -0.04146 -0.11815 -0.229511 -0.061816   \n",
       "1 -0.462832  1.386573  0.903940  ...  -0.04146 -0.11815 -0.229511 -0.061816   \n",
       "2 -0.462832 -0.770996  0.105557  ...  -0.04146 -0.11815 -0.229511 -0.061816   \n",
       "3 -0.462832 -0.770996 -0.293634  ...  -0.04146 -0.11815 -0.229511 -0.061816   \n",
       "4 -0.462832 -0.770996  0.504748  ...  -0.04146 -0.11815  4.357090 -0.061816   \n",
       "\n",
       "     CERVIX   PINFANT   PRETERM     RENAL     RHSEN   UTERINE  \n",
       "0 -0.061251 -0.075584 -0.094526 -0.046842 -0.061575 -0.058768  \n",
       "1 -0.061251 -0.075584 -0.094526 -0.046842 -0.061575 -0.058768  \n",
       "2 -0.061251 -0.075584 -0.094526 -0.046842 -0.061575 -0.058768  \n",
       "3 -0.061251 -0.075584 -0.094526 -0.046842 -0.061575 -0.058768  \n",
       "4 -0.061251 -0.075584 -0.094526 -0.046842 -0.061575 -0.058768  \n",
       "\n",
       "[5 rows x 30 columns]"
      ]
     },
     "execution_count": 11,
     "metadata": {},
     "output_type": "execute_result"
    }
   ],
   "source": [
    "X_std = pd.DataFrame(X_std, columns = X.columns)\n",
    "X_std.head()"
   ]
  },
  {
   "cell_type": "code",
   "execution_count": 12,
   "metadata": {
    "gather": {
     "logged": 1626851113698
    },
    "id": "r8ZX0fegGMIE"
   },
   "outputs": [
    {
     "data": {
      "text/plain": [
       "['./outputs/std_scaler_y.bin']"
      ]
     },
     "execution_count": 12,
     "metadata": {},
     "output_type": "execute_result"
    }
   ],
   "source": [
    "#To save scalers\n",
    "os.makedirs('outputs', exist_ok=True)\n",
    "dump(sc_X, './outputs/std_scaler_X.bin', compress=True)\n",
    "dump(sc_y, './outputs/std_scaler_y.bin', compress=True)"
   ]
  },
  {
   "cell_type": "code",
   "execution_count": 13,
   "metadata": {
    "colab": {
     "base_uri": "https://localhost:8080/"
    },
    "id": "4zWZmaLkrIae",
    "outputId": "a41d6198-b0b6-414d-d2d0-896151b7aa34"
   },
   "outputs": [
    {
     "name": "stdout",
     "output_type": "stream",
     "text": [
      "               SEX      FAGE    GAINED    VISITS      MAGE    TOTALP  \\\n",
      "SEX       1.000000 -0.001383 -0.029824  0.000475 -0.004593 -0.006945   \n",
      "FAGE     -0.001383  1.000000 -0.055416  0.100619  0.750074  0.282043   \n",
      "GAINED   -0.029824 -0.055416  1.000000  0.091973 -0.062252 -0.123318   \n",
      "VISITS    0.000475  0.100619  0.091973  1.000000  0.138458 -0.058236   \n",
      "MAGE     -0.004593  0.750074 -0.062252  0.138458  1.000000  0.348340   \n",
      "TOTALP   -0.006945  0.282043 -0.123318 -0.058236  0.348340  1.000000   \n",
      "BDEAD    -0.003890  0.040859 -0.015823 -0.000124  0.040497  0.166944   \n",
      "TERMS    -0.006555  0.126696 -0.012694  0.032781  0.171695  0.651354   \n",
      "LOUTCOME  0.004687 -0.255937  0.141953  0.050606 -0.303697 -0.631086   \n",
      "WEEKS     0.018815 -0.038116  0.098017  0.136121 -0.053401 -0.082212   \n",
      "RACEMOM   0.000686  0.051216 -0.029612 -0.015863  0.028325 -0.005291   \n",
      "RACEDAD   0.003727  0.032006 -0.028377 -0.012669  0.007115  0.002045   \n",
      "CIGNUM    0.001175 -0.037478 -0.011584 -0.056671 -0.077175  0.077844   \n",
      "DRINKNUM  0.000433  0.014737  0.001187 -0.013428  0.013221  0.018470   \n",
      "ANEMIA    0.009119 -0.022622 -0.004694 -0.039471 -0.026186  0.018098   \n",
      "CARDIAC   0.006264  0.011831 -0.000701  0.005190  0.014139  0.002735   \n",
      "ACLUNG    0.002588 -0.012613  0.001676 -0.016838 -0.017564  0.007163   \n",
      "DIABETES  0.000501  0.062800 -0.050173  0.056529  0.082295  0.047224   \n",
      "HERPES   -0.004529  0.017447  0.013836 -0.005063  0.015740  0.012620   \n",
      "HYDRAM    0.001713 -0.002528 -0.004185 -0.007633 -0.006013 -0.012317   \n",
      "HEMOGLOB  0.001187 -0.004338 -0.011292 -0.012718 -0.008484  0.012015   \n",
      "HYPERCH   0.003384  0.054330 -0.031150  0.025262  0.063762  0.026276   \n",
      "HYPERPR  -0.006445 -0.010430  0.059414  0.016096 -0.004131 -0.035673   \n",
      "ECLAMP   -0.004311 -0.002490  0.019534 -0.007458 -0.001404 -0.008284   \n",
      "CERVIX    0.000624  0.018673 -0.009036  0.016443  0.021701  0.036607   \n",
      "PINFANT  -0.000720  0.036807  0.009676 -0.003895  0.042554  0.062430   \n",
      "PRETERM  -0.002342  0.024458 -0.024123 -0.006673  0.024574  0.084700   \n",
      "RENAL     0.000076 -0.004383 -0.000447 -0.005545 -0.006746  0.000847   \n",
      "RHSEN     0.003531  0.001546  0.005285 -0.001136  0.001592 -0.001073   \n",
      "UTERINE  -0.003870  0.004551 -0.004833 -0.016686  0.007406  0.006205   \n",
      "\n",
      "             BDEAD     TERMS  LOUTCOME     WEEKS  ...  HEMOGLOB   HYPERCH  \\\n",
      "SEX      -0.003890 -0.006555  0.004687  0.018815  ...  0.001187  0.003384   \n",
      "FAGE      0.040859  0.126696 -0.255937 -0.038116  ... -0.004338  0.054330   \n",
      "GAINED   -0.015823 -0.012694  0.141953  0.098017  ... -0.011292 -0.031150   \n",
      "VISITS   -0.000124  0.032781  0.050606  0.136121  ... -0.012718  0.025262   \n",
      "MAGE      0.040497  0.171695 -0.303697 -0.053401  ... -0.008484  0.063762   \n",
      "TOTALP    0.166944  0.651354 -0.631086 -0.082212  ...  0.012015  0.026276   \n",
      "BDEAD     1.000000  0.039091 -0.073460 -0.051624  ... -0.002733  0.009080   \n",
      "TERMS     0.039091  1.000000 -0.252747 -0.052394  ...  0.014345  0.024373   \n",
      "LOUTCOME -0.073460 -0.252747  1.000000  0.065073  ...  0.000294 -0.014536   \n",
      "WEEKS    -0.051624 -0.052394  0.065073  1.000000  ... -0.002092 -0.051113   \n",
      "RACEMOM   0.006628 -0.000674  0.011798 -0.023094  ...  0.012881  0.002070   \n",
      "RACEDAD   0.006216  0.006855  0.007277 -0.020555  ...  0.016359  0.002660   \n",
      "CIGNUM    0.012901  0.056263 -0.048224 -0.010857  ...  0.002055  0.004846   \n",
      "DRINKNUM  0.012021  0.021681 -0.005766 -0.013814  ... -0.001108 -0.000306   \n",
      "ANEMIA   -0.001194  0.011697 -0.010337 -0.000625  ...  0.034470  0.006532   \n",
      "CARDIAC  -0.001582  0.004877 -0.000332 -0.003754  ...  0.004616  0.030008   \n",
      "ACLUNG    0.005252  0.017232  0.001391  0.005028  ...  0.013649  0.024305   \n",
      "DIABETES  0.011278  0.036609 -0.027167 -0.041465  ... -0.002337  0.087487   \n",
      "HERPES   -0.002194  0.028761 -0.008325  0.000386  ...  0.014328  0.008339   \n",
      "HYDRAM    0.000873  0.002805  0.020266 -0.025643  ...  0.000841  0.021978   \n",
      "HEMOGLOB -0.002733  0.014345  0.000294 -0.002092  ...  1.000000  0.005326   \n",
      "HYPERCH   0.009080  0.024373 -0.014536 -0.051113  ...  0.005326  1.000000   \n",
      "HYPERPR  -0.002613  0.006051  0.063541 -0.099930  ...  0.000320 -0.027117   \n",
      "ECLAMP    0.002521  0.001507  0.020020 -0.063605  ...  0.001306  0.020184   \n",
      "CERVIX    0.068287  0.046527 -0.017150 -0.081983  ...  0.001365  0.005246   \n",
      "PINFANT   0.014358  0.017969 -0.055444  0.006983  ...  0.000037  0.005710   \n",
      "PRETERM   0.065635  0.030977 -0.067939 -0.073432  ... -0.001376  0.020449   \n",
      "RENAL     0.002510 -0.000131  0.004459 -0.004489  ...  0.003156  0.008952   \n",
      "RHSEN     0.002583  0.005540 -0.002771 -0.002806  ...  0.005216  0.006522   \n",
      "UTERINE   0.006915  0.010550 -0.003574 -0.050261  ... -0.002437 -0.002608   \n",
      "\n",
      "           HYPERPR    ECLAMP    CERVIX   PINFANT   PRETERM     RENAL  \\\n",
      "SEX      -0.006445 -0.004311  0.000624 -0.000720 -0.002342  0.000076   \n",
      "FAGE     -0.010430 -0.002490  0.018673  0.036807  0.024458 -0.004383   \n",
      "GAINED    0.059414  0.019534 -0.009036  0.009676 -0.024123 -0.000447   \n",
      "VISITS    0.016096 -0.007458  0.016443 -0.003895 -0.006673 -0.005545   \n",
      "MAGE     -0.004131 -0.001404  0.021701  0.042554  0.024574 -0.006746   \n",
      "TOTALP   -0.035673 -0.008284  0.036607  0.062430  0.084700  0.000847   \n",
      "BDEAD    -0.002613  0.002521  0.068287  0.014358  0.065635  0.002510   \n",
      "TERMS     0.006051  0.001507  0.046527  0.017969  0.030977 -0.000131   \n",
      "LOUTCOME  0.063541  0.020020 -0.017150 -0.055444 -0.067939  0.004459   \n",
      "WEEKS    -0.099930 -0.063605 -0.081983  0.006983 -0.073432 -0.004489   \n",
      "RACEMOM  -0.018740 -0.005921  0.008322 -0.016525  0.005120 -0.010191   \n",
      "RACEDAD  -0.016318 -0.007683  0.005885 -0.014890  0.005420 -0.008917   \n",
      "CIGNUM   -0.002596 -0.003779 -0.000117 -0.009793  0.028003  0.002680   \n",
      "DRINKNUM -0.002867 -0.001652  0.000697 -0.000757  0.000514 -0.001252   \n",
      "ANEMIA    0.015222  0.002816 -0.000430  0.008139  0.016491  0.018329   \n",
      "CARDIAC   0.008644 -0.001577 -0.001518  0.007164  0.003532  0.006669   \n",
      "ACLUNG    0.016255  0.004033  0.001127  0.011842  0.016861  0.019008   \n",
      "DIABETES  0.054442  0.027975  0.008557  0.024917  0.020784  0.006678   \n",
      "HERPES    0.007596 -0.002778  0.003069  0.001877  0.008865  0.007784   \n",
      "HYDRAM    0.022459  0.004364 -0.002151  0.008130  0.018063  0.013486   \n",
      "HEMOGLOB  0.000320  0.001306  0.001365  0.000037 -0.001376  0.003156   \n",
      "HYPERCH  -0.027117  0.020184  0.005246  0.005710  0.020449  0.008952   \n",
      "HYPERPR   1.000000  0.082770  0.000767 -0.002903  0.010653  0.006669   \n",
      "ECLAMP    0.082770  1.000000  0.004087 -0.004672  0.006122 -0.002896   \n",
      "CERVIX    0.000767  0.004087  1.000000 -0.004630  0.063210  0.000589   \n",
      "PINFANT  -0.002903 -0.004672 -0.004630  1.000000  0.013865 -0.003540   \n",
      "PRETERM   0.010653  0.006122  0.063210  0.013865  1.000000  0.004581   \n",
      "RENAL     0.006669 -0.002896  0.000589 -0.003540  0.004581  1.000000   \n",
      "RHSEN     0.009464  0.001415 -0.001137  0.006042  0.001044  0.000555   \n",
      "UTERINE   0.005048 -0.000898  0.015717  0.004520  0.017810 -0.002753   \n",
      "\n",
      "             RHSEN   UTERINE  \n",
      "SEX       0.003531 -0.003870  \n",
      "FAGE      0.001546  0.004551  \n",
      "GAINED    0.005285 -0.004833  \n",
      "VISITS   -0.001136 -0.016686  \n",
      "MAGE      0.001592  0.007406  \n",
      "TOTALP   -0.001073  0.006205  \n",
      "BDEAD     0.002583  0.006915  \n",
      "TERMS     0.005540  0.010550  \n",
      "LOUTCOME -0.002771 -0.003574  \n",
      "WEEKS    -0.002806 -0.050261  \n",
      "RACEMOM  -0.014556  0.000415  \n",
      "RACEDAD  -0.014386  0.000207  \n",
      "CIGNUM    0.012092  0.001845  \n",
      "DRINKNUM  0.000676  0.012207  \n",
      "ANEMIA    0.019404  0.013245  \n",
      "CARDIAC   0.000919  0.003925  \n",
      "ACLUNG    0.004101  0.004906  \n",
      "DIABETES  0.007494  0.003258  \n",
      "HERPES    0.007265  0.005270  \n",
      "HYDRAM    0.003109  0.005352  \n",
      "HEMOGLOB  0.005216 -0.002437  \n",
      "HYPERCH   0.006522 -0.002608  \n",
      "HYPERPR   0.009464  0.005048  \n",
      "ECLAMP    0.001415 -0.000898  \n",
      "CERVIX   -0.001137  0.015717  \n",
      "PINFANT   0.006042  0.004520  \n",
      "PRETERM   0.001044  0.017810  \n",
      "RENAL     0.000555 -0.002753  \n",
      "RHSEN     1.000000  0.004617  \n",
      "UTERINE   0.004617  1.000000  \n",
      "\n",
      "[30 rows x 30 columns]\n"
     ]
    }
   ],
   "source": [
    "corrMatrix = X_std.corr()\n",
    "print (corrMatrix)"
   ]
  },
  {
   "cell_type": "code",
   "execution_count": 14,
   "metadata": {
    "colab": {
     "base_uri": "https://localhost:8080/",
     "height": 317
    },
    "id": "0AsdFk7rrSOa",
    "outputId": "545ec71a-614b-4d79-ad10-da8a244c963b"
   },
   "outputs": [
    {
     "data": {
      "image/png": "[encoded data removed]",
      "text/plain": [
       "<Figure size 432x288 with 2 Axes>"
      ]
     },
     "metadata": {
      "needs_background": "light"
     },
     "output_type": "display_data"
    }
   ],
   "source": [
    "sn.heatmap(corrMatrix)\n",
    "plt.show()"
   ]
  },
  {
   "cell_type": "markdown",
   "metadata": {
    "id": "QlLL6VlFuUSM"
   },
   "source": [
    "### Dropping high correlated features"
   ]
  },
  {
   "cell_type": "code",
   "execution_count": 15,
   "metadata": {
    "colab": {
     "base_uri": "https://localhost:8080/"
    },
    "id": "x8x_2MEorg2G",
    "outputId": "17d5ae40-cda9-4b28-e74d-fa3d424d8a98"
   },
   "outputs": [
    {
     "name": "stdout",
     "output_type": "stream",
     "text": [
      "['MAGE', 'RACEDAD']\n"
     ]
    }
   ],
   "source": [
    "corr_abs = corrMatrix.abs()\n",
    "upper_tri = corr_abs.where(np.triu(np.ones(corr_abs.shape),k=1).astype(np.bool))\n",
    "to_drop = [column for column in upper_tri.columns if any(upper_tri[column] > 0.7)]\n",
    "print(to_drop)"
   ]
  },
  {
   "cell_type": "code",
   "execution_count": 16,
   "metadata": {
    "id": "bGT7mQ8Dwm4S"
   },
   "outputs": [],
   "source": [
    "#data_std.drop(to_drop, inplace=True, axis=1, errors='ignore')\n",
    "#data_std.columns"
   ]
  },
  {
   "cell_type": "markdown",
   "metadata": {
    "id": "DSzykMuywxQi"
   },
   "source": [
    "## Split the data"
   ]
  },
  {
   "cell_type": "code",
   "execution_count": 17,
   "metadata": {
    "collapsed": false,
    "gather": {
     "logged": 1626851189365
    },
    "jupyter": {
     "outputs_hidden": false,
     "source_hidden": false
    },
    "nteract": {
     "transient": {
      "deleting": false
     }
    }
   },
   "outputs": [],
   "source": [
    "# split into train and test sets\n",
    "X_train, X_test, y_train, y_test = train_test_split(X_std, y_std, test_size=0.3, random_state=42)\n",
    "X_test, X_validate, y_test, y_validate = train_test_split(X_test, y_test, test_size=0.5, random_state=42)\n",
    "\n",
    "\n",
    "X_validate.to_json('./inputs/X_validation_data.json', orient=\"split\")\n",
    "y_validate.to_json('./inputs/y_validation_data.json', orient=\"split\")"
   ]
  },
  {
   "cell_type": "markdown",
   "metadata": {
    "id": "O3DQAG0ZyUS4"
   },
   "source": [
    "## Model Training"
   ]
  },
  {
   "cell_type": "code",
   "execution_count": 18,
   "metadata": {},
   "outputs": [],
   "source": [
    "from azureml.core import Workspace\n",
    "\n",
    "ws = Workspace.get(name='demo-aml',subscription_id='YOUR-SUSCRIPTION-ID',resource_group='demo-aml')"
   ]
  },
  {
   "cell_type": "code",
   "execution_count": 19,
   "metadata": {
    "nteract": {
     "transient": {
      "deleting": false
     }
    }
   },
   "outputs": [],
   "source": [
    "from azureml.core import Experiment\n",
    "\n",
    "experiment_name = 'BABY-WEIGHT-EXP'\n",
    "exp = Experiment(workspace=ws, name=experiment_name)"
   ]
  },
  {
   "cell_type": "markdown",
   "metadata": {
    "id": "LvWCPNYmyaTZ"
   },
   "source": [
    "### Model1: Simple Regresion"
   ]
  },
  {
   "cell_type": "code",
   "execution_count": 20,
   "metadata": {},
   "outputs": [],
   "source": [
    "run = exp.start_logging()"
   ]
  },
  {
   "cell_type": "code",
   "execution_count": 21,
   "metadata": {
    "colab": {
     "base_uri": "https://localhost:8080/"
    },
    "id": "gWrEY6ADCvFR",
    "outputId": "b55db2dc-ce15-4a79-e01e-1698310f2d3b"
   },
   "outputs": [
    {
     "data": {
      "text/plain": [
       "LinearRegression(copy_X=True, fit_intercept=True, n_jobs=None, normalize=False)"
      ]
     },
     "execution_count": 21,
     "metadata": {},
     "output_type": "execute_result"
    }
   ],
   "source": [
    "# define the model\n",
    "model1 = LinearRegression()\n",
    "# fit the model\n",
    "model1.fit(X_train, y_train)"
   ]
  },
  {
   "cell_type": "markdown",
   "metadata": {
    "id": "ETBcQ2tjvSC8"
   },
   "source": [
    "#### Features importance"
   ]
  },
  {
   "cell_type": "code",
   "execution_count": 22,
   "metadata": {
    "colab": {
     "base_uri": "https://localhost:8080/",
     "height": 979
    },
    "id": "tRCX4x-DAXW9",
    "outputId": "8b8c1694-d493-470b-c0b0-0b1b6bb2994c"
   },
   "outputs": [
    {
     "data": {
      "text/html": [
       "<div>\n",
       "<style scoped>\n",
       "    .dataframe tbody tr th:only-of-type {\n",
       "        vertical-align: middle;\n",
       "    }\n",
       "\n",
       "    .dataframe tbody tr th {\n",
       "        vertical-align: top;\n",
       "    }\n",
       "\n",
       "    .dataframe thead th {\n",
       "        text-align: right;\n",
       "    }\n",
       "</style>\n",
       "<table border=\"1\" class=\"dataframe\">\n",
       "  <thead>\n",
       "    <tr style=\"text-align: right;\">\n",
       "      <th></th>\n",
       "      <th>coefficient</th>\n",
       "    </tr>\n",
       "  </thead>\n",
       "  <tbody>\n",
       "    <tr>\n",
       "      <th>SEX</th>\n",
       "      <td>-0.100776</td>\n",
       "    </tr>\n",
       "    <tr>\n",
       "      <th>CIGNUM</th>\n",
       "      <td>-0.081634</td>\n",
       "    </tr>\n",
       "    <tr>\n",
       "      <th>HYPERPR</th>\n",
       "      <td>-0.058261</td>\n",
       "    </tr>\n",
       "    <tr>\n",
       "      <th>LOUTCOME</th>\n",
       "      <td>-0.055033</td>\n",
       "    </tr>\n",
       "    <tr>\n",
       "      <th>RACEDAD</th>\n",
       "      <td>-0.043628</td>\n",
       "    </tr>\n",
       "    <tr>\n",
       "      <th>TERMS</th>\n",
       "      <td>-0.040966</td>\n",
       "    </tr>\n",
       "    <tr>\n",
       "      <th>RACEMOM</th>\n",
       "      <td>-0.034825</td>\n",
       "    </tr>\n",
       "    <tr>\n",
       "      <th>HYDRAM</th>\n",
       "      <td>-0.031763</td>\n",
       "    </tr>\n",
       "    <tr>\n",
       "      <th>ECLAMP</th>\n",
       "      <td>-0.030900</td>\n",
       "    </tr>\n",
       "    <tr>\n",
       "      <th>PRETERM</th>\n",
       "      <td>-0.029105</td>\n",
       "    </tr>\n",
       "    <tr>\n",
       "      <th>HYPERCH</th>\n",
       "      <td>-0.017967</td>\n",
       "    </tr>\n",
       "    <tr>\n",
       "      <th>CERVIX</th>\n",
       "      <td>-0.017530</td>\n",
       "    </tr>\n",
       "    <tr>\n",
       "      <th>UTERINE</th>\n",
       "      <td>-0.014628</td>\n",
       "    </tr>\n",
       "    <tr>\n",
       "      <th>BDEAD</th>\n",
       "      <td>-0.014154</td>\n",
       "    </tr>\n",
       "    <tr>\n",
       "      <th>HEMOGLOB</th>\n",
       "      <td>-0.005955</td>\n",
       "    </tr>\n",
       "    <tr>\n",
       "      <th>RENAL</th>\n",
       "      <td>-0.004383</td>\n",
       "    </tr>\n",
       "    <tr>\n",
       "      <th>HERPES</th>\n",
       "      <td>-0.002678</td>\n",
       "    </tr>\n",
       "    <tr>\n",
       "      <th>ACLUNG</th>\n",
       "      <td>-0.001936</td>\n",
       "    </tr>\n",
       "    <tr>\n",
       "      <th>DRINKNUM</th>\n",
       "      <td>-0.001469</td>\n",
       "    </tr>\n",
       "    <tr>\n",
       "      <th>ANEMIA</th>\n",
       "      <td>-0.001160</td>\n",
       "    </tr>\n",
       "    <tr>\n",
       "      <th>FAGE</th>\n",
       "      <td>0.000695</td>\n",
       "    </tr>\n",
       "    <tr>\n",
       "      <th>CARDIAC</th>\n",
       "      <td>0.001225</td>\n",
       "    </tr>\n",
       "    <tr>\n",
       "      <th>RHSEN</th>\n",
       "      <td>0.002957</td>\n",
       "    </tr>\n",
       "    <tr>\n",
       "      <th>VISITS</th>\n",
       "      <td>0.033414</td>\n",
       "    </tr>\n",
       "    <tr>\n",
       "      <th>DIABETES</th>\n",
       "      <td>0.038510</td>\n",
       "    </tr>\n",
       "    <tr>\n",
       "      <th>TOTALP</th>\n",
       "      <td>0.039443</td>\n",
       "    </tr>\n",
       "    <tr>\n",
       "      <th>PINFANT</th>\n",
       "      <td>0.049585</td>\n",
       "    </tr>\n",
       "    <tr>\n",
       "      <th>MAGE</th>\n",
       "      <td>0.066804</td>\n",
       "    </tr>\n",
       "    <tr>\n",
       "      <th>GAINED</th>\n",
       "      <td>0.129245</td>\n",
       "    </tr>\n",
       "    <tr>\n",
       "      <th>WEEKS</th>\n",
       "      <td>0.543238</td>\n",
       "    </tr>\n",
       "  </tbody>\n",
       "</table>\n",
       "</div>"
      ],
      "text/plain": [
       "          coefficient\n",
       "SEX         -0.100776\n",
       "CIGNUM      -0.081634\n",
       "HYPERPR     -0.058261\n",
       "LOUTCOME    -0.055033\n",
       "RACEDAD     -0.043628\n",
       "TERMS       -0.040966\n",
       "RACEMOM     -0.034825\n",
       "HYDRAM      -0.031763\n",
       "ECLAMP      -0.030900\n",
       "PRETERM     -0.029105\n",
       "HYPERCH     -0.017967\n",
       "CERVIX      -0.017530\n",
       "UTERINE     -0.014628\n",
       "BDEAD       -0.014154\n",
       "HEMOGLOB    -0.005955\n",
       "RENAL       -0.004383\n",
       "HERPES      -0.002678\n",
       "ACLUNG      -0.001936\n",
       "DRINKNUM    -0.001469\n",
       "ANEMIA      -0.001160\n",
       "FAGE         0.000695\n",
       "CARDIAC      0.001225\n",
       "RHSEN        0.002957\n",
       "VISITS       0.033414\n",
       "DIABETES     0.038510\n",
       "TOTALP       0.039443\n",
       "PINFANT      0.049585\n",
       "MAGE         0.066804\n",
       "GAINED       0.129245\n",
       "WEEKS        0.543238"
      ]
     },
     "execution_count": 22,
     "metadata": {},
     "output_type": "execute_result"
    }
   ],
   "source": [
    "features = pd.DataFrame(np.transpose(model1.coef_), index=X_train.columns, columns=['coefficient'])\n",
    "features.sort_values(by='coefficient')"
   ]
  },
  {
   "cell_type": "code",
   "execution_count": 23,
   "metadata": {
    "colab": {
     "base_uri": "https://localhost:8080/",
     "height": 265
    },
    "id": "eXdR3pmIBHoY",
    "outputId": "747a6aeb-11c5-4c51-fb05-a192928300d2"
   },
   "outputs": [
    {
     "data": {
      "image/png": "[encoded data removed]",
      "text/plain": [
       "<Figure size 432x288 with 1 Axes>"
      ]
     },
     "metadata": {
      "needs_background": "light"
     },
     "output_type": "display_data"
    }
   ],
   "source": [
    "plt.bar(features.index, features.coefficient)\n",
    "run.log_image(name='features_model1', plot=plt)\n",
    "plt.show()"
   ]
  },
  {
   "cell_type": "code",
   "execution_count": 24,
   "metadata": {},
   "outputs": [],
   "source": [
    "os.makedirs('tmp', exist_ok=True)\n",
    "features.to_csv('./tmp/features_model1.txt',index=None)"
   ]
  },
  {
   "cell_type": "markdown",
   "metadata": {
    "id": "edbu5rPYvYW8"
   },
   "source": [
    "#### Evaluation"
   ]
  },
  {
   "cell_type": "code",
   "execution_count": 25,
   "metadata": {
    "colab": {
     "base_uri": "https://localhost:8080/"
    },
    "id": "bR2dMGi_zADW",
    "outputId": "8f8ea6c7-fc0f-4c4b-f5fe-ebabef3328fb"
   },
   "outputs": [
    {
     "name": "stdout",
     "output_type": "stream",
     "text": [
      "MSE: 0.618\n",
      "MAE: 0.614\n",
      "R2: 0.390\n"
     ]
    }
   ],
   "source": [
    "yhat = model1.predict(X_test)\n",
    "# evaluate predictions\n",
    "mse = mean_squared_error(y_test, yhat)\n",
    "mae = mean_absolute_error(y_test, yhat)\n",
    "#map = mean_absolute_percentage_error(y_test, yhat)\n",
    "r2 = r2_score(y_test, yhat)\n",
    "print('MSE: %.3f' % mse)\n",
    "run.log('MSE', mse)\n",
    "print('MAE: %.3f' % mae)\n",
    "run.log('MAE', mae)\n",
    "print('R2: %.3f' % r2)\n",
    "run.log('R2',r2)"
   ]
  },
  {
   "cell_type": "code",
   "execution_count": 26,
   "metadata": {
    "colab": {
     "base_uri": "https://localhost:8080/",
     "height": 204
    },
    "id": "q08xD7CturIr",
    "outputId": "ab6d1700-99ac-4116-8a16-b95fb68b7988"
   },
   "outputs": [
    {
     "data": {
      "text/html": [
       "<div>\n",
       "<style scoped>\n",
       "    .dataframe tbody tr th:only-of-type {\n",
       "        vertical-align: middle;\n",
       "    }\n",
       "\n",
       "    .dataframe tbody tr th {\n",
       "        vertical-align: top;\n",
       "    }\n",
       "\n",
       "    .dataframe thead th {\n",
       "        text-align: right;\n",
       "    }\n",
       "</style>\n",
       "<table border=\"1\" class=\"dataframe\">\n",
       "  <thead>\n",
       "    <tr style=\"text-align: right;\">\n",
       "      <th></th>\n",
       "      <th>y_hat</th>\n",
       "      <th>y_test</th>\n",
       "      <th>y_hat_kg</th>\n",
       "      <th>y_test_kg</th>\n",
       "    </tr>\n",
       "  </thead>\n",
       "  <tbody>\n",
       "    <tr>\n",
       "      <th>0</th>\n",
       "      <td>7.522103</td>\n",
       "      <td>7.8750</td>\n",
       "      <td>3.415035</td>\n",
       "      <td>3.575250</td>\n",
       "    </tr>\n",
       "    <tr>\n",
       "      <th>1</th>\n",
       "      <td>7.639178</td>\n",
       "      <td>7.6250</td>\n",
       "      <td>3.468187</td>\n",
       "      <td>3.461750</td>\n",
       "    </tr>\n",
       "    <tr>\n",
       "      <th>2</th>\n",
       "      <td>5.962541</td>\n",
       "      <td>7.1875</td>\n",
       "      <td>2.706994</td>\n",
       "      <td>3.263125</td>\n",
       "    </tr>\n",
       "    <tr>\n",
       "      <th>3</th>\n",
       "      <td>6.433820</td>\n",
       "      <td>6.4375</td>\n",
       "      <td>2.920954</td>\n",
       "      <td>2.922625</td>\n",
       "    </tr>\n",
       "    <tr>\n",
       "      <th>4</th>\n",
       "      <td>7.364349</td>\n",
       "      <td>7.4375</td>\n",
       "      <td>3.343414</td>\n",
       "      <td>3.376625</td>\n",
       "    </tr>\n",
       "  </tbody>\n",
       "</table>\n",
       "</div>"
      ],
      "text/plain": [
       "      y_hat  y_test  y_hat_kg  y_test_kg\n",
       "0  7.522103  7.8750  3.415035   3.575250\n",
       "1  7.639178  7.6250  3.468187   3.461750\n",
       "2  5.962541  7.1875  2.706994   3.263125\n",
       "3  6.433820  6.4375  2.920954   2.922625\n",
       "4  7.364349  7.4375  3.343414   3.376625"
      ]
     },
     "execution_count": 26,
     "metadata": {},
     "output_type": "execute_result"
    }
   ],
   "source": [
    "df1 = pd.DataFrame(sc_y.inverse_transform(yhat), columns=['y_hat'])\n",
    "df2 = pd.DataFrame(sc_y.inverse_transform(y_test), columns=['y_test'])\n",
    "df = pd.concat([df1, df2], axis=1)\n",
    "#Pounds to kilograms\n",
    "df['y_hat_kg'] = df['y_hat'].apply(lambda x: x * .454)\n",
    "df['y_test_kg'] = df['y_test'].apply(lambda x: x * .454)\n",
    "df.head()"
   ]
  },
  {
   "cell_type": "code",
   "execution_count": 27,
   "metadata": {
    "colab": {
     "base_uri": "https://localhost:8080/",
     "height": 281
    },
    "id": "rSXb7Ixbukw4",
    "outputId": "89512c42-025c-42c8-c5f4-b3c46ffa6503"
   },
   "outputs": [
    {
     "data": {
      "image/png": "[encoded data removed]",
      "text/plain": [
       "<Figure size 432x288 with 1 Axes>"
      ]
     },
     "metadata": {
      "needs_background": "light"
     },
     "output_type": "display_data"
    }
   ],
   "source": [
    "plt.scatter(df.index, df['y_test_kg'], color = 'red', label = 'Real data')\n",
    "plt.scatter(df.index, df['y_hat_kg'], color = 'blue', label = 'Predicted data')\n",
    "plt.title('Prediction')\n",
    "plt.legend()\n",
    "run.log_image(name='prediction_model1', plot=plt)\n",
    "plt.show()"
   ]
  },
  {
   "cell_type": "code",
   "execution_count": 28,
   "metadata": {},
   "outputs": [
    {
     "data": {
      "text/plain": [
       "['./tmp/model1.pkl']"
      ]
     },
     "execution_count": 28,
     "metadata": {},
     "output_type": "execute_result"
    }
   ],
   "source": [
    "#Save model\n",
    "dump(value=model1, filename='./tmp/model1.pkl')"
   ]
  },
  {
   "cell_type": "code",
   "execution_count": 29,
   "metadata": {},
   "outputs": [],
   "source": [
    "tags = { \"Model\": 'BABY-WEIGHT',\n",
    "        \"Type\": 'Simple Linear Regresion',\n",
    "        \"User\": 'alejandra.taborda-londono@capgemini.com'}\n",
    "run.set_tags(tags)"
   ]
  },
  {
   "cell_type": "code",
   "execution_count": 30,
   "metadata": {},
   "outputs": [],
   "source": [
    "run.complete()"
   ]
  },
  {
   "cell_type": "markdown",
   "metadata": {
    "id": "_PFn4_Ip0Lj_"
   },
   "source": [
    "### Model2: ElacticNet"
   ]
  },
  {
   "cell_type": "code",
   "execution_count": 31,
   "metadata": {},
   "outputs": [],
   "source": [
    "run = exp.start_logging()"
   ]
  },
  {
   "cell_type": "code",
   "execution_count": 32,
   "metadata": {
    "colab": {
     "base_uri": "https://localhost:8080/",
     "height": 979
    },
    "id": "PIhQV8Gs0JHC",
    "outputId": "b80195e5-a299-4f87-e843-8ebf3a591a0e"
   },
   "outputs": [
    {
     "data": {
      "text/plain": [
       "ElasticNet(alpha=0.05, copy_X=True, fit_intercept=True, l1_ratio=0.5,\n",
       "           max_iter=1000, normalize=False, positive=False, precompute=False,\n",
       "           random_state=None, selection='cyclic', tol=0.0001, warm_start=False)"
      ]
     },
     "execution_count": 32,
     "metadata": {},
     "output_type": "execute_result"
    }
   ],
   "source": [
    "from sklearn.linear_model import ElasticNet\n",
    "# define the model\n",
    "model2 = ElasticNet(alpha=0.05)\n",
    "# fit the model\n",
    "model2.fit(X_train, y_train)"
   ]
  },
  {
   "cell_type": "markdown",
   "metadata": {
    "id": "pwaJsrg6wSAX"
   },
   "source": [
    "#### Features importance"
   ]
  },
  {
   "cell_type": "code",
   "execution_count": 33,
   "metadata": {
    "id": "7-IzCYPHv7sg"
   },
   "outputs": [
    {
     "data": {
      "text/html": [
       "<div>\n",
       "<style scoped>\n",
       "    .dataframe tbody tr th:only-of-type {\n",
       "        vertical-align: middle;\n",
       "    }\n",
       "\n",
       "    .dataframe tbody tr th {\n",
       "        vertical-align: top;\n",
       "    }\n",
       "\n",
       "    .dataframe thead th {\n",
       "        text-align: right;\n",
       "    }\n",
       "</style>\n",
       "<table border=\"1\" class=\"dataframe\">\n",
       "  <thead>\n",
       "    <tr style=\"text-align: right;\">\n",
       "      <th></th>\n",
       "      <th>coefficient</th>\n",
       "    </tr>\n",
       "  </thead>\n",
       "  <tbody>\n",
       "    <tr>\n",
       "      <th>SEX</th>\n",
       "      <td>-0.074473</td>\n",
       "    </tr>\n",
       "    <tr>\n",
       "      <th>CIGNUM</th>\n",
       "      <td>-0.056366</td>\n",
       "    </tr>\n",
       "    <tr>\n",
       "      <th>LOUTCOME</th>\n",
       "      <td>-0.041040</td>\n",
       "    </tr>\n",
       "    <tr>\n",
       "      <th>HYPERPR</th>\n",
       "      <td>-0.035655</td>\n",
       "    </tr>\n",
       "    <tr>\n",
       "      <th>RACEDAD</th>\n",
       "      <td>-0.030151</td>\n",
       "    </tr>\n",
       "    <tr>\n",
       "      <th>RACEMOM</th>\n",
       "      <td>-0.019724</td>\n",
       "    </tr>\n",
       "    <tr>\n",
       "      <th>ECLAMP</th>\n",
       "      <td>-0.009709</td>\n",
       "    </tr>\n",
       "    <tr>\n",
       "      <th>HYDRAM</th>\n",
       "      <td>-0.008780</td>\n",
       "    </tr>\n",
       "    <tr>\n",
       "      <th>PRETERM</th>\n",
       "      <td>-0.006672</td>\n",
       "    </tr>\n",
       "    <tr>\n",
       "      <th>RENAL</th>\n",
       "      <td>-0.000000</td>\n",
       "    </tr>\n",
       "    <tr>\n",
       "      <th>CERVIX</th>\n",
       "      <td>-0.000000</td>\n",
       "    </tr>\n",
       "    <tr>\n",
       "      <th>HYPERCH</th>\n",
       "      <td>-0.000000</td>\n",
       "    </tr>\n",
       "    <tr>\n",
       "      <th>HEMOGLOB</th>\n",
       "      <td>-0.000000</td>\n",
       "    </tr>\n",
       "    <tr>\n",
       "      <th>HERPES</th>\n",
       "      <td>-0.000000</td>\n",
       "    </tr>\n",
       "    <tr>\n",
       "      <th>ACLUNG</th>\n",
       "      <td>-0.000000</td>\n",
       "    </tr>\n",
       "    <tr>\n",
       "      <th>ANEMIA</th>\n",
       "      <td>-0.000000</td>\n",
       "    </tr>\n",
       "    <tr>\n",
       "      <th>RHSEN</th>\n",
       "      <td>0.000000</td>\n",
       "    </tr>\n",
       "    <tr>\n",
       "      <th>DRINKNUM</th>\n",
       "      <td>-0.000000</td>\n",
       "    </tr>\n",
       "    <tr>\n",
       "      <th>TERMS</th>\n",
       "      <td>-0.000000</td>\n",
       "    </tr>\n",
       "    <tr>\n",
       "      <th>BDEAD</th>\n",
       "      <td>-0.000000</td>\n",
       "    </tr>\n",
       "    <tr>\n",
       "      <th>TOTALP</th>\n",
       "      <td>0.000000</td>\n",
       "    </tr>\n",
       "    <tr>\n",
       "      <th>FAGE</th>\n",
       "      <td>0.000000</td>\n",
       "    </tr>\n",
       "    <tr>\n",
       "      <th>CARDIAC</th>\n",
       "      <td>0.000000</td>\n",
       "    </tr>\n",
       "    <tr>\n",
       "      <th>UTERINE</th>\n",
       "      <td>-0.000000</td>\n",
       "    </tr>\n",
       "    <tr>\n",
       "      <th>DIABETES</th>\n",
       "      <td>0.008079</td>\n",
       "    </tr>\n",
       "    <tr>\n",
       "      <th>VISITS</th>\n",
       "      <td>0.015517</td>\n",
       "    </tr>\n",
       "    <tr>\n",
       "      <th>PINFANT</th>\n",
       "      <td>0.028084</td>\n",
       "    </tr>\n",
       "    <tr>\n",
       "      <th>MAGE</th>\n",
       "      <td>0.053480</td>\n",
       "    </tr>\n",
       "    <tr>\n",
       "      <th>GAINED</th>\n",
       "      <td>0.099114</td>\n",
       "    </tr>\n",
       "    <tr>\n",
       "      <th>WEEKS</th>\n",
       "      <td>0.517369</td>\n",
       "    </tr>\n",
       "  </tbody>\n",
       "</table>\n",
       "</div>"
      ],
      "text/plain": [
       "          coefficient\n",
       "SEX         -0.074473\n",
       "CIGNUM      -0.056366\n",
       "LOUTCOME    -0.041040\n",
       "HYPERPR     -0.035655\n",
       "RACEDAD     -0.030151\n",
       "RACEMOM     -0.019724\n",
       "ECLAMP      -0.009709\n",
       "HYDRAM      -0.008780\n",
       "PRETERM     -0.006672\n",
       "RENAL       -0.000000\n",
       "CERVIX      -0.000000\n",
       "HYPERCH     -0.000000\n",
       "HEMOGLOB    -0.000000\n",
       "HERPES      -0.000000\n",
       "ACLUNG      -0.000000\n",
       "ANEMIA      -0.000000\n",
       "RHSEN        0.000000\n",
       "DRINKNUM    -0.000000\n",
       "TERMS       -0.000000\n",
       "BDEAD       -0.000000\n",
       "TOTALP       0.000000\n",
       "FAGE         0.000000\n",
       "CARDIAC      0.000000\n",
       "UTERINE     -0.000000\n",
       "DIABETES     0.008079\n",
       "VISITS       0.015517\n",
       "PINFANT      0.028084\n",
       "MAGE         0.053480\n",
       "GAINED       0.099114\n",
       "WEEKS        0.517369"
      ]
     },
     "execution_count": 33,
     "metadata": {},
     "output_type": "execute_result"
    }
   ],
   "source": [
    "# get importance\n",
    "intercept = model2.intercept_\n",
    "features = pd.DataFrame(np.transpose(model2.coef_), index=X_train.columns, columns=['coefficient'])\n",
    "features.sort_values(by='coefficient')"
   ]
  },
  {
   "cell_type": "code",
   "execution_count": 34,
   "metadata": {
    "colab": {
     "base_uri": "https://localhost:8080/",
     "height": 265
    },
    "id": "jkzk7_3D0NbM",
    "outputId": "f621cc9f-cf9e-4ca7-99c2-a869b7acd543"
   },
   "outputs": [
    {
     "data": {
      "image/png": "[encoded data removed]",
      "text/plain": [
       "<Figure size 432x288 with 1 Axes>"
      ]
     },
     "metadata": {
      "needs_background": "light"
     },
     "output_type": "display_data"
    }
   ],
   "source": [
    "plt.bar(features.index, features.coefficient)\n",
    "run.log_image(name='features_model2', plot=plt)\n",
    "plt.show()"
   ]
  },
  {
   "cell_type": "code",
   "execution_count": 35,
   "metadata": {
    "colab": {
     "base_uri": "https://localhost:8080/"
    },
    "id": "DuLWxovWU5eY",
    "outputId": "f010150e-13e0-4eb3-8eb0-a3fa6d5ca403"
   },
   "outputs": [
    {
     "data": {
      "text/plain": [
       "['FAGE',\n",
       " 'TOTALP',\n",
       " 'BDEAD',\n",
       " 'TERMS',\n",
       " 'DRINKNUM',\n",
       " 'ANEMIA',\n",
       " 'CARDIAC',\n",
       " 'ACLUNG',\n",
       " 'HERPES',\n",
       " 'HEMOGLOB',\n",
       " 'HYPERCH',\n",
       " 'CERVIX',\n",
       " 'RENAL',\n",
       " 'RHSEN',\n",
       " 'UTERINE']"
      ]
     },
     "execution_count": 35,
     "metadata": {},
     "output_type": "execute_result"
    }
   ],
   "source": [
    "to_drop2 = features.index[features['coefficient'] == 0.0].tolist()\n",
    "to_drop2"
   ]
  },
  {
   "cell_type": "code",
   "execution_count": 36,
   "metadata": {},
   "outputs": [],
   "source": [
    "features.to_csv('./tmp/features_model2.txt',index=None)"
   ]
  },
  {
   "cell_type": "code",
   "execution_count": 37,
   "metadata": {
    "colab": {
     "base_uri": "https://localhost:8080/"
    },
    "id": "QLmOeyVU0MvQ",
    "outputId": "f2aa2810-4931-4e09-807c-b7283dabd3af"
   },
   "outputs": [
    {
     "name": "stdout",
     "output_type": "stream",
     "text": [
      "MSE: 0.633\n",
      "MAE: 0.621\n",
      "R2: 0.375\n"
     ]
    }
   ],
   "source": [
    "# evaluate the model\n",
    "yhat = model2.predict(X_test)\n",
    "# evaluate predictions\n",
    "mse = mean_squared_error(y_test, yhat)\n",
    "mae = mean_absolute_error(y_test, yhat)\n",
    "#map = mean_absolute_percentage_error(y_test, yhat)\n",
    "r2 = r2_score(y_test, yhat)\n",
    "print('MSE: %.3f' % mse)\n",
    "run.log('MSE', mse)\n",
    "print('MAE: %.3f' % mae)\n",
    "run.log('MAE', mae)\n",
    "print('R2: %.3f' % r2)\n",
    "run.log('R2',r2)"
   ]
  },
  {
   "cell_type": "code",
   "execution_count": 38,
   "metadata": {
    "colab": {
     "base_uri": "https://localhost:8080/",
     "height": 204
    },
    "id": "iF_oC4e9Os83",
    "outputId": "4545ffcf-ad38-47ab-d462-e301a18fea07"
   },
   "outputs": [
    {
     "data": {
      "text/html": [
       "<div>\n",
       "<style scoped>\n",
       "    .dataframe tbody tr th:only-of-type {\n",
       "        vertical-align: middle;\n",
       "    }\n",
       "\n",
       "    .dataframe tbody tr th {\n",
       "        vertical-align: top;\n",
       "    }\n",
       "\n",
       "    .dataframe thead th {\n",
       "        text-align: right;\n",
       "    }\n",
       "</style>\n",
       "<table border=\"1\" class=\"dataframe\">\n",
       "  <thead>\n",
       "    <tr style=\"text-align: right;\">\n",
       "      <th></th>\n",
       "      <th>y_hat</th>\n",
       "      <th>y_test</th>\n",
       "      <th>y_hat_kg</th>\n",
       "      <th>y_test_kg</th>\n",
       "    </tr>\n",
       "  </thead>\n",
       "  <tbody>\n",
       "    <tr>\n",
       "      <th>0</th>\n",
       "      <td>7.481452</td>\n",
       "      <td>7.8750</td>\n",
       "      <td>3.396579</td>\n",
       "      <td>3.575250</td>\n",
       "    </tr>\n",
       "    <tr>\n",
       "      <th>1</th>\n",
       "      <td>7.519333</td>\n",
       "      <td>7.6250</td>\n",
       "      <td>3.413777</td>\n",
       "      <td>3.461750</td>\n",
       "    </tr>\n",
       "    <tr>\n",
       "      <th>2</th>\n",
       "      <td>6.126524</td>\n",
       "      <td>7.1875</td>\n",
       "      <td>2.781442</td>\n",
       "      <td>3.263125</td>\n",
       "    </tr>\n",
       "    <tr>\n",
       "      <th>3</th>\n",
       "      <td>6.535858</td>\n",
       "      <td>6.4375</td>\n",
       "      <td>2.967280</td>\n",
       "      <td>2.922625</td>\n",
       "    </tr>\n",
       "    <tr>\n",
       "      <th>4</th>\n",
       "      <td>7.270176</td>\n",
       "      <td>7.4375</td>\n",
       "      <td>3.300660</td>\n",
       "      <td>3.376625</td>\n",
       "    </tr>\n",
       "  </tbody>\n",
       "</table>\n",
       "</div>"
      ],
      "text/plain": [
       "      y_hat  y_test  y_hat_kg  y_test_kg\n",
       "0  7.481452  7.8750  3.396579   3.575250\n",
       "1  7.519333  7.6250  3.413777   3.461750\n",
       "2  6.126524  7.1875  2.781442   3.263125\n",
       "3  6.535858  6.4375  2.967280   2.922625\n",
       "4  7.270176  7.4375  3.300660   3.376625"
      ]
     },
     "execution_count": 38,
     "metadata": {},
     "output_type": "execute_result"
    }
   ],
   "source": [
    "df1 = pd.DataFrame(sc_y.inverse_transform(yhat), columns=['y_hat'])\n",
    "df2 = pd.DataFrame(sc_y.inverse_transform(y_test), columns=['y_test'])\n",
    "df = pd.concat([df1, df2], axis=1)\n",
    "#Pounds to kilograms\n",
    "df['y_hat_kg'] = df['y_hat'].apply(lambda x: x * .454)\n",
    "df['y_test_kg'] = df['y_test'].apply(lambda x: x * .454)\n",
    "df.head()"
   ]
  },
  {
   "cell_type": "code",
   "execution_count": 39,
   "metadata": {
    "colab": {
     "base_uri": "https://localhost:8080/",
     "height": 281
    },
    "id": "KI28pJ9JRU8f",
    "outputId": "87e3aa46-de71-43b9-9087-32606e82bd02"
   },
   "outputs": [
    {
     "data": {
      "image/png": "[encoded data removed]",
      "text/plain": [
       "<Figure size 432x288 with 1 Axes>"
      ]
     },
     "metadata": {
      "needs_background": "light"
     },
     "output_type": "display_data"
    }
   ],
   "source": [
    "plt.scatter(df.index, df['y_test_kg'], color = 'red', label = 'Real data')\n",
    "plt.scatter(df.index, df['y_hat_kg'], color = 'blue', label = 'Predicted data')\n",
    "plt.title('Prediction')\n",
    "plt.legend()\n",
    "run.log_image(name='prediction_model2', plot=plt)\n",
    "plt.show()"
   ]
  },
  {
   "cell_type": "code",
   "execution_count": 40,
   "metadata": {},
   "outputs": [
    {
     "data": {
      "text/plain": [
       "['./tmp/model2.pkl']"
      ]
     },
     "execution_count": 40,
     "metadata": {},
     "output_type": "execute_result"
    }
   ],
   "source": [
    "#Save model\n",
    "dump(value=model1, filename='./tmp/model2.pkl')"
   ]
  },
  {
   "cell_type": "code",
   "execution_count": 41,
   "metadata": {},
   "outputs": [],
   "source": [
    "tags = { \"Model\": 'BABY-WEIGHT',\n",
    "        \"Type\": 'Elasticnet',\n",
    "        \"User\": 'alejandra.taborda-londono@capgemini.com'}\n",
    "run.set_tags(tags)"
   ]
  },
  {
   "cell_type": "code",
   "execution_count": 42,
   "metadata": {},
   "outputs": [],
   "source": [
    "run.complete()"
   ]
  },
  {
   "cell_type": "markdown",
   "metadata": {
    "id": "1RFQnixoyu7T"
   },
   "source": [
    "### Model3: Feature Selection"
   ]
  },
  {
   "cell_type": "code",
   "execution_count": 43,
   "metadata": {},
   "outputs": [],
   "source": [
    "run = exp.start_logging()"
   ]
  },
  {
   "cell_type": "code",
   "execution_count": 44,
   "metadata": {
    "id": "zS1IfrHsQVzI"
   },
   "outputs": [],
   "source": [
    "# feature selection\n",
    "def select_features(X_train, y_train, X_test):\n",
    "  # configure to select a subset of features\n",
    "  #fs = SelectKBest(score_func=f_regression, k=10)\n",
    "  fs = SelectKBest(score_func=mutual_info_regression, k=10)\n",
    "  # learn relationship from training data\n",
    "  fs.fit(X_train, y_train)\n",
    "  # transform train input data\n",
    "  X_train_fs = fs.transform(X_train)\n",
    "  # transform test input data\n",
    "  X_test_fs = fs.transform(X_test)\n",
    "  return X_train_fs, X_test_fs, fs"
   ]
  },
  {
   "cell_type": "code",
   "execution_count": 45,
   "metadata": {
    "colab": {
     "base_uri": "https://localhost:8080/"
    },
    "id": "t4bQbzxpSVW7",
    "outputId": "d8069602-097d-494e-f49e-1d8d1d671275"
   },
   "outputs": [
    {
     "name": "stdout",
     "output_type": "stream",
     "text": [
      "CPU times: user 1min 34s, sys: 3.32 s, total: 1min 37s\n",
      "Wall time: 1min 37s\n"
     ]
    },
    {
     "data": {
      "text/plain": [
       "LinearRegression(copy_X=True, fit_intercept=True, n_jobs=None, normalize=False)"
      ]
     },
     "execution_count": 45,
     "metadata": {},
     "output_type": "execute_result"
    }
   ],
   "source": [
    "%%time\n",
    "\n",
    "# feature selection\n",
    "X_train_fs, X_test_fs, fs = select_features(X_train, y_train.values.ravel(), X_test)\n",
    "# fit the model\n",
    "model3 = LinearRegression()\n",
    "model3.fit(X_train_fs, y_train)"
   ]
  },
  {
   "cell_type": "code",
   "execution_count": 46,
   "metadata": {
    "colab": {
     "base_uri": "https://localhost:8080/"
    },
    "id": "akCDOCY0zHuz",
    "outputId": "c8fc64e0-4105-40c6-bcce-31b39e9985f4"
   },
   "outputs": [
    {
     "name": "stdout",
     "output_type": "stream",
     "text": [
      "SEX\n",
      "FAGE\n",
      "GAINED\n",
      "VISITS\n",
      "WEEKS\n",
      "RACEMOM\n",
      "RACEDAD\n",
      "CIGNUM\n",
      "ANEMIA\n",
      "ACLUNG\n"
     ]
    }
   ],
   "source": [
    "# 1st way to get the list\n",
    "vector_names = list(X_train.columns[fs.get_support(indices=True)])\n",
    "for i in vector_names:\n",
    "  print(i)"
   ]
  },
  {
   "cell_type": "markdown",
   "metadata": {
    "id": "iJvi1OxdwWul"
   },
   "source": [
    "#### Features importance"
   ]
  },
  {
   "cell_type": "code",
   "execution_count": 47,
   "metadata": {
    "id": "QXL6EGSwAiC8"
   },
   "outputs": [
    {
     "data": {
      "text/html": [
       "<div>\n",
       "<style scoped>\n",
       "    .dataframe tbody tr th:only-of-type {\n",
       "        vertical-align: middle;\n",
       "    }\n",
       "\n",
       "    .dataframe tbody tr th {\n",
       "        vertical-align: top;\n",
       "    }\n",
       "\n",
       "    .dataframe thead th {\n",
       "        text-align: right;\n",
       "    }\n",
       "</style>\n",
       "<table border=\"1\" class=\"dataframe\">\n",
       "  <thead>\n",
       "    <tr style=\"text-align: right;\">\n",
       "      <th></th>\n",
       "      <th>coefficient</th>\n",
       "    </tr>\n",
       "  </thead>\n",
       "  <tbody>\n",
       "    <tr>\n",
       "      <th>SEX</th>\n",
       "      <td>-0.101421</td>\n",
       "    </tr>\n",
       "    <tr>\n",
       "      <th>CIGNUM</th>\n",
       "      <td>-0.081784</td>\n",
       "    </tr>\n",
       "    <tr>\n",
       "      <th>RACEDAD</th>\n",
       "      <td>-0.044345</td>\n",
       "    </tr>\n",
       "    <tr>\n",
       "      <th>RACEMOM</th>\n",
       "      <td>-0.036919</td>\n",
       "    </tr>\n",
       "    <tr>\n",
       "      <th>ACLUNG</th>\n",
       "      <td>-0.004689</td>\n",
       "    </tr>\n",
       "    <tr>\n",
       "      <th>ANEMIA</th>\n",
       "      <td>-0.002157</td>\n",
       "    </tr>\n",
       "    <tr>\n",
       "      <th>VISITS</th>\n",
       "      <td>0.030551</td>\n",
       "    </tr>\n",
       "    <tr>\n",
       "      <th>FAGE</th>\n",
       "      <td>0.073020</td>\n",
       "    </tr>\n",
       "    <tr>\n",
       "      <th>GAINED</th>\n",
       "      <td>0.111977</td>\n",
       "    </tr>\n",
       "    <tr>\n",
       "      <th>WEEKS</th>\n",
       "      <td>0.553754</td>\n",
       "    </tr>\n",
       "  </tbody>\n",
       "</table>\n",
       "</div>"
      ],
      "text/plain": [
       "         coefficient\n",
       "SEX        -0.101421\n",
       "CIGNUM     -0.081784\n",
       "RACEDAD    -0.044345\n",
       "RACEMOM    -0.036919\n",
       "ACLUNG     -0.004689\n",
       "ANEMIA     -0.002157\n",
       "VISITS      0.030551\n",
       "FAGE        0.073020\n",
       "GAINED      0.111977\n",
       "WEEKS       0.553754"
      ]
     },
     "execution_count": 47,
     "metadata": {},
     "output_type": "execute_result"
    }
   ],
   "source": [
    "features = pd.DataFrame(np.transpose(model3.coef_), index=vector_names, columns=['coefficient'])\n",
    "features.sort_values(by='coefficient')"
   ]
  },
  {
   "cell_type": "code",
   "execution_count": 48,
   "metadata": {
    "id": "FLBZlMcUwtgM"
   },
   "outputs": [
    {
     "data": {
      "image/png": "[encoded data removed]",
      "text/plain": [
       "<Figure size 432x288 with 1 Axes>"
      ]
     },
     "metadata": {
      "needs_background": "light"
     },
     "output_type": "display_data"
    }
   ],
   "source": [
    "plt.bar(features.index, features.coefficient)\n",
    "run.log_image(name='features_model3', plot=plt)\n",
    "plt.show()"
   ]
  },
  {
   "cell_type": "code",
   "execution_count": 49,
   "metadata": {},
   "outputs": [],
   "source": [
    "features.to_csv('./tmp/features_model3.txt',index=None)"
   ]
  },
  {
   "cell_type": "markdown",
   "metadata": {
    "id": "zndnczDWwXm-"
   },
   "source": [
    "#### Evaluation"
   ]
  },
  {
   "cell_type": "code",
   "execution_count": 50,
   "metadata": {
    "id": "REftu8rWwWd7"
   },
   "outputs": [
    {
     "name": "stdout",
     "output_type": "stream",
     "text": [
      "MSE: 0.643\n",
      "MAE: 0.626\n",
      "R2: 0.365\n"
     ]
    }
   ],
   "source": [
    "yhat = model3.predict(X_test_fs)\n",
    "# evaluate predictions\n",
    "mse = mean_squared_error(y_test, yhat)\n",
    "mae = mean_absolute_error(y_test, yhat)\n",
    "r2 = r2_score(y_test, yhat)\n",
    "\n",
    "print('MSE: %.3f' % mse)\n",
    "run.log('MSE', mse)\n",
    "print('MAE: %.3f' % mae)\n",
    "run.log('MAE', mae)\n",
    "print('R2: %.3f' % r2)\n",
    "run.log('R2',r2)"
   ]
  },
  {
   "cell_type": "code",
   "execution_count": 51,
   "metadata": {
    "id": "B2MI--axwnn7"
   },
   "outputs": [
    {
     "data": {
      "text/html": [
       "<div>\n",
       "<style scoped>\n",
       "    .dataframe tbody tr th:only-of-type {\n",
       "        vertical-align: middle;\n",
       "    }\n",
       "\n",
       "    .dataframe tbody tr th {\n",
       "        vertical-align: top;\n",
       "    }\n",
       "\n",
       "    .dataframe thead th {\n",
       "        text-align: right;\n",
       "    }\n",
       "</style>\n",
       "<table border=\"1\" class=\"dataframe\">\n",
       "  <thead>\n",
       "    <tr style=\"text-align: right;\">\n",
       "      <th></th>\n",
       "      <th>y_hat</th>\n",
       "      <th>y_test</th>\n",
       "      <th>y_hat_kg</th>\n",
       "      <th>y_test_kg</th>\n",
       "    </tr>\n",
       "  </thead>\n",
       "  <tbody>\n",
       "    <tr>\n",
       "      <th>0</th>\n",
       "      <td>7.615415</td>\n",
       "      <td>7.8750</td>\n",
       "      <td>3.457398</td>\n",
       "      <td>3.575250</td>\n",
       "    </tr>\n",
       "    <tr>\n",
       "      <th>1</th>\n",
       "      <td>7.427657</td>\n",
       "      <td>7.6250</td>\n",
       "      <td>3.372156</td>\n",
       "      <td>3.461750</td>\n",
       "    </tr>\n",
       "    <tr>\n",
       "      <th>2</th>\n",
       "      <td>6.377231</td>\n",
       "      <td>7.1875</td>\n",
       "      <td>2.895263</td>\n",
       "      <td>3.263125</td>\n",
       "    </tr>\n",
       "    <tr>\n",
       "      <th>3</th>\n",
       "      <td>6.589891</td>\n",
       "      <td>6.4375</td>\n",
       "      <td>2.991810</td>\n",
       "      <td>2.922625</td>\n",
       "    </tr>\n",
       "    <tr>\n",
       "      <th>4</th>\n",
       "      <td>7.227193</td>\n",
       "      <td>7.4375</td>\n",
       "      <td>3.281146</td>\n",
       "      <td>3.376625</td>\n",
       "    </tr>\n",
       "  </tbody>\n",
       "</table>\n",
       "</div>"
      ],
      "text/plain": [
       "      y_hat  y_test  y_hat_kg  y_test_kg\n",
       "0  7.615415  7.8750  3.457398   3.575250\n",
       "1  7.427657  7.6250  3.372156   3.461750\n",
       "2  6.377231  7.1875  2.895263   3.263125\n",
       "3  6.589891  6.4375  2.991810   2.922625\n",
       "4  7.227193  7.4375  3.281146   3.376625"
      ]
     },
     "execution_count": 51,
     "metadata": {},
     "output_type": "execute_result"
    }
   ],
   "source": [
    "df1 = pd.DataFrame(sc_y.inverse_transform(yhat), columns=['y_hat'])\n",
    "df2 = pd.DataFrame(sc_y.inverse_transform(y_test), columns=['y_test'])\n",
    "df = pd.concat([df1, df2], axis=1)\n",
    "#Pounds to kilograms\n",
    "df['y_hat_kg'] = df['y_hat'].apply(lambda x: x * .454)\n",
    "df['y_test_kg'] = df['y_test'].apply(lambda x: x * .454)\n",
    "df.head()"
   ]
  },
  {
   "cell_type": "code",
   "execution_count": 52,
   "metadata": {
    "id": "svgUH0uuwnkN"
   },
   "outputs": [
    {
     "data": {
      "image/png": "[encoded data removed]",
      "text/plain": [
       "<Figure size 432x288 with 1 Axes>"
      ]
     },
     "metadata": {
      "needs_background": "light"
     },
     "output_type": "display_data"
    }
   ],
   "source": [
    "plt.scatter(df.index, df['y_test_kg'], color = 'red', label = 'Real data')\n",
    "plt.scatter(df.index, df['y_hat_kg'], color = 'blue', label = 'Predicted data')\n",
    "plt.title('Prediction')\n",
    "plt.legend()\n",
    "run.log_image(name='prediction_model3', plot=plt)\n",
    "plt.show()"
   ]
  },
  {
   "cell_type": "code",
   "execution_count": 53,
   "metadata": {},
   "outputs": [
    {
     "data": {
      "text/plain": [
       "['./tmp/model3.pkl']"
      ]
     },
     "execution_count": 53,
     "metadata": {},
     "output_type": "execute_result"
    }
   ],
   "source": [
    "#Save model\n",
    "dump(value=model3, filename='./tmp/model3.pkl')"
   ]
  },
  {
   "cell_type": "code",
   "execution_count": 54,
   "metadata": {},
   "outputs": [],
   "source": [
    "tags = { \"Model\": 'BABY-WEIGHT',\n",
    "        \"Type\": 'Linear Regresion + feature selection',\n",
    "        \"User\": 'alejandra.taborda-londono@capgemini.com'}\n",
    "run.set_tags(tags)"
   ]
  },
  {
   "cell_type": "code",
   "execution_count": 55,
   "metadata": {},
   "outputs": [],
   "source": [
    "run.complete()"
   ]
  },
  {
   "cell_type": "markdown",
   "metadata": {
    "id": "xvpihwZizIkA"
   },
   "source": [
    "### Model4: Neural Network"
   ]
  },
  {
   "cell_type": "code",
   "execution_count": 56,
   "metadata": {},
   "outputs": [],
   "source": [
    "import os\n",
    "os.environ['AUTOGRAPH_VERBOSITY'] = '1'\n",
    "\n",
    "import tensorflow as tf\n",
    "tf.autograph.set_verbosity(0)"
   ]
  },
  {
   "cell_type": "code",
   "execution_count": 57,
   "metadata": {},
   "outputs": [],
   "source": [
    "from tensorflow.keras.callbacks import EarlyStopping\n",
    "from tensorflow.keras.layers import Dense, Activation\n",
    "from tensorflow.keras.models import Sequential\n",
    "from tensorflow.keras.optimizers import SGD, Adam"
   ]
  },
  {
   "cell_type": "code",
   "execution_count": 58,
   "metadata": {},
   "outputs": [],
   "source": [
    "run = exp.start_logging()"
   ]
  },
  {
   "cell_type": "code",
   "execution_count": null,
   "metadata": {
    "colab": {
     "base_uri": "https://localhost:8080/"
    },
    "id": "J7mT8D2zLPQA",
    "outputId": "9621eb3f-a560-4b46-df5e-febf74f4d55d"
   },
   "outputs": [
    {
     "name": "stdout",
     "output_type": "stream",
     "text": [
      "Train on 70980 samples\n",
      "Epoch 1/100\n",
      "70980/70980 [==============================] - 12s 171us/sample - loss: 0.5854 - mean_absolute_error: 0.5944 - cosine_similarity: 0.3428\n",
      "Epoch 2/100\n",
      "70980/70980 [==============================] - 12s 162us/sample - loss: 0.5631 - mean_absolute_error: 0.5844 - cosine_similarity: 0.3541\n",
      "Epoch 3/100\n",
      "70980/70980 [==============================] - 12s 164us/sample - loss: 0.5584 - mean_absolute_error: 0.5819 - cosine_similarity: 0.3604\n",
      "Epoch 4/100\n",
      "70980/70980 [==============================] - 12s 162us/sample - loss: 0.5555 - mean_absolute_error: 0.5801 - cosine_similarity: 0.3610\n",
      "Epoch 5/100\n",
      "70980/70980 [==============================] - 12s 163us/sample - loss: 0.5535 - mean_absolute_error: 0.5795 - cosine_similarity: 0.3628\n",
      "Epoch 6/100\n",
      "70980/70980 [==============================] - 12s 163us/sample - loss: 0.5519 - mean_absolute_error: 0.5782 - cosine_similarity: 0.3646\n",
      "Epoch 7/100\n",
      "70980/70980 [==============================] - 12s 162us/sample - loss: 0.5508 - mean_absolute_error: 0.5780 - cosine_similarity: 0.3653\n",
      "Epoch 8/100\n",
      "70980/70980 [==============================] - 11s 162us/sample - loss: 0.5497 - mean_absolute_error: 0.5772 - cosine_similarity: 0.3691\n",
      "Epoch 9/100\n",
      "70980/70980 [==============================] - 11s 160us/sample - loss: 0.5482 - mean_absolute_error: 0.5764 - cosine_similarity: 0.3676\n",
      "Epoch 10/100\n",
      "70980/70980 [==============================] - 12s 162us/sample - loss: 0.5475 - mean_absolute_error: 0.5756 - cosine_similarity: 0.3691\n",
      "Epoch 11/100\n",
      "70980/70980 [==============================] - 11s 162us/sample - loss: 0.5465 - mean_absolute_error: 0.5755 - cosine_similarity: 0.3698\n",
      "Epoch 12/100\n",
      "70980/70980 [==============================] - 12s 162us/sample - loss: 0.5459 - mean_absolute_error: 0.5749 - cosine_similarity: 0.3686\n",
      "Epoch 13/100\n",
      "70980/70980 [==============================] - 12s 163us/sample - loss: 0.5446 - mean_absolute_error: 0.5744 - cosine_similarity: 0.3698\n",
      "Epoch 14/100\n",
      "70980/70980 [==============================] - 11s 161us/sample - loss: 0.5435 - mean_absolute_error: 0.5739 - cosine_similarity: 0.3706\n",
      "Epoch 15/100\n",
      "70980/70980 [==============================] - 11s 161us/sample - loss: 0.5424 - mean_absolute_error: 0.5733 - cosine_similarity: 0.3720\n",
      "Epoch 16/100\n",
      "70980/70980 [==============================] - 12s 164us/sample - loss: 0.5424 - mean_absolute_error: 0.5733 - cosine_similarity: 0.3717\n",
      "Epoch 17/100\n",
      "70980/70980 [==============================] - 12s 164us/sample - loss: 0.5413 - mean_absolute_error: 0.5730 - cosine_similarity: 0.3713\n",
      "Epoch 18/100\n",
      "70980/70980 [==============================] - 12s 165us/sample - loss: 0.5409 - mean_absolute_error: 0.5728 - cosine_similarity: 0.3723\n",
      "Epoch 19/100\n",
      "70980/70980 [==============================] - 12s 163us/sample - loss: 0.5401 - mean_absolute_error: 0.5720 - cosine_similarity: 0.3740\n",
      "Epoch 20/100\n",
      "70980/70980 [==============================] - 11s 161us/sample - loss: 0.5394 - mean_absolute_error: 0.5719 - cosine_similarity: 0.3728\n",
      "Epoch 21/100\n",
      "70980/70980 [==============================] - 12s 162us/sample - loss: 0.5394 - mean_absolute_error: 0.5717 - cosine_similarity: 0.3750\n",
      "Epoch 22/100\n",
      "70980/70980 [==============================] - 11s 161us/sample - loss: 0.5384 - mean_absolute_error: 0.5713 - cosine_similarity: 0.3741\n",
      "Epoch 23/100\n",
      "70980/70980 [==============================] - 11s 160us/sample - loss: 0.5379 - mean_absolute_error: 0.5712 - cosine_similarity: 0.3757\n",
      "Epoch 24/100\n",
      "70980/70980 [==============================] - 12s 162us/sample - loss: 0.5373 - mean_absolute_error: 0.5707 - cosine_similarity: 0.3758\n",
      "Epoch 25/100\n",
      "70980/70980 [==============================] - 11s 161us/sample - loss: 0.5373 - mean_absolute_error: 0.5710 - cosine_similarity: 0.3750\n",
      "Epoch 26/100\n",
      "70980/70980 [==============================] - 11s 159us/sample - loss: 0.5373 - mean_absolute_error: 0.5708 - cosine_similarity: 0.3791\n",
      "Epoch 27/100\n",
      "70980/70980 [==============================] - 11s 160us/sample - loss: 0.5365 - mean_absolute_error: 0.5704 - cosine_similarity: 0.3763\n",
      "Epoch 28/100\n",
      "70980/70980 [==============================] - 11s 161us/sample - loss: 0.5359 - mean_absolute_error: 0.5705 - cosine_similarity: 0.3752\n",
      "Epoch 29/100\n",
      "70980/70980 [==============================] - 12s 163us/sample - loss: 0.5358 - mean_absolute_error: 0.5703 - cosine_similarity: 0.3749 - loss: 0.5347 - mean_absolute_error: 0.5694 - \n",
      "Epoch 30/100\n",
      "70980/70980 [==============================] - 11s 162us/sample - loss: 0.5349 - mean_absolute_error: 0.5696 - cosine_similarity: 0.3784\n",
      "Epoch 31/100\n",
      "70980/70980 [==============================] - 11s 161us/sample - loss: 0.5342 - mean_absolute_error: 0.5693 - cosine_similarity: 0.3770\n",
      "Epoch 32/100\n",
      "70980/70980 [==============================] - 11s 162us/sample - loss: 0.5342 - mean_absolute_error: 0.5696 - cosine_similarity: 0.3767\n",
      "Epoch 33/100\n",
      "70980/70980 [==============================] - 11s 159us/sample - loss: 0.5345 - mean_absolute_error: 0.5695 - cosine_similarity: 0.3779\n",
      "Epoch 34/100\n",
      "70980/70980 [==============================] - 12s 165us/sample - loss: 0.5331 - mean_absolute_error: 0.5687 - cosine_similarity: 0.3767\n",
      "Epoch 35/100\n",
      "70980/70980 [==============================] - 12s 165us/sample - loss: 0.5326 - mean_absolute_error: 0.5685 - cosine_similarity: 0.3781\n",
      "Epoch 36/100\n",
      " 2470/70980 [>.............................] - ETA: 11s - loss: 0.5441 - mean_absolute_error: 0.5741 - cosine_similarity: 0.3838"
     ]
    }
   ],
   "source": [
    "%%time\n",
    "\n",
    "callback = EarlyStopping(monitor='loss', patience=3)\n",
    "#opt = SGD(learning_rate=0.001)\n",
    "opt = Adam(learning_rate=0.001)\n",
    "input = X_train.shape[1]\n",
    "\n",
    "# Initialising the ANN\n",
    "model = Sequential()\n",
    "# Adding the input layer and the first hidden layer\n",
    "model.add(Dense(32, activation = 'relu', input_dim = input))\n",
    "# Adding the second hidden layer\n",
    "model.add(Dense(units = 32, activation = 'relu'))\n",
    "# Adding the third hidden layer\n",
    "model.add(Dense(units = 32, activation = 'relu'))\n",
    "# Adding the output layer\n",
    "model.add(Dense(units = 1))\n",
    "# Compiling the ANN\n",
    "model.compile(optimizer = opt, loss = 'mean_squared_error', metrics=[\"mean_absolute_error\", \"cosine_similarity\"])\n",
    "\n",
    "# Fitting the ANN to the Training set\n",
    "model.fit(X_train, y_train, batch_size = 10, epochs = 100, callbacks=[callback])\n",
    "\n"
   ]
  },
  {
   "cell_type": "markdown",
   "metadata": {
    "id": "gcs8DCB9weUz"
   },
   "source": [
    "#### Evaluation"
   ]
  },
  {
   "cell_type": "code",
   "execution_count": null,
   "metadata": {
    "colab": {
     "base_uri": "https://localhost:8080/",
     "height": 204
    },
    "id": "c33H_yUoTNFk",
    "outputId": "aaf0bcde-2f25-41ae-d7b0-318c3347379e"
   },
   "outputs": [],
   "source": [
    "yhat = model.predict(X_test)\n",
    "df1 = pd.DataFrame(sc_y.inverse_transform(yhat), columns=['y_hat'])\n",
    "df2 = pd.DataFrame(sc_y.inverse_transform(y_test), columns=['y_test'])\n",
    "df = pd.concat([df1, df2], axis=1)\n",
    "#Pounds to kilograms\n",
    "df['y_hat_kg'] = df['y_hat'].apply(lambda x: x * .454)\n",
    "df['y_test_kg'] = df['y_test'].apply(lambda x: x * .454)\n",
    "df.head()"
   ]
  },
  {
   "cell_type": "code",
   "execution_count": null,
   "metadata": {
    "colab": {
     "base_uri": "https://localhost:8080/",
     "height": 281
    },
    "id": "O_yYfzQfTMTU",
    "outputId": "6b66fdf0-3da9-432e-e2db-7093829b9c40"
   },
   "outputs": [],
   "source": [
    "plt.scatter(df.index, df['y_test_kg'], color = 'red', label = 'Real data')\n",
    "plt.scatter(df.index, df['y_hat_kg'], color = 'blue', label = 'Predicted data')\n",
    "plt.title('Prediction')\n",
    "plt.legend()\n",
    "run.log_image(name='prediction_model', plot=plt)\n",
    "plt.show()"
   ]
  },
  {
   "cell_type": "code",
   "execution_count": null,
   "metadata": {},
   "outputs": [],
   "source": [
    "# evaluate predictions\n",
    "mse = mean_squared_error(y_test, yhat)\n",
    "mae = mean_absolute_error(y_test, yhat)\n",
    "r2 = r2_score(y_test, yhat)\n",
    "r2 = r2_score(y_test, yhat) \n",
    "\n",
    "print('MSE: %.3f' % mse)\n",
    "run.log('MSE', mse)\n",
    "print('MAE: %.3f' % mae)\n",
    "run.log('MAE', mae)\n",
    "print('R2: %.3f' % r2)\n",
    "run.log('R2',r2)\n"
   ]
  },
  {
   "cell_type": "code",
   "execution_count": null,
   "metadata": {
    "id": "YBB3qj_C_4iT"
   },
   "outputs": [],
   "source": [
    "#Save model\n",
    "model.save('./outputs/model.h5')  "
   ]
  },
  {
   "cell_type": "code",
   "execution_count": null,
   "metadata": {},
   "outputs": [],
   "source": [
    "tags = { \"Model\": 'BABY-WEIGHT',\n",
    "        \"Type\": 'Neural Network',\n",
    "        \"User\": 'alejandra.taborda-londono@capgemini.com'}\n",
    "run.set_tags(tags)\n",
    "run.complete()"
   ]
  },
  {
   "cell_type": "code",
   "execution_count": null,
   "metadata": {},
   "outputs": [],
   "source": [
    "### Model Registry"
   ]
  },
  {
   "cell_type": "code",
   "execution_count": null,
   "metadata": {},
   "outputs": [],
   "source": [
    "model_name = 'BABY-WEIGHT'\n",
    "\n",
    "run.register_model(model_name= model_name, \n",
    "                   model_path = './outputs/',\n",
    "                   tags = tags,\n",
    "                   description=\"Neural Network for Birth weight prediction\")"
   ]
  }
 ],
 "metadata": {
  "colab": {
   "collapsed_sections": [],
   "name": "Birth weight prediction.ipynb",
   "provenance": [],
   "toc_visible": true
  },
  "kernel_info": {
   "name": "python3-azureml"
  },
  "kernelspec": {
   "display_name": "Python 3.6 - AzureML",
   "language": "python",
   "name": "python3-azureml"
  },
  "language_info": {
   "codemirror_mode": {
    "name": "ipython",
    "version": 3
   },
   "file_extension": ".py",
   "mimetype": "text/x-python",
   "name": "python",
   "nbconvert_exporter": "python",
   "pygments_lexer": "ipython3",
   "version": "3.6.9"
  },
  "nteract": {
   "version": "nteract-front-end@1.0.0"
  }
 },
 "nbformat": 4,
 "nbformat_minor": 4
}
