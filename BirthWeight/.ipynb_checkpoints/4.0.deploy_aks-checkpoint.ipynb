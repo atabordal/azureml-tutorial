{
 "cells": [
  {
   "cell_type": "markdown",
   "metadata": {
    "nteract": {
     "transient": {
      "deleting": false
     }
    }
   },
   "source": [
    "# Load the model"
   ]
  },
  {
   "cell_type": "code",
   "execution_count": 7,
   "metadata": {
    "collapsed": false,
    "gather": {
     "logged": 1620989148934
    },
    "jupyter": {
     "outputs_hidden": false
    }
   },
   "outputs": [],
   "source": [
    "from azureml.core import Workspace\n",
    "ws = Workspace.get(name='demo-aml',subscription_id='YOUR-SUSCRIPTION-ID',resource_group='demo-aml')"
   ]
  },
  {
   "cell_type": "code",
   "execution_count": 13,
   "metadata": {
    "gather": {
     "logged": 1620989150383
    },
    "nteract": {
     "transient": {
      "deleting": false
     }
    }
   },
   "outputs": [
    {
     "data": {
      "text/plain": [
       "Model(workspace=Workspace.create(name='demo-aml', subscription_id='92ba1152-3fff-41db-864f-d94ce03eb9e1', resource_group='demo-aml'), name=BABY-WEIGHT, id=BABY-WEIGHT:14, version=14, tags={'Model': 'BABY-WEIGHT', 'Type': 'Xgboost', 'User': 'alejandra.taborda-londono@capgemini.com'}, properties={})"
      ]
     },
     "execution_count": 13,
     "metadata": {},
     "output_type": "execute_result"
    }
   ],
   "source": [
    "#List last model registered on ws in order to create the image\n",
    "from azureml.core import Model\n",
    "model_name = 'BABY-WEIGHT'\n",
    "list_models = Model.list(workspace=ws, name=model_name)\n",
    "model = list_models[0]\n",
    "model"
   ]
  },
  {
   "cell_type": "markdown",
   "metadata": {
    "nteract": {
     "transient": {
      "deleting": false
     }
    }
   },
   "source": [
    "# Create inference configuration"
   ]
  },
  {
   "cell_type": "code",
   "execution_count": 23,
   "metadata": {
    "gather": {
     "logged": 1620989155791
    },
    "nteract": {
     "transient": {
      "deleting": false
     }
    }
   },
   "outputs": [],
   "source": [
    "from azureml.core.model import InferenceConfig\n",
    "from azureml.core.environment import Environment\n",
    "\n",
    "#myenv = Environment.get(workspace=ws, name=\"keras-env\")\n",
    "myenv = Environment.get(workspace=ws, name=\"xgboost-env\")\n",
    "inference_config = InferenceConfig(entry_script=\"score.py\", environment=myenv)"
   ]
  },
  {
   "cell_type": "markdown",
   "metadata": {
    "nteract": {
     "transient": {
      "deleting": false
     }
    }
   },
   "source": [
    "# Create Compute instance"
   ]
  },
  {
   "cell_type": "code",
   "execution_count": 4,
   "metadata": {
    "gather": {
     "logged": 1620989443056
    },
    "nteract": {
     "transient": {
      "deleting": false
     }
    }
   },
   "outputs": [
    {
     "name": "stdout",
     "output_type": "stream",
     "text": [
      "Found existing AKS cluster, use it.\n"
     ]
    }
   ],
   "source": [
    "from azureml.core.compute import AksCompute, ComputeTarget\n",
    "from azureml.core.compute_target import ComputeTargetException\n",
    "\n",
    "# Create Compute AKS\n",
    "aks_name ='aks-compute'\n",
    "prov_config = AksCompute.provisioning_configuration(cluster_purpose=\"DevTest\")\n",
    "\n",
    "try:\n",
    "    aks_target = AksCompute(ws,aks_name)\n",
    "    print('Found existing AKS cluster, use it.')\n",
    "except ComputeTargetException:\n",
    "    print(\"Creating new AKS cluster.\")\n",
    "    aks_target = ComputeTarget.create(workspace = ws,\n",
    "                                        name = aks_name,\n",
    "                                        provisioning_configuration = prov_config)\n",
    "    aks_target.wait_for_completion(show_output=True)   "
   ]
  },
  {
   "cell_type": "markdown",
   "metadata": {
    "nteract": {
     "transient": {
      "deleting": false
     }
    }
   },
   "source": [
    "# Deploy web service"
   ]
  },
  {
   "cell_type": "code",
   "execution_count": 26,
   "metadata": {
    "gather": {
     "logged": 1620989443165
    },
    "nteract": {
     "transient": {
      "deleting": false
     }
    }
   },
   "outputs": [],
   "source": [
    "from azureml.core.webservice import AksWebservice, Webservice\n",
    "\n",
    "aks_config = AksWebservice.deploy_configuration(autoscale_enabled=True,\n",
    "                                                auth_enabled=False,\n",
    "                                                collect_model_data=True,\n",
    "                                                enable_app_insights=True,\n",
    "                                                tags = model.tags,\n",
    "                                                description = model.description)"
   ]
  },
  {
   "cell_type": "code",
   "execution_count": null,
   "metadata": {
    "nteract": {
     "transient": {
      "deleting": false
     }
    }
   },
   "outputs": [
    {
     "name": "stdout",
     "output_type": "stream",
     "text": [
      "Tips: You can try get_logs(): https://aka.ms/debugimage#dockerlog or local deployment: https://aka.ms/debugimage#debug-locally to debug if deployment takes longer than 10 minutes.\n",
      "Running\n",
      "2021-07-23 09:06:22+00:00 Creating Container Registry if not exists.\n",
      "2021-07-23 09:06:22+00:00 Registering the environment.\n",
      "2021-07-23 09:06:23+00:00 Use the existing image.\n",
      "2021-07-23 09:06:26+00:00 Checking the status of deployment baby-weights-webservice-aks..\n",
      "2021-07-23 09:06:37+00:00 Checking the status of inference endpoint baby-weights-webservice-aks.\n",
      "Succeeded\n"
     ]
    }
   ],
   "source": [
    "%%time\n",
    "\n",
    "# Start web AKS service deployment\n",
    "aks_target = AksCompute(ws, aks_name)\n",
    "aks_service_name ='baby-weights-webservice-aks' \n",
    "\n",
    "\n",
    "try:\n",
    "    Webservice.check_for_existing_webservice(name=aks_service_name, workspace=ws)\n",
    "    service = Model.deploy(workspace=ws, \n",
    "                       name=aks_service_name, \n",
    "                       models=[model], \n",
    "                       inference_config=inference_config, \n",
    "                       deployment_config=aks_config, \n",
    "                       deployment_target=aks_target)\n",
    "\n",
    "    service.wait_for_deployment(show_output = True)\n",
    "    print(service.state)\n",
    "    \n",
    "\n",
    "except Exception as e: \n",
    "    #print(e)\n",
    "    service = Webservice(name=aks_service_name, workspace=ws)\n",
    "    # Update to new model(s).\n",
    "    service.update(models=[model], inference_config=inference_config)\n",
    "    \n",
    "    service.wait_for_deployment(show_output=True)\n",
    "    print(service.state)\n",
    "      "
   ]
  },
  {
   "cell_type": "code",
   "execution_count": null,
   "metadata": {},
   "outputs": [],
   "source": [
    "print(service.get_logs()) "
   ]
  },
  {
   "cell_type": "markdown",
   "metadata": {
    "nteract": {
     "transient": {
      "deleting": false
     }
    }
   },
   "source": [
    "## Test the endpoint"
   ]
  },
  {
   "cell_type": "code",
   "execution_count": 11,
   "metadata": {
    "gather": {
     "logged": 1620990226684
    },
    "nteract": {
     "transient": {
      "deleting": false
     }
    }
   },
   "outputs": [],
   "source": [
    "import pandas as pd\n",
    "X_val=pd.read_json('inputs/X_validation_data.json', orient=\"split\")\n",
    "X_val.head()\n",
    "\n",
    "X_val = X_val.values"
   ]
  },
  {
   "cell_type": "code",
   "execution_count": null,
   "metadata": {
    "gather": {
     "logged": 1620991552129
    },
    "nteract": {
     "transient": {
      "deleting": false
     }
    }
   },
   "outputs": [],
   "source": [
    "import requests\n",
    "import numpy as np\n",
    "\n",
    "# send a random row from the validatition set to score\n",
    "random_index = np.random.randint(0, len(X_val)-1)\n",
    "input_data = \"{\\\"data\\\": [\" + str(list(X_val[random_index])) + \"]}\"\n",
    "\n",
    "headers = {'Content-Type':'application/json'}\n",
    "\n",
    "resp = requests.post(service.scoring_uri, input_data, headers=headers)\n",
    "\n",
    "print(\"POST to url\", service.scoring_uri)\n",
    "print(\"input data:\", input_data)\n",
    "print(\"prediction:\", resp.text)"
   ]
  }
 ],
 "metadata": {
  "kernel_info": {
   "name": "python3-azureml"
  },
  "kernelspec": {
   "display_name": "Python 3.6 - AzureML",
   "language": "python",
   "name": "python3-azureml"
  },
  "language_info": {
   "codemirror_mode": {
    "name": "ipython",
    "version": 3
   },
   "file_extension": ".py",
   "mimetype": "text/x-python",
   "name": "python",
   "nbconvert_exporter": "python",
   "pygments_lexer": "ipython3",
   "version": "3.6.9"
  },
  "microsoft": {
   "host": {
    "AzureML": {
     "notebookHasBeenCompleted": true
    }
   }
  },
  "nteract": {
   "version": "nteract-front-end@1.0.0"
  }
 },
 "nbformat": 4,
 "nbformat_minor": 4
}
