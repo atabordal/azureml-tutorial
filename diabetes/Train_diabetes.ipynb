{
 "cells": [
  {
   "cell_type": "markdown",
   "id": "surgical-topic",
   "metadata": {},
   "source": [
    "# Predicting Diabetes with Logistic Regression"
   ]
  },
  {
   "cell_type": "markdown",
   "id": "improving-cricket",
   "metadata": {},
   "source": [
    "## Context\n",
    "This dataset is originally from the National Institute of Diabetes and Digestive and Kidney Diseases. The objective of the dataset is to diagnostically predict whether or not a patient has diabetes, based on certain diagnostic measurements included in the dataset. Several constraints were placed on the selection of these instances from a larger database. In particular, all patients here are females at least 21 years old of Pima Indian heritage. [Link to Kaggle](https://www.kaggle.com/uciml/pima-indians-diabetes-database)\n",
    "\n",
    "## Content\n",
    "The datasets consists of several medical predictor variables and one target variable, Outcome. Predictor variables includes the number of pregnancies the patient has had, their BMI, insulin level, age, and so on."
   ]
  },
  {
   "cell_type": "code",
   "execution_count": 1,
   "id": "super-attendance",
   "metadata": {},
   "outputs": [],
   "source": [
    "import pandas as pd\n",
    "import numpy as np"
   ]
  },
  {
   "cell_type": "code",
   "execution_count": 2,
   "id": "applicable-wayne",
   "metadata": {},
   "outputs": [
    {
     "name": "stdout",
     "output_type": "stream",
     "text": [
      "   Pregnancies  Glucose  BloodPressure  SkinThickness  Insulin   BMI  \\\n",
      "0            6      148             72             35        0  33.6   \n",
      "1            1       85             66             29        0  26.6   \n",
      "2            8      183             64              0        0  23.3   \n",
      "3            1       89             66             23       94  28.1   \n",
      "4            0      137             40             35      168  43.1   \n",
      "\n",
      "   DiabetesPedigreeFunction  Age  Outcome  \n",
      "0                     0.627   50        1  \n",
      "1                     0.351   31        0  \n",
      "2                     0.672   32        1  \n",
      "3                     0.167   21        0  \n",
      "4                     2.288   33        1  \n"
     ]
    }
   ],
   "source": [
    "df_diabetes = pd.read_csv('diabetes.csv')\n",
    "print(df_diabetes.head())"
   ]
  },
  {
   "cell_type": "markdown",
   "id": "healthy-fifty",
   "metadata": {},
   "source": [
    "Pregnancies: Number of times pregnant\n",
    "Glucose: Plasma glucose concentration over 2 hours in an oral glucose tolerance test\n",
    "BloodPressure: Diastolic blood pressure (mm Hg)\n",
    "SkinThickness: Triceps skin fold thickness (mm)\n",
    "Insulin: 2-Hour serum insulin (mu U/ml)\n",
    "BMI: Body mass index (weight in kg/(height in m)2)\n",
    "DiabetesPedigreeFunction: Diabetes pedigree function (a function which scores likelihood of diabetes based on family history)\n",
    "Age: Age (years)\n",
    "Outcome: Class variable (0 if non-diabetic, 1 if diabetic)"
   ]
  },
  {
   "cell_type": "markdown",
   "id": "dying-controversy",
   "metadata": {},
   "source": [
    "## Data Description"
   ]
  },
  {
   "cell_type": "code",
   "execution_count": 3,
   "id": "administrative-judge",
   "metadata": {},
   "outputs": [
    {
     "name": "stdout",
     "output_type": "stream",
     "text": [
      "<class 'pandas.core.frame.DataFrame'>\n",
      "RangeIndex: 768 entries, 0 to 767\n",
      "Data columns (total 9 columns):\n",
      " #   Column                    Non-Null Count  Dtype  \n",
      "---  ------                    --------------  -----  \n",
      " 0   Pregnancies               768 non-null    int64  \n",
      " 1   Glucose                   768 non-null    int64  \n",
      " 2   BloodPressure             768 non-null    int64  \n",
      " 3   SkinThickness             768 non-null    int64  \n",
      " 4   Insulin                   768 non-null    int64  \n",
      " 5   BMI                       768 non-null    float64\n",
      " 6   DiabetesPedigreeFunction  768 non-null    float64\n",
      " 7   Age                       768 non-null    int64  \n",
      " 8   Outcome                   768 non-null    int64  \n",
      "dtypes: float64(2), int64(7)\n",
      "memory usage: 54.1 KB\n"
     ]
    }
   ],
   "source": [
    "df_diabetes.info()"
   ]
  },
  {
   "cell_type": "markdown",
   "id": "announced-leeds",
   "metadata": {},
   "source": [
    "## Dataset Preparation "
   ]
  },
  {
   "cell_type": "markdown",
   "id": "coated-cyprus",
   "metadata": {},
   "source": [
    "The data set consists of record of 768 patients in total. To train our model we will be using 705 records. We will be using 20% records for testing, and the last 10% records to cross check our model."
   ]
  },
  {
   "cell_type": "code",
   "execution_count": 4,
   "id": "apart-carbon",
   "metadata": {},
   "outputs": [],
   "source": [
    "X0= diabetesDF.loc[:,  diabetesDF.columns != 'Outcome']\n",
    "y= diabetesDF[['Outcome']]"
   ]
  },
  {
   "cell_type": "code",
   "execution_count": 5,
   "id": "confirmed-corps",
   "metadata": {},
   "outputs": [],
   "source": [
    "from sklearn.preprocessing import StandardScaler \n",
    "\n",
    "# Get column names first\n",
    "names = X0.columns\n",
    "# Create the Scaler object\n",
    "scaler = StandardScaler()\n",
    "# Fit your data on the scaler object\n",
    "X = scaler.fit_transform(X0)\n",
    "X = pd.DataFrame(X, columns=names)"
   ]
  },
  {
   "cell_type": "code",
   "execution_count": 6,
   "id": "broke-episode",
   "metadata": {},
   "outputs": [],
   "source": [
    "from sklearn.model_selection import train_test_split\n",
    "\n",
    "X_train, X_test, y_train, y_test = train_test_split(X, y, test_size=0.3)\n",
    "X_test, X_validate, y_test, y_validate = train_test_split(X_test, y_test, test_size=0.3)"
   ]
  },
  {
   "cell_type": "code",
   "execution_count": 7,
   "id": "employed-utility",
   "metadata": {},
   "outputs": [
    {
     "data": {
      "text/html": [
       "<div>\n",
       "<style scoped>\n",
       "    .dataframe tbody tr th:only-of-type {\n",
       "        vertical-align: middle;\n",
       "    }\n",
       "\n",
       "    .dataframe tbody tr th {\n",
       "        vertical-align: top;\n",
       "    }\n",
       "\n",
       "    .dataframe thead th {\n",
       "        text-align: right;\n",
       "    }\n",
       "</style>\n",
       "<table border=\"1\" class=\"dataframe\">\n",
       "  <thead>\n",
       "    <tr style=\"text-align: right;\">\n",
       "      <th></th>\n",
       "      <th>Pregnancies</th>\n",
       "      <th>Glucose</th>\n",
       "      <th>BloodPressure</th>\n",
       "      <th>SkinThickness</th>\n",
       "      <th>Insulin</th>\n",
       "      <th>BMI</th>\n",
       "      <th>DiabetesPedigreeFunction</th>\n",
       "      <th>Age</th>\n",
       "    </tr>\n",
       "  </thead>\n",
       "  <tbody>\n",
       "    <tr>\n",
       "      <th>239</th>\n",
       "      <td>-1.141852</td>\n",
       "      <td>-0.528751</td>\n",
       "      <td>0.356432</td>\n",
       "      <td>-1.288212</td>\n",
       "      <td>-0.692891</td>\n",
       "      <td>-1.725160</td>\n",
       "      <td>0.332587</td>\n",
       "      <td>-0.531023</td>\n",
       "    </tr>\n",
       "    <tr>\n",
       "      <th>726</th>\n",
       "      <td>-0.844885</td>\n",
       "      <td>-0.153185</td>\n",
       "      <td>0.459827</td>\n",
       "      <td>0.530902</td>\n",
       "      <td>0.870031</td>\n",
       "      <td>0.521311</td>\n",
       "      <td>0.072856</td>\n",
       "      <td>-0.701198</td>\n",
       "    </tr>\n",
       "    <tr>\n",
       "      <th>217</th>\n",
       "      <td>0.639947</td>\n",
       "      <td>0.128489</td>\n",
       "      <td>-0.057150</td>\n",
       "      <td>0.593630</td>\n",
       "      <td>0.349057</td>\n",
       "      <td>-0.252897</td>\n",
       "      <td>-0.023787</td>\n",
       "      <td>-0.105584</td>\n",
       "    </tr>\n",
       "    <tr>\n",
       "      <th>268</th>\n",
       "      <td>-1.141852</td>\n",
       "      <td>-0.591345</td>\n",
       "      <td>-0.884314</td>\n",
       "      <td>-1.288212</td>\n",
       "      <td>-0.692891</td>\n",
       "      <td>-0.874801</td>\n",
       "      <td>-1.189553</td>\n",
       "      <td>-1.041549</td>\n",
       "    </tr>\n",
       "    <tr>\n",
       "      <th>181</th>\n",
       "      <td>-1.141852</td>\n",
       "      <td>-0.059293</td>\n",
       "      <td>-0.263941</td>\n",
       "      <td>-0.159107</td>\n",
       "      <td>0.105936</td>\n",
       "      <td>0.369008</td>\n",
       "      <td>0.764464</td>\n",
       "      <td>-0.871374</td>\n",
       "    </tr>\n",
       "  </tbody>\n",
       "</table>\n",
       "</div>"
      ],
      "text/plain": [
       "     Pregnancies   Glucose  BloodPressure  SkinThickness   Insulin       BMI  \\\n",
       "239    -1.141852 -0.528751       0.356432      -1.288212 -0.692891 -1.725160   \n",
       "726    -0.844885 -0.153185       0.459827       0.530902  0.870031  0.521311   \n",
       "217     0.639947  0.128489      -0.057150       0.593630  0.349057 -0.252897   \n",
       "268    -1.141852 -0.591345      -0.884314      -1.288212 -0.692891 -0.874801   \n",
       "181    -1.141852 -0.059293      -0.263941      -0.159107  0.105936  0.369008   \n",
       "\n",
       "     DiabetesPedigreeFunction       Age  \n",
       "239                  0.332587 -0.531023  \n",
       "726                  0.072856 -0.701198  \n",
       "217                 -0.023787 -0.105584  \n",
       "268                 -1.189553 -1.041549  \n",
       "181                  0.764464 -0.871374  "
      ]
     },
     "execution_count": 7,
     "metadata": {},
     "output_type": "execute_result"
    }
   ],
   "source": [
    "X_train.head()"
   ]
  },
  {
   "cell_type": "code",
   "execution_count": 11,
   "id": "distinguished-polish",
   "metadata": {},
   "outputs": [
    {
     "data": {
      "text/plain": [
       "Pregnancies                 0.011728\n",
       "Glucose                     0.013150\n",
       "BloodPressure               0.021118\n",
       "SkinThickness               0.003145\n",
       "Insulin                     0.025623\n",
       "BMI                         0.024979\n",
       "DiabetesPedigreeFunction    0.027532\n",
       "Age                         0.003588\n",
       "dtype: float64"
      ]
     },
     "execution_count": 11,
     "metadata": {},
     "output_type": "execute_result"
    }
   ],
   "source": [
    "np.mean(X_train, axis=0) # check that new means equal 0"
   ]
  },
  {
   "cell_type": "code",
   "execution_count": 12,
   "id": "falling-recruitment",
   "metadata": {},
   "outputs": [
    {
     "data": {
      "text/plain": [
       "Pregnancies                 1.019328\n",
       "Glucose                     0.967620\n",
       "BloodPressure               0.939656\n",
       "SkinThickness               1.000037\n",
       "Insulin                     1.009033\n",
       "BMI                         1.011187\n",
       "DiabetesPedigreeFunction    1.023538\n",
       "Age                         1.006068\n",
       "dtype: float64"
      ]
     },
     "execution_count": 12,
     "metadata": {},
     "output_type": "execute_result"
    }
   ],
   "source": [
    "np.std(X_train, axis=0) # check that new stds equal 1"
   ]
  },
  {
   "cell_type": "code",
   "execution_count": 35,
   "id": "young-respondent",
   "metadata": {},
   "outputs": [],
   "source": [
    "X_validate.to_json('validation_data.json', orient=\"split\")"
   ]
  },
  {
   "cell_type": "code",
   "execution_count": 26,
   "id": "attractive-brown",
   "metadata": {},
   "outputs": [
    {
     "data": {
      "text/html": [
       "<div>\n",
       "<style scoped>\n",
       "    .dataframe tbody tr th:only-of-type {\n",
       "        vertical-align: middle;\n",
       "    }\n",
       "\n",
       "    .dataframe tbody tr th {\n",
       "        vertical-align: top;\n",
       "    }\n",
       "\n",
       "    .dataframe thead th {\n",
       "        text-align: right;\n",
       "    }\n",
       "</style>\n",
       "<table border=\"1\" class=\"dataframe\">\n",
       "  <thead>\n",
       "    <tr style=\"text-align: right;\">\n",
       "      <th></th>\n",
       "      <th>Pregnancies</th>\n",
       "      <th>Glucose</th>\n",
       "      <th>BloodPressure</th>\n",
       "      <th>SkinThickness</th>\n",
       "      <th>Insulin</th>\n",
       "      <th>BMI</th>\n",
       "      <th>DiabetesPedigreeFunction</th>\n",
       "      <th>Age</th>\n",
       "    </tr>\n",
       "  </thead>\n",
       "  <tbody>\n",
       "    <tr>\n",
       "      <th>248</th>\n",
       "      <td>1.530847</td>\n",
       "      <td>0.097192</td>\n",
       "      <td>0.046245</td>\n",
       "      <td>0.781814</td>\n",
       "      <td>2.797634</td>\n",
       "      <td>0.432467</td>\n",
       "      <td>-0.573449</td>\n",
       "      <td>0.064591</td>\n",
       "    </tr>\n",
       "    <tr>\n",
       "      <th>322</th>\n",
       "      <td>-1.141852</td>\n",
       "      <td>0.097192</td>\n",
       "      <td>0.046245</td>\n",
       "      <td>-0.033651</td>\n",
       "      <td>-0.692891</td>\n",
       "      <td>-0.582887</td>\n",
       "      <td>-0.658012</td>\n",
       "      <td>0.234767</td>\n",
       "    </tr>\n",
       "    <tr>\n",
       "      <th>485</th>\n",
       "      <td>-1.141852</td>\n",
       "      <td>0.441461</td>\n",
       "      <td>-0.057150</td>\n",
       "      <td>1.346366</td>\n",
       "      <td>1.477833</td>\n",
       "      <td>1.308210</td>\n",
       "      <td>-0.322779</td>\n",
       "      <td>-0.786286</td>\n",
       "    </tr>\n",
       "    <tr>\n",
       "      <th>694</th>\n",
       "      <td>-0.547919</td>\n",
       "      <td>-0.966911</td>\n",
       "      <td>-0.470732</td>\n",
       "      <td>-1.288212</td>\n",
       "      <td>-0.692891</td>\n",
       "      <td>-1.077872</td>\n",
       "      <td>-0.848280</td>\n",
       "      <td>-0.701198</td>\n",
       "    </tr>\n",
       "    <tr>\n",
       "      <th>203</th>\n",
       "      <td>-0.547919</td>\n",
       "      <td>-0.685236</td>\n",
       "      <td>0.046245</td>\n",
       "      <td>-0.284563</td>\n",
       "      <td>-0.310843</td>\n",
       "      <td>-1.471321</td>\n",
       "      <td>-0.715395</td>\n",
       "      <td>-0.531023</td>\n",
       "    </tr>\n",
       "  </tbody>\n",
       "</table>\n",
       "</div>"
      ],
      "text/plain": [
       "     Pregnancies   Glucose  BloodPressure  SkinThickness   Insulin       BMI  \\\n",
       "248     1.530847  0.097192       0.046245       0.781814  2.797634  0.432467   \n",
       "322    -1.141852  0.097192       0.046245      -0.033651 -0.692891 -0.582887   \n",
       "485    -1.141852  0.441461      -0.057150       1.346366  1.477833  1.308210   \n",
       "694    -0.547919 -0.966911      -0.470732      -1.288212 -0.692891 -1.077872   \n",
       "203    -0.547919 -0.685236       0.046245      -0.284563 -0.310843 -1.471321   \n",
       "\n",
       "     DiabetesPedigreeFunction       Age  \n",
       "248                 -0.573449  0.064591  \n",
       "322                 -0.658012  0.234767  \n",
       "485                 -0.322779 -0.786286  \n",
       "694                 -0.848280 -0.701198  \n",
       "203                 -0.715395 -0.531023  "
      ]
     },
     "execution_count": 26,
     "metadata": {},
     "output_type": "execute_result"
    }
   ],
   "source": [
    "X_validate.head()"
   ]
  },
  {
   "cell_type": "markdown",
   "id": "western-butler",
   "metadata": {},
   "source": [
    "## Training and Evaluating Machine Learning Model"
   ]
  },
  {
   "cell_type": "code",
   "execution_count": 13,
   "id": "closing-federation",
   "metadata": {},
   "outputs": [],
   "source": [
    "from sklearn.linear_model import LogisticRegression\n",
    "clf = LogisticRegression(penalty='l2',random_state=0).fit(X_train, np.ravel(y_train))"
   ]
  },
  {
   "cell_type": "markdown",
   "id": "proud-robertson",
   "metadata": {},
   "source": [
    "### Interpreting the ML Model"
   ]
  },
  {
   "cell_type": "code",
   "execution_count": 14,
   "id": "positive-tolerance",
   "metadata": {},
   "outputs": [
    {
     "data": {
      "text/plain": [
       "Text(0.5, 0, 'Importance')"
      ]
     },
     "execution_count": 14,
     "metadata": {},
     "output_type": "execute_result"
    },
    {
     "data": {
      "image/png": "[encoded data removed]",
      "text/plain": [
       "<Figure size 792x432 with 1 Axes>"
      ]
     },
     "metadata": {
      "needs_background": "light"
     },
     "output_type": "display_data"
    }
   ],
   "source": [
    "import matplotlib.pyplot as plt\n",
    "\n",
    "coeff = list(clf.coef_[0])\n",
    "labels = list(X_train.columns)\n",
    "features = pd.DataFrame()\n",
    "features['Features'] = labels\n",
    "features['importance'] = coeff\n",
    "features.sort_values(by=['importance'], ascending=True, inplace=True)\n",
    "features['positive'] = features['importance'] > 0\n",
    "features.set_index('Features', inplace=True)\n",
    "features.importance.plot(kind='barh', figsize=(11, 6),color = features.positive.map({True: 'blue', False: 'red'}))\n",
    "plt.xlabel('Importance')"
   ]
  },
  {
   "cell_type": "markdown",
   "id": "fossil-prior",
   "metadata": {},
   "source": [
    "### Saving the Model"
   ]
  },
  {
   "cell_type": "code",
   "execution_count": 15,
   "id": "related-vacation",
   "metadata": {},
   "outputs": [
    {
     "data": {
      "text/plain": [
       "['sklearn_regression_model.pkl']"
      ]
     },
     "execution_count": 15,
     "metadata": {},
     "output_type": "execute_result"
    }
   ],
   "source": [
    "import joblib\n",
    "joblib.dump(clf, 'diabetes_model.pkl')"
   ]
  },
  {
   "cell_type": "code",
   "execution_count": 16,
   "id": "composite-export",
   "metadata": {},
   "outputs": [
    {
     "name": "stdout",
     "output_type": "stream",
     "text": [
      "accuracy =  81.36645962732919 %\n"
     ]
    }
   ],
   "source": [
    "model = joblib.load('diabetes_model.pkl')\n",
    "acc = model.score(X_test, y_test)\n",
    "print(\"accuracy = \",acc * 100,\"%\")"
   ]
  },
  {
   "cell_type": "markdown",
   "id": "hidden-corps",
   "metadata": {},
   "source": [
    "## Making Predictions with the model"
   ]
  },
  {
   "cell_type": "code",
   "execution_count": 17,
   "id": "theoretical-principle",
   "metadata": {},
   "outputs": [
    {
     "name": "stdout",
     "output_type": "stream",
     "text": [
      "     Pregnancies   Glucose  BloodPressure  SkinThickness   Insulin       BMI  \\\n",
      "248     1.530847  0.097192       0.046245       0.781814  2.797634  0.432467   \n",
      "322    -1.141852  0.097192       0.046245      -0.033651 -0.692891 -0.582887   \n",
      "485    -1.141852  0.441461      -0.057150       1.346366  1.477833  1.308210   \n",
      "694    -0.547919 -0.966911      -0.470732      -1.288212 -0.692891 -1.077872   \n",
      "203    -0.547919 -0.685236       0.046245      -0.284563 -0.310843 -1.471321   \n",
      "\n",
      "     DiabetesPedigreeFunction       Age  \n",
      "248                 -0.573449  0.064591  \n",
      "322                 -0.658012  0.234767  \n",
      "485                 -0.322779 -0.786286  \n",
      "694                 -0.848280 -0.701198  \n",
      "203                 -0.715395 -0.531023  \n"
     ]
    }
   ],
   "source": [
    "print(X_validate.head())"
   ]
  },
  {
   "cell_type": "code",
   "execution_count": 40,
   "id": "spread-prison",
   "metadata": {},
   "outputs": [],
   "source": [
    "import json\n",
    "\n",
    "with open('validation_data.json') as f:\n",
    "    raw_data = json.load(f)\n",
    "\n",
    "data = raw_data['data']\n",
    "data = np.array(data)\n",
    "result = model.predict(data)\n",
    "result"
   ]
  },
  {
   "cell_type": "code",
   "execution_count": 18,
   "id": "clear-implementation",
   "metadata": {},
   "outputs": [
    {
     "name": "stdout",
     "output_type": "stream",
     "text": [
      "Probability: [[0.62032838 0.37967162]\n",
      " [0.85382455 0.14617545]\n",
      " [0.65555894 0.34444106]\n",
      " [0.94598169 0.05401831]\n",
      " [0.95542114 0.04457886]\n",
      " [0.89112166 0.10887834]\n",
      " [0.53627298 0.46372702]\n",
      " [0.84962365 0.15037635]\n",
      " [0.71103114 0.28896886]\n",
      " [0.74360675 0.25639325]\n",
      " [0.97300025 0.02699975]\n",
      " [0.82325558 0.17674442]\n",
      " [0.32785001 0.67214999]\n",
      " [0.56755459 0.43244541]\n",
      " [0.85102261 0.14897739]\n",
      " [0.61672222 0.38327778]\n",
      " [0.32997423 0.67002577]\n",
      " [0.82764157 0.17235843]\n",
      " [0.83517767 0.16482233]\n",
      " [0.17794959 0.82205041]\n",
      " [0.16072362 0.83927638]\n",
      " [0.8742948  0.1257052 ]\n",
      " [0.37329558 0.62670442]\n",
      " [0.73531866 0.26468134]\n",
      " [0.77815944 0.22184056]\n",
      " [0.64633923 0.35366077]\n",
      " [0.68967932 0.31032068]\n",
      " [0.98212039 0.01787961]\n",
      " [0.92565382 0.07434618]\n",
      " [0.3093793  0.6906207 ]\n",
      " [0.88620096 0.11379904]\n",
      " [0.75498288 0.24501712]\n",
      " [0.82672878 0.17327122]\n",
      " [0.91762101 0.08237899]\n",
      " [0.31239237 0.68760763]\n",
      " [0.9173545  0.0826455 ]\n",
      " [0.75771919 0.24228081]\n",
      " [0.61113551 0.38886449]\n",
      " [0.74882818 0.25117182]\n",
      " [0.59516499 0.40483501]\n",
      " [0.28283398 0.71716602]\n",
      " [0.81960014 0.18039986]\n",
      " [0.49337557 0.50662443]\n",
      " [0.82526124 0.17473876]\n",
      " [0.89623412 0.10376588]\n",
      " [0.92807228 0.07192772]\n",
      " [0.03004593 0.96995407]\n",
      " [0.10521845 0.89478155]\n",
      " [0.66800843 0.33199157]\n",
      " [0.95203569 0.04796431]\n",
      " [0.88977327 0.11022673]\n",
      " [0.95313135 0.04686865]\n",
      " [0.94383363 0.05616637]\n",
      " [0.81415336 0.18584664]\n",
      " [0.5001378  0.4998622 ]\n",
      " [0.93864185 0.06135815]\n",
      " [0.15993974 0.84006026]\n",
      " [0.20385312 0.79614688]\n",
      " [0.52015341 0.47984659]\n",
      " [0.26712767 0.73287233]\n",
      " [0.94970525 0.05029475]\n",
      " [0.25462973 0.74537027]\n",
      " [0.93198221 0.06801779]\n",
      " [0.86011529 0.13988471]\n",
      " [0.72462972 0.27537028]\n",
      " [0.30020721 0.69979279]\n",
      " [0.82309957 0.17690043]\n",
      " [0.95457564 0.04542436]\n",
      " [0.82025615 0.17974385]\n",
      " [0.49480615 0.50519385]]\n",
      "prediction: [0 0 0 0 0 0 0 0 0 0 0 0 1 0 0 0 1 0 0 1 1 0 1 0 0 0 0 0 0 1 0 0 0 0 1 0 0\n",
      " 0 0 0 1 0 1 0 0 0 1 1 0 0 0 0 0 0 0 0 1 1 0 1 0 1 0 0 0 1 0 0 0 1]\n"
     ]
    }
   ],
   "source": [
    "# predict\n",
    "predictionProbability = model.predict_proba(X_validate)\n",
    "prediction = model.predict(X_validate)\n",
    "print('Probability:', predictionProbability)\n",
    "print('prediction:', prediction)"
   ]
  },
  {
   "cell_type": "code",
   "execution_count": null,
   "id": "complex-preparation",
   "metadata": {},
   "outputs": [],
   "source": [
    "%%writefile train.py\n",
    "\n",
    "import os\n",
    "import joblib\n",
    "import argparse\n",
    "\n",
    "import numpy as np\n",
    "import pandas as pd\n",
    "\n",
    "from sklearn.preprocessing import StandardScaler\n",
    "from sklearn.model_selection import train_test_split\n",
    "from sklearn.linear_model import LogisticRegression\n",
    "\n",
    "from azureml.core import Run\n",
    "print('Libraries Imported')\n",
    "\n",
    "# ***  Azure Machine Learning service specfic code starts... ***\n",
    "\n",
    "# let user feed in 2 parameters, the location of the data files (from datastore), and the regularization rate of the logistic regression model\n",
    "parser = argparse.ArgumentParser()\n",
    "parser.add_argument('--data-folder', type=str, dest='data_folder', help='data folder mounting point')\n",
    "parser.add_argument('--penalty', type=str, dest='penalty', default='l2', help='penalty')\n",
    "args = parser.parse_args()\n",
    "\n",
    "\n",
    "data_folder = args.data_folder\n",
    "penalty = args.penalty\n",
    "\n",
    "print('Data folder:', data_folder)\n",
    "\n",
    "# get hold of the current run\n",
    "run = Run.get_context()\n",
    "\n",
    "# ***  Azure Machine Learning service specfic code ends. ***\n",
    "\n",
    "filepath = os.path.join(data_folder, 'diabetes.csv')\n",
    "\n",
    "df_diabetes = pd.read_csv(filepath)\n",
    "#Features data\n",
    "X0= df_diabetes.loc[:,  df_diabetes.columns != 'Outcome']\n",
    "#label data\n",
    "y= df_diabetes[['Outcome']]\n",
    "\n",
    "# Scaler the data \n",
    "names = X0.columns\n",
    "scaler = StandardScaler()\n",
    "X = scaler.fit_transform(X0)\n",
    "X = pd.DataFrame(X, columns=names)\n",
    "\n",
    "# Split the data\n",
    "X_train, X_test, y_train, y_test = train_test_split(X, y, test_size=0.3)\n",
    "X_test, X_validate, y_test, y_validate = train_test_split(X_test, y_test, test_size=0.3)\n",
    "\n",
    "# Adjuting model\n",
    "from sklearn.linear_model import LogisticRegression\n",
    "clf = LogisticRegression(penalty=penalty,random_state=0)\n",
    "clf.fit(X_train, np.ravel(y_train))\n",
    "print('Regressionn Model Trained.')\n",
    "\n",
    "# Predict using the test data...\n",
    "print('Running the test dataset through...')\n",
    "y_predtest = clf.predict(X_test)\n",
    "print('Test dataset scored.')\n",
    "\n",
    "# calculate accuracy on the prediction\n",
    "acc= clf.score(X_test, y_test)\n",
    "print(\"accuracy = \",acc * 100,\"%\")\n",
    "\n",
    "# ***  Azure Machine Learning service specfic code starts... ***\n",
    "run.log('data_dir', data_folder)\n",
    "run.log('accuracy', np.float(acc))\n",
    "\n",
    "os.makedirs('outputs', exist_ok=True)\n",
    "\n",
    "# note file saved in the outputs folder is automatically uploaded into experiment record\n",
    "joblib.dump(value=clf, filename='outputs/diabetesmodel.pkl')\n",
    "X_validate.to_json('outputs/validation_data.json', orient=\"split\")\n",
    "\n",
    "# ***  Azure Machine Learning service specfic code ends. ***\n"
   ]
  },
  {
   "cell_type": "code",
   "execution_count": 48,
   "id": "hybrid-incident",
   "metadata": {},
   "outputs": [
    {
     "data": {
      "text/plain": [
       "'inputs/diabetes.csv'"
      ]
     },
     "execution_count": 48,
     "metadata": {},
     "output_type": "execute_result"
    }
   ],
   "source": [
    "import os\n",
    "data_folder ='inputs'\n",
    "filepath = os.path.join(data_folder, 'diabetes.csv')\n",
    "filepath"
   ]
  }
 ],
 "metadata": {
  "kernelspec": {
   "display_name": "Python 3",
   "language": "python",
   "name": "python3"
  },
  "language_info": {
   "codemirror_mode": {
    "name": "ipython",
    "version": 3
   },
   "file_extension": ".py",
   "mimetype": "text/x-python",
   "name": "python",
   "nbconvert_exporter": "python",
   "pygments_lexer": "ipython3",
   "version": "3.6.12"
  }
 },
 "nbformat": 4,
 "nbformat_minor": 5
}
