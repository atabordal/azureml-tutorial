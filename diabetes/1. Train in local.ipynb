{
 "cells": [
  {
   "cell_type": "markdown",
   "id": "imported-treasure",
   "metadata": {},
   "source": [
    "# Predicting Diabetes with Logistic Regression"
   ]
  },
  {
   "cell_type": "markdown",
   "id": "frequent-peninsula",
   "metadata": {},
   "source": [
    "## Context\n",
    "This dataset is originally from the National Institute of Diabetes and Digestive and Kidney Diseases. The objective of the dataset is to diagnostically predict whether or not a patient has diabetes, based on certain diagnostic measurements included in the dataset. Several constraints were placed on the selection of these instances from a larger database. In particular, all patients here are females at least 21 years old of Pima Indian heritage. [Link to Kaggle](https://www.kaggle.com/uciml/pima-indians-diabetes-database)\n",
    "\n",
    "## Content\n",
    "The datasets consists of several medical predictor variables and one target variable, Outcome. Predictor variables includes the number of pregnancies the patient has had, their BMI, insulin level, age, and so on."
   ]
  },
  {
   "cell_type": "code",
   "execution_count": 1,
   "id": "scheduled-guess",
   "metadata": {},
   "outputs": [],
   "source": [
    "import pandas as pd\n",
    "import numpy as np"
   ]
  },
  {
   "cell_type": "code",
   "execution_count": 2,
   "id": "naval-adult",
   "metadata": {},
   "outputs": [
    {
     "name": "stdout",
     "output_type": "stream",
     "text": [
      "   Pregnancies  Glucose  BloodPressure  SkinThickness  Insulin   BMI  \\\n",
      "0            6      148             72             35        0  33.6   \n",
      "1            1       85             66             29        0  26.6   \n",
      "2            8      183             64              0        0  23.3   \n",
      "3            1       89             66             23       94  28.1   \n",
      "4            0      137             40             35      168  43.1   \n",
      "\n",
      "   DiabetesPedigreeFunction  Age  Outcome  \n",
      "0                     0.627   50        1  \n",
      "1                     0.351   31        0  \n",
      "2                     0.672   32        1  \n",
      "3                     0.167   21        0  \n",
      "4                     2.288   33        1  \n"
     ]
    }
   ],
   "source": [
    "df_diabetes = pd.read_csv('inputs/diabetes.csv')\n",
    "print(df_diabetes.head())"
   ]
  },
  {
   "cell_type": "markdown",
   "id": "decreased-notice",
   "metadata": {},
   "source": [
    "Pregnancies: Number of times pregnant\n",
    "Glucose: Plasma glucose concentration over 2 hours in an oral glucose tolerance test\n",
    "BloodPressure: Diastolic blood pressure (mm Hg)\n",
    "SkinThickness: Triceps skin fold thickness (mm)\n",
    "Insulin: 2-Hour serum insulin (mu U/ml)\n",
    "BMI: Body mass index (weight in kg/(height in m)2)\n",
    "DiabetesPedigreeFunction: Diabetes pedigree function (a function which scores likelihood of diabetes based on family history)\n",
    "Age: Age (years)\n",
    "Outcome: Class variable (0 if non-diabetic, 1 if diabetic)"
   ]
  },
  {
   "cell_type": "markdown",
   "id": "general-reynolds",
   "metadata": {},
   "source": [
    "## Data Description"
   ]
  },
  {
   "cell_type": "code",
   "execution_count": 3,
   "id": "advised-mailing",
   "metadata": {},
   "outputs": [
    {
     "name": "stdout",
     "output_type": "stream",
     "text": [
      "<class 'pandas.core.frame.DataFrame'>\n",
      "RangeIndex: 768 entries, 0 to 767\n",
      "Data columns (total 9 columns):\n",
      " #   Column                    Non-Null Count  Dtype  \n",
      "---  ------                    --------------  -----  \n",
      " 0   Pregnancies               768 non-null    int64  \n",
      " 1   Glucose                   768 non-null    int64  \n",
      " 2   BloodPressure             768 non-null    int64  \n",
      " 3   SkinThickness             768 non-null    int64  \n",
      " 4   Insulin                   768 non-null    int64  \n",
      " 5   BMI                       768 non-null    float64\n",
      " 6   DiabetesPedigreeFunction  768 non-null    float64\n",
      " 7   Age                       768 non-null    int64  \n",
      " 8   Outcome                   768 non-null    int64  \n",
      "dtypes: float64(2), int64(7)\n",
      "memory usage: 54.1 KB\n"
     ]
    }
   ],
   "source": [
    "df_diabetes.info()"
   ]
  },
  {
   "cell_type": "markdown",
   "id": "restricted-procurement",
   "metadata": {},
   "source": [
    "## Dataset Preparation "
   ]
  },
  {
   "cell_type": "markdown",
   "id": "graduate-textbook",
   "metadata": {},
   "source": [
    "The data set consists of record of 768 patients in total. To train our model we will be using 705 records. We will be using 20% records for testing, and the last 10% records to cross check our model."
   ]
  },
  {
   "cell_type": "code",
   "execution_count": 4,
   "id": "characteristic-player",
   "metadata": {},
   "outputs": [],
   "source": [
    "X0= df_diabetes.loc[:,  df_diabetes.columns != 'Outcome']\n",
    "y= df_diabetes[['Outcome']]"
   ]
  },
  {
   "cell_type": "code",
   "execution_count": 5,
   "id": "convenient-stream",
   "metadata": {},
   "outputs": [],
   "source": [
    "from sklearn.preprocessing import StandardScaler \n",
    "\n",
    "# Get column names first\n",
    "names = X0.columns\n",
    "# Create the Scaler object\n",
    "scaler = StandardScaler()\n",
    "# Fit your data on the scaler object\n",
    "X = scaler.fit_transform(X0)\n",
    "X = pd.DataFrame(X, columns=names)"
   ]
  },
  {
   "cell_type": "code",
   "execution_count": 6,
   "id": "political-crossing",
   "metadata": {},
   "outputs": [],
   "source": [
    "from sklearn.model_selection import train_test_split\n",
    "\n",
    "X_train, X_test, y_train, y_test = train_test_split(X, y, test_size=0.3)\n",
    "X_test, X_validate, y_test, y_validate = train_test_split(X_test, y_test, test_size=0.3)"
   ]
  },
  {
   "cell_type": "code",
   "execution_count": 7,
   "id": "metropolitan-plaza",
   "metadata": {},
   "outputs": [
    {
     "data": {
      "text/html": [
       "<div>\n",
       "<style scoped>\n",
       "    .dataframe tbody tr th:only-of-type {\n",
       "        vertical-align: middle;\n",
       "    }\n",
       "\n",
       "    .dataframe tbody tr th {\n",
       "        vertical-align: top;\n",
       "    }\n",
       "\n",
       "    .dataframe thead th {\n",
       "        text-align: right;\n",
       "    }\n",
       "</style>\n",
       "<table border=\"1\" class=\"dataframe\">\n",
       "  <thead>\n",
       "    <tr style=\"text-align: right;\">\n",
       "      <th></th>\n",
       "      <th>Pregnancies</th>\n",
       "      <th>Glucose</th>\n",
       "      <th>BloodPressure</th>\n",
       "      <th>SkinThickness</th>\n",
       "      <th>Insulin</th>\n",
       "      <th>BMI</th>\n",
       "      <th>DiabetesPedigreeFunction</th>\n",
       "      <th>Age</th>\n",
       "    </tr>\n",
       "  </thead>\n",
       "  <tbody>\n",
       "    <tr>\n",
       "      <th>610</th>\n",
       "      <td>-0.250952</td>\n",
       "      <td>-0.466156</td>\n",
       "      <td>-0.780919</td>\n",
       "      <td>0.029077</td>\n",
       "      <td>0.679007</td>\n",
       "      <td>-0.138669</td>\n",
       "      <td>-0.543248</td>\n",
       "      <td>-0.786286</td>\n",
       "    </tr>\n",
       "    <tr>\n",
       "      <th>536</th>\n",
       "      <td>-1.141852</td>\n",
       "      <td>-0.497453</td>\n",
       "      <td>1.080200</td>\n",
       "      <td>-1.288212</td>\n",
       "      <td>-0.692891</td>\n",
       "      <td>-0.303664</td>\n",
       "      <td>-0.830159</td>\n",
       "      <td>1.085644</td>\n",
       "    </tr>\n",
       "    <tr>\n",
       "      <th>94</th>\n",
       "      <td>-0.547919</td>\n",
       "      <td>0.660541</td>\n",
       "      <td>0.666618</td>\n",
       "      <td>-0.159107</td>\n",
       "      <td>-0.137185</td>\n",
       "      <td>-0.925569</td>\n",
       "      <td>0.873188</td>\n",
       "      <td>-1.041549</td>\n",
       "    </tr>\n",
       "    <tr>\n",
       "      <th>237</th>\n",
       "      <td>-1.141852</td>\n",
       "      <td>1.818535</td>\n",
       "      <td>1.080200</td>\n",
       "      <td>0.405445</td>\n",
       "      <td>-0.692891</td>\n",
       "      <td>1.536665</td>\n",
       "      <td>0.646679</td>\n",
       "      <td>-0.871374</td>\n",
       "    </tr>\n",
       "    <tr>\n",
       "      <th>195</th>\n",
       "      <td>0.342981</td>\n",
       "      <td>1.161295</td>\n",
       "      <td>0.770014</td>\n",
       "      <td>1.283638</td>\n",
       "      <td>1.130518</td>\n",
       "      <td>0.940144</td>\n",
       "      <td>-0.232176</td>\n",
       "      <td>-0.360847</td>\n",
       "    </tr>\n",
       "  </tbody>\n",
       "</table>\n",
       "</div>"
      ],
      "text/plain": [
       "     Pregnancies   Glucose  BloodPressure  SkinThickness   Insulin       BMI  \\\n",
       "610    -0.250952 -0.466156      -0.780919       0.029077  0.679007 -0.138669   \n",
       "536    -1.141852 -0.497453       1.080200      -1.288212 -0.692891 -0.303664   \n",
       "94     -0.547919  0.660541       0.666618      -0.159107 -0.137185 -0.925569   \n",
       "237    -1.141852  1.818535       1.080200       0.405445 -0.692891  1.536665   \n",
       "195     0.342981  1.161295       0.770014       1.283638  1.130518  0.940144   \n",
       "\n",
       "     DiabetesPedigreeFunction       Age  \n",
       "610                 -0.543248 -0.786286  \n",
       "536                 -0.830159  1.085644  \n",
       "94                   0.873188 -1.041549  \n",
       "237                  0.646679 -0.871374  \n",
       "195                 -0.232176 -0.360847  "
      ]
     },
     "execution_count": 7,
     "metadata": {},
     "output_type": "execute_result"
    }
   ],
   "source": [
    "X_train.head()"
   ]
  },
  {
   "cell_type": "code",
   "execution_count": 8,
   "id": "figured-fellow",
   "metadata": {},
   "outputs": [
    {
     "data": {
      "text/plain": [
       "Pregnancies                -0.024771\n",
       "Glucose                     0.002310\n",
       "BloodPressure               0.024392\n",
       "SkinThickness              -0.000476\n",
       "Insulin                     0.029843\n",
       "BMI                        -0.001587\n",
       "DiabetesPedigreeFunction   -0.024215\n",
       "Age                         0.006599\n",
       "dtype: float64"
      ]
     },
     "execution_count": 8,
     "metadata": {},
     "output_type": "execute_result"
    }
   ],
   "source": [
    "np.mean(X_train, axis=0) # check that new means equal 0"
   ]
  },
  {
   "cell_type": "code",
   "execution_count": 9,
   "id": "private-announcement",
   "metadata": {},
   "outputs": [
    {
     "data": {
      "text/plain": [
       "Pregnancies                 0.991945\n",
       "Glucose                     1.006130\n",
       "BloodPressure               0.938816\n",
       "SkinThickness               1.009842\n",
       "Insulin                     1.051668\n",
       "BMI                         1.015513\n",
       "DiabetesPedigreeFunction    0.959798\n",
       "Age                         1.022482\n",
       "dtype: float64"
      ]
     },
     "execution_count": 9,
     "metadata": {},
     "output_type": "execute_result"
    }
   ],
   "source": [
    "np.std(X_train, axis=0) # check that new stds equal 1"
   ]
  },
  {
   "cell_type": "code",
   "execution_count": 10,
   "id": "detected-landscape",
   "metadata": {},
   "outputs": [],
   "source": [
    "X_test.to_json('inputs/X_test_data.json', orient=\"split\")\n",
    "y_test.to_json('inputs/y_test_data.json', orient=\"split\")"
   ]
  },
  {
   "cell_type": "code",
   "execution_count": 11,
   "id": "raising-coupon",
   "metadata": {},
   "outputs": [],
   "source": [
    "X_validate.to_json('inputs/X_validation_data.json', orient=\"split\")\n",
    "y_validate.to_json('inputs/y_validation_data.json', orient=\"split\")"
   ]
  },
  {
   "cell_type": "markdown",
   "id": "favorite-awareness",
   "metadata": {},
   "source": [
    "## Training and Evaluating Machine Learning Model"
   ]
  },
  {
   "cell_type": "code",
   "execution_count": 12,
   "id": "northern-belly",
   "metadata": {},
   "outputs": [],
   "source": [
    "from sklearn.linear_model import LogisticRegression\n",
    "clf = LogisticRegression(penalty='l2',random_state=0).fit(X_train, np.ravel(y_train))"
   ]
  },
  {
   "cell_type": "markdown",
   "id": "ultimate-deviation",
   "metadata": {},
   "source": [
    "### Interpreting the ML Model"
   ]
  },
  {
   "cell_type": "code",
   "execution_count": 13,
   "id": "numerical-thesis",
   "metadata": {},
   "outputs": [
    {
     "data": {
      "text/plain": [
       "Text(0.5, 0, 'Importance')"
      ]
     },
     "execution_count": 13,
     "metadata": {},
     "output_type": "execute_result"
    },
    {
     "data": {
      "image/png": "[encoded data removed]",
      "text/plain": [
       "<Figure size 792x432 with 1 Axes>"
      ]
     },
     "metadata": {
      "needs_background": "light"
     },
     "output_type": "display_data"
    }
   ],
   "source": [
    "import matplotlib.pyplot as plt\n",
    "\n",
    "coeff = list(clf.coef_[0])\n",
    "labels = list(X_train.columns)\n",
    "features = pd.DataFrame()\n",
    "features['Features'] = labels\n",
    "features['importance'] = coeff\n",
    "features.sort_values(by=['importance'], ascending=True, inplace=True)\n",
    "features['positive'] = features['importance'] > 0\n",
    "features.set_index('Features', inplace=True)\n",
    "features.importance.plot(kind='barh', figsize=(11, 6),color = features.positive.map({True: 'blue', False: 'red'}))\n",
    "plt.xlabel('Importance')"
   ]
  },
  {
   "cell_type": "markdown",
   "id": "finnish-verification",
   "metadata": {},
   "source": [
    "### Saving the Model"
   ]
  },
  {
   "cell_type": "code",
   "execution_count": 14,
   "id": "signal-offer",
   "metadata": {},
   "outputs": [
    {
     "data": {
      "text/plain": [
       "['diabetes_model.pkl']"
      ]
     },
     "execution_count": 14,
     "metadata": {},
     "output_type": "execute_result"
    }
   ],
   "source": [
    "import joblib\n",
    "joblib.dump(clf, 'diabetes_model.pkl')"
   ]
  },
  {
   "cell_type": "code",
   "execution_count": 15,
   "id": "addressed-layer",
   "metadata": {},
   "outputs": [
    {
     "name": "stdout",
     "output_type": "stream",
     "text": [
      "accuracy =  83.22981366459628 %\n"
     ]
    }
   ],
   "source": [
    "model = joblib.load('diabetes_model.pkl')\n",
    "acc = model.score(X_test, y_test)\n",
    "print(\"accuracy = \",acc * 100,\"%\")"
   ]
  },
  {
   "cell_type": "markdown",
   "id": "numerous-argument",
   "metadata": {},
   "source": [
    "## Making Predictions with the model"
   ]
  },
  {
   "cell_type": "code",
   "execution_count": 16,
   "id": "laughing-youth",
   "metadata": {},
   "outputs": [
    {
     "name": "stdout",
     "output_type": "stream",
     "text": [
      "     Pregnancies   Glucose  BloodPressure  SkinThickness   Insulin       BMI  \\\n",
      "287    -0.844885 -0.059293       0.873409       1.158182  1.217347  1.727044   \n",
      "387     1.233880 -0.497453       1.597178       0.969998 -0.692891  1.435129   \n",
      "109    -1.141852 -0.810425       0.821712       0.279989 -0.380306  0.686306   \n",
      "174    -0.547919 -1.436368      -0.263941       0.217261 -0.215331 -0.290972   \n",
      "572    -0.250952 -0.309671      -0.574128       0.656358 -0.310843 -0.316356   \n",
      "\n",
      "     DiabetesPedigreeFunction       Age  \n",
      "287                  1.015133 -0.360847  \n",
      "387                 -0.703314  1.000557  \n",
      "109                 -0.679153 -0.786286  \n",
      "174                 -0.307679 -0.020496  \n",
      "572                 -0.126471 -0.956462  \n"
     ]
    }
   ],
   "source": [
    "print(X_validate.head())"
   ]
  },
  {
   "cell_type": "code",
   "execution_count": 17,
   "id": "fatal-observer",
   "metadata": {},
   "outputs": [
    {
     "data": {
      "text/plain": [
       "array([0, 0, 0, 0, 0, 0, 0, 0, 1, 0, 0, 0, 0, 0, 0, 1, 1, 1, 0, 1, 0, 0,\n",
       "       0, 1, 0, 0, 0, 0, 0, 1, 0, 1, 0, 0, 0, 0, 1, 1, 0, 1, 0, 0, 0, 0,\n",
       "       0, 0, 0, 0, 1, 1, 0, 1, 0, 0, 0, 0, 0, 0, 0, 1, 0, 0, 0, 0, 0, 0,\n",
       "       1, 1, 1, 0])"
      ]
     },
     "execution_count": 17,
     "metadata": {},
     "output_type": "execute_result"
    }
   ],
   "source": [
    "import json\n",
    "\n",
    "with open('inputs/X_validation_data.json') as f:\n",
    "    raw_data = json.load(f)\n",
    "\n",
    "data = raw_data['data']\n",
    "data = np.array(data)\n",
    "result = model.predict(data)\n",
    "result"
   ]
  },
  {
   "cell_type": "code",
   "execution_count": 18,
   "id": "humanitarian-beverage",
   "metadata": {},
   "outputs": [
    {
     "name": "stdout",
     "output_type": "stream",
     "text": [
      "Probability: [[0.50918802 0.49081198]\n",
      " [0.51920364 0.48079636]\n",
      " [0.89285697 0.10714303]\n",
      " [0.94320972 0.05679028]\n",
      " [0.81178557 0.18821443]\n",
      " [0.86933876 0.13066124]\n",
      " [0.72877275 0.27122725]\n",
      " [0.66187421 0.33812579]\n",
      " [0.33713916 0.66286084]\n",
      " [0.87619465 0.12380535]\n",
      " [0.6344463  0.3655537 ]\n",
      " [0.80101155 0.19898845]\n",
      " [0.87501137 0.12498863]\n",
      " [0.63593537 0.36406463]\n",
      " [0.94494705 0.05505295]\n",
      " [0.34190882 0.65809118]\n",
      " [0.3695037  0.6304963 ]\n",
      " [0.15499473 0.84500527]\n",
      " [0.70618309 0.29381691]\n",
      " [0.07815895 0.92184105]\n",
      " [0.92172605 0.07827395]\n",
      " [0.83260098 0.16739902]\n",
      " [0.71656341 0.28343659]\n",
      " [0.2692931  0.7307069 ]\n",
      " [0.91551732 0.08448268]\n",
      " [0.65482686 0.34517314]\n",
      " [0.73181771 0.26818229]\n",
      " [0.51297972 0.48702028]\n",
      " [0.85922008 0.14077992]\n",
      " [0.23331273 0.76668727]\n",
      " [0.85578397 0.14421603]\n",
      " [0.24278877 0.75721123]\n",
      " [0.82777361 0.17222639]\n",
      " [0.75744618 0.24255382]\n",
      " [0.90036405 0.09963595]\n",
      " [0.79825601 0.20174399]\n",
      " [0.31201777 0.68798223]\n",
      " [0.14644199 0.85355801]\n",
      " [0.96672785 0.03327215]\n",
      " [0.06711921 0.93288079]\n",
      " [0.77484309 0.22515691]\n",
      " [0.7237015  0.2762985 ]\n",
      " [0.75843372 0.24156628]\n",
      " [0.82432985 0.17567015]\n",
      " [0.61001194 0.38998806]\n",
      " [0.92993053 0.07006947]\n",
      " [0.98211354 0.01788646]\n",
      " [0.58810921 0.41189079]\n",
      " [0.00552375 0.99447625]\n",
      " [0.38146488 0.61853512]\n",
      " [0.79232999 0.20767001]\n",
      " [0.11407527 0.88592473]\n",
      " [0.52013324 0.47986676]\n",
      " [0.73862291 0.26137709]\n",
      " [0.7687403  0.2312597 ]\n",
      " [0.73635031 0.26364969]\n",
      " [0.61807002 0.38192998]\n",
      " [0.70464691 0.29535309]\n",
      " [0.91320418 0.08679582]\n",
      " [0.04075727 0.95924273]\n",
      " [0.76926751 0.23073249]\n",
      " [0.97221685 0.02778315]\n",
      " [0.86739723 0.13260277]\n",
      " [0.84672458 0.15327542]\n",
      " [0.84919153 0.15080847]\n",
      " [0.91184008 0.08815992]\n",
      " [0.49840491 0.50159509]\n",
      " [0.14736488 0.85263512]\n",
      " [0.45620832 0.54379168]\n",
      " [0.82632762 0.17367238]]\n"
     ]
    }
   ],
   "source": [
    "predictionProbability = model.predict_proba(X_validate)\n",
    "print('Probability:', predictionProbability)"
   ]
  },
  {
   "cell_type": "code",
   "execution_count": 19,
   "id": "homeless-irrigation",
   "metadata": {},
   "outputs": [
    {
     "name": "stdout",
     "output_type": "stream",
     "text": [
      "prediction: [0 0 0 0 0 0 0 0 1 0 0 0 0 0 0 1 1 1 0 1 0 0 0 1 0 0 0 0 0 1 0 1 0 0 0 0 1\n",
      " 1 0 1 0 0 0 0 0 0 0 0 1 1 0 1 0 0 0 0 0 0 0 1 0 0 0 0 0 0 1 1 1 0]\n"
     ]
    }
   ],
   "source": [
    "# predict\n",
    "prediction = model.predict(X_validate)\n",
    "print('prediction:', prediction)"
   ]
  },
  {
   "cell_type": "code",
   "execution_count": 20,
   "id": "polish-superintendent",
   "metadata": {},
   "outputs": [
    {
     "name": "stdout",
     "output_type": "stream",
     "text": [
      "Overwriting train.py\n"
     ]
    }
   ],
   "source": [
    "%%writefile train.py\n",
    "\n",
    "import os\n",
    "import joblib\n",
    "import argparse\n",
    "\n",
    "import numpy as np\n",
    "import pandas as pd\n",
    "\n",
    "from sklearn.preprocessing import StandardScaler\n",
    "from sklearn.model_selection import train_test_split\n",
    "from sklearn.linear_model import LogisticRegression\n",
    "\n",
    "print('Libraries Imported')\n",
    "\n",
    "parser = argparse.ArgumentParser()\n",
    "parser.add_argument('--data-folder', type=str, dest='data_folder', help='data folder mounting point')\n",
    "parser.add_argument('--penalty', type=str, dest='penalty', default='l2', help='penalty')\n",
    "args = parser.parse_args()\n",
    "\n",
    "data_folder = args.data_folder\n",
    "penalty = args.penalty\n",
    "\n",
    "print('Data folder:', data_folder)\n",
    "\n",
    "filepath = os.path.join(data_folder, 'diabetes.csv')\n",
    "\n",
    "df_diabetes = pd.read_csv(filepath)\n",
    "#Features data\n",
    "X0= df_diabetes.loc[:,  df_diabetes.columns != 'Outcome']\n",
    "#label data\n",
    "y= df_diabetes[['Outcome']]\n",
    "\n",
    "# Scaler the data \n",
    "names = X0.columns\n",
    "scaler = StandardScaler()\n",
    "X = scaler.fit_transform(X0)\n",
    "X = pd.DataFrame(X, columns=names)\n",
    "\n",
    "# Split the data\n",
    "X_train, X_test, y_train, y_test = train_test_split(X, y, test_size=0.3)\n",
    "X_test, X_validate, y_test, y_validate = train_test_split(X_test, y_test, test_size=0.3)\n",
    "\n",
    "# Adjuting model\n",
    "from sklearn.linear_model import LogisticRegression\n",
    "clf = LogisticRegression(penalty=penalty,random_state=0)\n",
    "clf.fit(X_train, np.ravel(y_train))\n",
    "print('Regressionn Model Trained.')\n",
    "\n",
    "# Predict using the test data...\n",
    "print('Running the test dataset through...')\n",
    "y_predtest = clf.predict(X_test)\n",
    "print('Test dataset scored.')\n",
    "\n",
    "# calculate accuracy on the prediction\n",
    "acc= clf.score(X_test, y_test)\n",
    "print(\"accuracy = \",acc * 100,\"%\")\n",
    "\n",
    "# note file saved in the outputs folder is automatically uploaded into experiment record\n",
    "os.makedirs('outputs', exist_ok=True)\n",
    "joblib.dump(value=clf, filename='outputs/diabetes_model.pkl')\n",
    "X_validate.to_json('outputs/validation_data.json', orient=\"split\")\n"
   ]
  },
  {
   "cell_type": "code",
   "execution_count": 21,
   "id": "rising-attitude",
   "metadata": {},
   "outputs": [
    {
     "name": "stdout",
     "output_type": "stream",
     "text": [
      "Libraries Imported\n",
      "Data folder: inputs\n",
      "Regressionn Model Trained.\n",
      "Running the test dataset through...\n",
      "Test dataset scored.\n",
      "accuracy =  75.15527950310559 %\n"
     ]
    }
   ],
   "source": [
    "!python train.py --data-folder='inputs'"
   ]
  }
 ],
 "metadata": {
  "kernelspec": {
   "display_name": "Python 3",
   "language": "python",
   "name": "python3"
  },
  "language_info": {
   "codemirror_mode": {
    "name": "ipython",
    "version": 3
   },
   "file_extension": ".py",
   "mimetype": "text/x-python",
   "name": "python",
   "nbconvert_exporter": "python",
   "pygments_lexer": "ipython3",
   "version": "3.6.12"
  }
 },
 "nbformat": 4,
 "nbformat_minor": 5
}
