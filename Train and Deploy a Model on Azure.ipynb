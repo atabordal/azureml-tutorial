{
 "cells": [
  {
   "cell_type": "markdown",
   "metadata": {},
   "source": [
    "Copyright (c) Microsoft Corporation. All rights reserved.\n",
    "\n",
    "Licensed under the MIT License."
   ]
  },
  {
   "cell_type": "markdown",
   "metadata": {},
   "source": [
    "![Impressions](https://PixelServer20190423114238.azurewebsites.net/api/impressions/MachineLearningNotebooks/tutorials/img-classification-part1-training.png)"
   ]
  },
  {
   "cell_type": "markdown",
   "metadata": {},
   "source": [
    "# Train and Deploy a Model on Azure Machine Learning service.\n",
    "\n",
    "In this lab, you train the classifcation machine learning model on remote compute resources. You'll use the training and deployment workflow for Azure Machine Learning service (preview) in a Python Jupyter notebook.  \n",
    "\n",
    "Learn how to:\n",
    "\n",
    "> * Set up your development environment\n",
    "> * Access and examine the data\n",
    "> * Train a simple classification model on a remote cluster\n",
    "> * Review training results, find and register the best model"
   ]
  },
  {
   "cell_type": "markdown",
   "metadata": {},
   "source": [
    "## Set up your development environment\n",
    "\n",
    "All the setup for your development work can be accomplished in a Python notebook.  Setup includes:\n",
    "\n",
    "* Create an Experiment in an existing Workspace.\n",
    "* Configure AutoML using AutoMLConfig.\n",
    "* Importing Python packages\n",
    "* Connecting to a workspace to enable communication between your local computer and remote resources\n",
    "* Creating an experiment to track all your runs\n",
    "* Creating a remote compute target to use for training\n",
    "\n",
    "### Import packages\n",
    "\n",
    "Import Python packages you need in this session. Also display the Azure Machine Learning SDK version."
   ]
  },
  {
   "cell_type": "code",
   "execution_count": 1,
   "metadata": {
    "tags": [
     "check version"
    ]
   },
   "outputs": [
    {
     "name": "stdout",
     "output_type": "stream",
     "text": [
      "Azure ML SDK Version:  1.20.0\n"
     ]
    }
   ],
   "source": [
    "import numpy as np\n",
    "\n",
    "import azureml.core\n",
    "from azureml.core import Workspace\n",
    "\n",
    "# check core SDK version number\n",
    "print(\"Azure ML SDK Version: \", azureml.core.VERSION)"
   ]
  },
  {
   "cell_type": "markdown",
   "metadata": {},
   "source": [
    "# Create the AMLS workspace...\n",
    "\n",
    "## You will be asked to log into Azure and be given a code in the output message area to enter."
   ]
  },
  {
   "cell_type": "code",
   "execution_count": null,
   "metadata": {},
   "outputs": [],
   "source": [
    "from azureml.core import Workspace\n",
    "ws = Workspace.create(name='docs-ws',\n",
    "            subscription_id='c958680c-dc7a-403c-bb83-74f48dce46b3', \n",
    "            resource_group='docs-aml',\n",
    "            create_resource_group = True,\n",
    "            location='West US'\n",
    "            )"
   ]
  },
  {
   "cell_type": "markdown",
   "metadata": {},
   "source": [
    "If you got a Azure Machine Learning Workspace please use the cell above"
   ]
  },
  {
   "cell_type": "code",
   "execution_count": 2,
   "metadata": {},
   "outputs": [],
   "source": [
    "from azureml.core import Workspace\n",
    "ws = Workspace.get(name='docs-ws',\n",
    "            subscription_id='c958680c-dc7a-403c-bb83-74f48dce46b3', \n",
    "            resource_group='docs-aml')"
   ]
  },
  {
   "cell_type": "markdown",
   "metadata": {},
   "source": [
    "## Workspace Properties from Above:\n",
    "\n",
    "Name | Description\n",
    "---- | -----------\n",
    "name            | A name you chose to call the workspace.  We'll use the value aready in the code.\n",
    "subscription_id | The id of the subscription the workspace will be assigned to.  You can get this from the Azure portal.\n",
    "resource_group  | A name you want all the Azure resourced creates for the workspace to be associated with.  Makes rsource management easier.\n",
    "location | Azure data center location closest to you that support creation of AMLS workspaces.  "
   ]
  },
  {
   "cell_type": "markdown",
   "metadata": {},
   "source": [
    "## To make reconnecting to this workspace in future notebooks easier, save the configuration setting using the code in the cell below."
   ]
  },
  {
   "cell_type": "code",
   "execution_count": 3,
   "metadata": {},
   "outputs": [
    {
     "name": "stdout",
     "output_type": "stream",
     "text": [
      "Configuration saved.\n"
     ]
    }
   ],
   "source": [
    "# Create the configuration file.\n",
    "ws.write_config(path='.', file_name='config.json')\n",
    "print('Configuration saved.')"
   ]
  },
  {
   "cell_type": "markdown",
   "metadata": {},
   "source": [
    "### Connect to workspace in future work...\n",
    "\n",
    "In the future, we can use the code below to connect back to this workspace. \n",
    "The code creates a workspace object from the existing workspace. `Workspace.from_config()` reads the file **config.json** and loads the details into an object named `ws`.  You don't need to use this now since we are still connected from when we created the workspace but this will come in handy later."
   ]
  },
  {
   "cell_type": "code",
   "execution_count": 4,
   "metadata": {
    "tags": [
     "load workspace"
    ]
   },
   "outputs": [
    {
     "name": "stdout",
     "output_type": "stream",
     "text": [
      "docs-ws\twestus\tdocs-aml\twestus\n"
     ]
    }
   ],
   "source": [
    "# load workspace configuration from the config.json file in the current folder.\n",
    "ws = Workspace.from_config()\n",
    "print(ws.name, ws.location, ws.resource_group, ws.location, sep='\\t')"
   ]
  },
  {
   "cell_type": "markdown",
   "metadata": {},
   "source": [
    "### Create experiment\n",
    "\n",
    "Create an experiment to track the runs in your workspace. A workspace can have muliple experiments. "
   ]
  },
  {
   "cell_type": "markdown",
   "metadata": {},
   "source": [
    "### Create or Attach existing compute resource\n",
    "By using Azure Machine Learning Compute, a managed service, data scientists can train machine learning models on clusters of Azure virtual machines. Examples include VMs with GPU support. In this tutorial, you create Azure Machine Learning Compute as your training environment. The code below creates the compute clusters for you if they don't already exist in your workspace.\n",
    "\n",
    "**Creation of compute takes approximately 5 minutes.** If the AmlCompute with that name is already in your workspace the code will skip the creation process."
   ]
  },
  {
   "cell_type": "code",
   "execution_count": 6,
   "metadata": {
    "tags": [
     "create mlc",
     "amlcompute"
    ]
   },
   "outputs": [
    {
     "name": "stdout",
     "output_type": "stream",
     "text": [
      "creating a new compute target...\n",
      "Creating\n",
      "Succeeded..................\n",
      "AmlCompute wait for completion finished\n",
      "\n",
      "Minimum number of nodes requested have been provisioned\n",
      "{'currentNodeCount': 1, 'targetNodeCount': 1, 'nodeStateCounts': {'preparingNodeCount': 0, 'runningNodeCount': 0, 'idleNodeCount': 1, 'unusableNodeCount': 0, 'leavingNodeCount': 0, 'preemptedNodeCount': 0}, 'allocationState': 'Steady', 'allocationStateTransitionTime': '2021-01-24T10:39:28.011000+00:00', 'errors': None, 'creationTime': '2021-01-24T10:37:35.915130+00:00', 'modifiedTime': '2021-01-24T10:37:52.959329+00:00', 'provisioningState': 'Succeeded', 'provisioningStateTransitionTime': None, 'scaleSettings': {'minNodeCount': 1, 'maxNodeCount': 4, 'nodeIdleTimeBeforeScaleDown': 'PT120S'}, 'vmPriority': 'Dedicated', 'vmSize': 'STANDARD_D4_V2'}\n"
     ]
    }
   ],
   "source": [
    "from azureml.core.compute import AmlCompute\n",
    "from azureml.core.compute import ComputeTarget\n",
    "import os\n",
    "\n",
    "# choose a name for your cluster\n",
    "compute_name = os.environ.get(\"AML_COMPUTE_CLUSTER_NAME\", \"cpucluster\")\n",
    "compute_min_nodes = os.environ.get(\"AML_COMPUTE_CLUSTER_MIN_NODES\", 1)\n",
    "compute_max_nodes = os.environ.get(\"AML_COMPUTE_CLUSTER_MAX_NODES\", 4)\n",
    "\n",
    "# This example uses CPU VM. For using GPU VM, set SKU to STANDARD_NC6\n",
    "vm_size = os.environ.get(\"AML_COMPUTE_CLUSTER_SKU\", \"STANDARD_D4_V2\")\n",
    "\n",
    "\n",
    "if compute_name in ws.compute_targets:\n",
    "    compute_target = ws.compute_targets[compute_name]\n",
    "    if compute_target and type(compute_target) is AmlCompute:\n",
    "        print('found compute target. just use it. ' + compute_name)\n",
    "else:\n",
    "    print('creating a new compute target...')\n",
    "    provisioning_config = AmlCompute.provisioning_configuration(vm_size = vm_size,\n",
    "                                                                min_nodes = compute_min_nodes, \n",
    "                                                                max_nodes = compute_max_nodes)\n",
    "\n",
    "    # create the cluster\n",
    "    compute_target = ComputeTarget.create(ws, compute_name, provisioning_config)\n",
    "    \n",
    "    # can poll for a minimum number of nodes and for a specific timeout. \n",
    "    # if no min node count is provided it will use the scale settings for the cluster\n",
    "    compute_target.wait_for_completion(show_output=True, min_node_count=None, timeout_in_minutes=20)\n",
    "    \n",
    "     # For a more detailed view of current AmlCompute status, use get_status()\n",
    "    print(compute_target.get_status().serialize())"
   ]
  },
  {
   "cell_type": "markdown",
   "metadata": {},
   "source": [
    "You now have the necessary packages and compute resources to train a model in the cloud. \n",
    "\n",
    "## Verify you have the data\n",
    "\n",
    "You already explored the data in the last lab.  You need to copy the data into the cloud so it can be accessed by your cloud training environment.  We saved the model training data to a csv file so all we have to do is load it."
   ]
  },
  {
   "cell_type": "markdown",
   "metadata": {},
   "source": [
    "### Display a few rows of data to make sure the load worked."
   ]
  },
  {
   "cell_type": "code",
   "execution_count": 9,
   "metadata": {},
   "outputs": [
    {
     "data": {
      "text/html": [
       "<div>\n",
       "<style scoped>\n",
       "    .dataframe tbody tr th:only-of-type {\n",
       "        vertical-align: middle;\n",
       "    }\n",
       "\n",
       "    .dataframe tbody tr th {\n",
       "        vertical-align: top;\n",
       "    }\n",
       "\n",
       "    .dataframe thead th {\n",
       "        text-align: right;\n",
       "    }\n",
       "</style>\n",
       "<table border=\"1\" class=\"dataframe\">\n",
       "  <thead>\n",
       "    <tr style=\"text-align: right;\">\n",
       "      <th></th>\n",
       "      <th>BikeTypeCat</th>\n",
       "      <th>AgeBandCat</th>\n",
       "      <th>IncomeBandCat</th>\n",
       "      <th>MaritalStatusCat</th>\n",
       "      <th>OccupationCat</th>\n",
       "      <th>CommuteDistanceCat</th>\n",
       "      <th>GenderCat</th>\n",
       "      <th>ChildrenAtHomeCat</th>\n",
       "      <th>CountryRegionCodeCat</th>\n",
       "      <th>HouseOwnerFlagCat</th>\n",
       "      <th>EducationCat</th>\n",
       "    </tr>\n",
       "  </thead>\n",
       "  <tbody>\n",
       "    <tr>\n",
       "      <th>0</th>\n",
       "      <td>1</td>\n",
       "      <td>5</td>\n",
       "      <td>1</td>\n",
       "      <td>1</td>\n",
       "      <td>1</td>\n",
       "      <td>2</td>\n",
       "      <td>1</td>\n",
       "      <td>0</td>\n",
       "      <td>1</td>\n",
       "      <td>1</td>\n",
       "      <td>0</td>\n",
       "    </tr>\n",
       "    <tr>\n",
       "      <th>1</th>\n",
       "      <td>0</td>\n",
       "      <td>3</td>\n",
       "      <td>0</td>\n",
       "      <td>1</td>\n",
       "      <td>2</td>\n",
       "      <td>0</td>\n",
       "      <td>0</td>\n",
       "      <td>1</td>\n",
       "      <td>3</td>\n",
       "      <td>0</td>\n",
       "      <td>2</td>\n",
       "    </tr>\n",
       "    <tr>\n",
       "      <th>2</th>\n",
       "      <td>0</td>\n",
       "      <td>5</td>\n",
       "      <td>0</td>\n",
       "      <td>1</td>\n",
       "      <td>3</td>\n",
       "      <td>2</td>\n",
       "      <td>0</td>\n",
       "      <td>0</td>\n",
       "      <td>5</td>\n",
       "      <td>1</td>\n",
       "      <td>2</td>\n",
       "    </tr>\n",
       "    <tr>\n",
       "      <th>3</th>\n",
       "      <td>1</td>\n",
       "      <td>5</td>\n",
       "      <td>1</td>\n",
       "      <td>0</td>\n",
       "      <td>1</td>\n",
       "      <td>1</td>\n",
       "      <td>1</td>\n",
       "      <td>0</td>\n",
       "      <td>5</td>\n",
       "      <td>1</td>\n",
       "      <td>1</td>\n",
       "    </tr>\n",
       "    <tr>\n",
       "      <th>4</th>\n",
       "      <td>0</td>\n",
       "      <td>3</td>\n",
       "      <td>1</td>\n",
       "      <td>1</td>\n",
       "      <td>3</td>\n",
       "      <td>4</td>\n",
       "      <td>0</td>\n",
       "      <td>0</td>\n",
       "      <td>0</td>\n",
       "      <td>0</td>\n",
       "      <td>0</td>\n",
       "    </tr>\n",
       "  </tbody>\n",
       "</table>\n",
       "</div>"
      ],
      "text/plain": [
       "   BikeTypeCat  AgeBandCat  IncomeBandCat  MaritalStatusCat  OccupationCat  \\\n",
       "0            1           5              1                 1              1   \n",
       "1            0           3              0                 1              2   \n",
       "2            0           5              0                 1              3   \n",
       "3            1           5              1                 0              1   \n",
       "4            0           3              1                 1              3   \n",
       "\n",
       "   CommuteDistanceCat  GenderCat  ChildrenAtHomeCat  CountryRegionCodeCat  \\\n",
       "0                   2          1                  0                     1   \n",
       "1                   0          0                  1                     3   \n",
       "2                   2          0                  0                     5   \n",
       "3                   1          1                  0                     5   \n",
       "4                   4          0                  0                     0   \n",
       "\n",
       "   HouseOwnerFlagCat  EducationCat  \n",
       "0                  1             0  \n",
       "1                  0             2  \n",
       "2                  1             2  \n",
       "3                  1             1  \n",
       "4                  0             0  "
      ]
     },
     "execution_count": 9,
     "metadata": {},
     "output_type": "execute_result"
    }
   ],
   "source": [
    "import pandas as pd\n",
    "df_features = pd.read_csv(r'inputs/BikeFeatures.csv', sep=';')\n",
    "df_features.head()"
   ]
  },
  {
   "cell_type": "markdown",
   "metadata": {},
   "source": [
    "Now you have an idea of what these images look like and the expected prediction outcome.\n",
    "\n",
    "### Upload data to the cloud\n",
    "\n",
    "Now make the data accessible remotely by uploading that data from your local machine into Azure so it can be accessed for remote training. The datastore is a convenient construct associated with your workspace for you to upload/download data, and interact with it from your remote compute targets. It is backed by Azure blob storage account.\n",
    "\n",
    "The data file is uploaded into a directory named `dp100lab` at the root of the datastore."
   ]
  },
  {
   "cell_type": "code",
   "execution_count": 10,
   "metadata": {},
   "outputs": [
    {
     "name": "stdout",
     "output_type": "stream",
     "text": [
      "/home/atabordal/azureml-tutorial\n"
     ]
    }
   ],
   "source": [
    "import urllib.request\n",
    "data_folder = os.getcwd() \n",
    "print(data_folder)"
   ]
  },
  {
   "cell_type": "code",
   "execution_count": 11,
   "metadata": {
    "tags": [
     "use datastore"
    ]
   },
   "outputs": [
    {
     "name": "stdout",
     "output_type": "stream",
     "text": [
      "AzureBlob docswsstorage02aa6558ea0 azureml-blobstore-22e259ad-ce66-4b4d-8174-9422c5ed1ce0\n",
      "Uploading an estimated of 57 files\n",
      "Uploading /home/atabordal/azureml-tutorial/LICENSE\n",
      "Uploaded /home/atabordal/azureml-tutorial/LICENSE, 1 files out of an estimated total of 57\n",
      "Uploading /home/atabordal/azureml-tutorial/README.md\n",
      "Uploaded /home/atabordal/azureml-tutorial/README.md, 2 files out of an estimated total of 57\n",
      "Uploading /home/atabordal/azureml-tutorial/.git/hooks/applypatch-msg.sample\n",
      "Uploaded /home/atabordal/azureml-tutorial/.git/hooks/applypatch-msg.sample, 3 files out of an estimated total of 57\n",
      "Uploading /home/atabordal/azureml-tutorial/.git/hooks/pre-commit.sample\n",
      "Uploaded /home/atabordal/azureml-tutorial/.git/hooks/pre-commit.sample, 4 files out of an estimated total of 57\n",
      "Uploading /home/atabordal/azureml-tutorial/bikeFeatures.py\n",
      "Uploaded /home/atabordal/azureml-tutorial/bikeFeatures.py, 5 files out of an estimated total of 57\n",
      "Uploading /home/atabordal/azureml-tutorial/azure-ml.yml\n",
      "Uploaded /home/atabordal/azureml-tutorial/azure-ml.yml, 6 files out of an estimated total of 57\n",
      "Uploading /home/atabordal/azureml-tutorial/bikemodelenv.yml\n",
      "Uploaded /home/atabordal/azureml-tutorial/bikemodelenv.yml, 7 files out of an estimated total of 57\n",
      "Uploading /home/atabordal/azureml-tutorial/azureml.yml\n",
      "Uploaded /home/atabordal/azureml-tutorial/azureml.yml, 8 files out of an estimated total of 57\n",
      "Uploading /home/atabordal/azureml-tutorial/azureml2.yml\n",
      "Uploaded /home/atabordal/azureml-tutorial/azureml2.yml, 9 files out of an estimated total of 57\n",
      "Uploading /home/atabordal/azureml-tutorial/.git/index\n",
      "Uploaded /home/atabordal/azureml-tutorial/.git/index, 10 files out of an estimated total of 57\n",
      "Uploading /home/atabordal/azureml-tutorial/.git/HEAD\n",
      "Uploaded /home/atabordal/azureml-tutorial/.git/HEAD, 11 files out of an estimated total of 57\n",
      "Uploading /home/atabordal/azureml-tutorial/.git/packed-refs\n",
      "Uploaded /home/atabordal/azureml-tutorial/.git/packed-refs, 12 files out of an estimated total of 57\n",
      "Uploading /home/atabordal/azureml-tutorial/.git/config\n",
      "Uploaded /home/atabordal/azureml-tutorial/.git/config, 13 files out of an estimated total of 57\n",
      "Uploading /home/atabordal/azureml-tutorial/.git/description\n",
      "Uploaded /home/atabordal/azureml-tutorial/.git/description, 14 files out of an estimated total of 57\n",
      "Uploading /home/atabordal/azureml-tutorial/.git/hooks/pre-push.sample\n",
      "Uploaded /home/atabordal/azureml-tutorial/.git/hooks/pre-push.sample, 15 files out of an estimated total of 57\n",
      "Uploading /home/atabordal/azureml-tutorial/.git/hooks/pre-receive.sample\n",
      "Uploaded /home/atabordal/azureml-tutorial/.git/hooks/pre-receive.sample, 16 files out of an estimated total of 57\n",
      "Uploading /home/atabordal/azureml-tutorial/.git/COMMIT_EDITMSG\n",
      "Uploaded /home/atabordal/azureml-tutorial/.git/COMMIT_EDITMSG, 17 files out of an estimated total of 57\n",
      "Uploading /home/atabordal/azureml-tutorial/.git/hooks/fsmonitor-watchman.sample\n",
      "Uploaded /home/atabordal/azureml-tutorial/.git/hooks/fsmonitor-watchman.sample, 18 files out of an estimated total of 57\n",
      "Uploading /home/atabordal/azureml-tutorial/.git/hooks/update.sample\n",
      "Uploaded /home/atabordal/azureml-tutorial/.git/hooks/update.sample, 19 files out of an estimated total of 57\n",
      "Uploading /home/atabordal/azureml-tutorial/.git/hooks/pre-applypatch.sample\n",
      "Uploaded /home/atabordal/azureml-tutorial/.git/hooks/pre-applypatch.sample, 20 files out of an estimated total of 57\n",
      "Uploading /home/atabordal/azureml-tutorial/.git/hooks/pre-merge-commit.sample\n",
      "Uploaded /home/atabordal/azureml-tutorial/.git/hooks/pre-merge-commit.sample, 21 files out of an estimated total of 57\n",
      "Uploading /home/atabordal/azureml-tutorial/.git/hooks/prepare-commit-msg.sample\n",
      "Uploaded /home/atabordal/azureml-tutorial/.git/hooks/prepare-commit-msg.sample, 22 files out of an estimated total of 57\n",
      "Uploading /home/atabordal/azureml-tutorial/.git/hooks/commit-msg.sample\n",
      "Uploaded /home/atabordal/azureml-tutorial/.git/hooks/commit-msg.sample, 23 files out of an estimated total of 57\n",
      "Uploading /home/atabordal/azureml-tutorial/.git/hooks/post-update.sample\n",
      "Uploaded /home/atabordal/azureml-tutorial/.git/hooks/post-update.sample, 24 files out of an estimated total of 57\n",
      "Uploading /home/atabordal/azureml-tutorial/.git/hooks/pre-rebase.sample\n",
      "Uploaded /home/atabordal/azureml-tutorial/.git/hooks/pre-rebase.sample, 25 files out of an estimated total of 57\n",
      "Uploading /home/atabordal/azureml-tutorial/.git/objects/45/d4f3367644b9cc169f2224901ac9f1a40f478f\n",
      "Uploaded /home/atabordal/azureml-tutorial/.git/objects/45/d4f3367644b9cc169f2224901ac9f1a40f478f, 26 files out of an estimated total of 57\n",
      "Uploading /home/atabordal/azureml-tutorial/.git/objects/98/d3acbb1a0f4a80b7ba3d51d3dee271015e1329\n",
      "Uploaded /home/atabordal/azureml-tutorial/.git/objects/98/d3acbb1a0f4a80b7ba3d51d3dee271015e1329, 27 files out of an estimated total of 57\n",
      "Uploading /home/atabordal/azureml-tutorial/.git/objects/1e/6812aa091a649f8691a76e539f015cba94bc14\n",
      "Uploaded /home/atabordal/azureml-tutorial/.git/objects/1e/6812aa091a649f8691a76e539f015cba94bc14, 28 files out of an estimated total of 57\n",
      "Uploading /home/atabordal/azureml-tutorial/.git/objects/d5/d0346bbca12406cc77ea6c4130bf26758e13c3\n",
      "Uploaded /home/atabordal/azureml-tutorial/.git/objects/d5/d0346bbca12406cc77ea6c4130bf26758e13c3, 29 files out of an estimated total of 57\n",
      "Uploading /home/atabordal/azureml-tutorial/.git/objects/af/5ba43f658f45021babc69694f0177ab80bbaad\n",
      "Uploaded /home/atabordal/azureml-tutorial/.git/objects/af/5ba43f658f45021babc69694f0177ab80bbaad, 30 files out of an estimated total of 57\n",
      "Uploading /home/atabordal/azureml-tutorial/.git/objects/92/f4a0a677f4814d59f3933bce7b6c8635944699\n",
      "Uploaded /home/atabordal/azureml-tutorial/.git/objects/92/f4a0a677f4814d59f3933bce7b6c8635944699, 31 files out of an estimated total of 57\n",
      "Uploading /home/atabordal/azureml-tutorial/.git/objects/09/5c05f676509e3d42a38f6badc14e087486ae07\n",
      "Uploaded /home/atabordal/azureml-tutorial/.git/objects/09/5c05f676509e3d42a38f6badc14e087486ae07, 32 files out of an estimated total of 57\n",
      "Uploading /home/atabordal/azureml-tutorial/.git/objects/a5/8b7de6896282964d3d26370550a6c3a93f20c7\n",
      "Uploaded /home/atabordal/azureml-tutorial/.git/objects/a5/8b7de6896282964d3d26370550a6c3a93f20c7, 33 files out of an estimated total of 57\n",
      "Uploading /home/atabordal/azureml-tutorial/.git/objects/87/48905ffb1d931424a5a2e5cda8238aefd6c64f\n",
      "Uploaded /home/atabordal/azureml-tutorial/.git/objects/87/48905ffb1d931424a5a2e5cda8238aefd6c64f, 34 files out of an estimated total of 57\n",
      "Uploading /home/atabordal/azureml-tutorial/.git/objects/0e/259d42c996742e9e3cba14c677129b2c1b6311\n",
      "Uploaded /home/atabordal/azureml-tutorial/.git/objects/0e/259d42c996742e9e3cba14c677129b2c1b6311, 35 files out of an estimated total of 57\n",
      "Uploading /home/atabordal/azureml-tutorial/.git/objects/b2/3cfd4f0b1bf373e4a7d9f32ae036af00123b24\n",
      "Uploaded /home/atabordal/azureml-tutorial/.git/objects/b2/3cfd4f0b1bf373e4a7d9f32ae036af00123b24, 36 files out of an estimated total of 57\n",
      "Uploading /home/atabordal/azureml-tutorial/.git/objects/b2/a90623eae95833c90247c633c50d5dc7caa2a7\n",
      "Uploaded /home/atabordal/azureml-tutorial/.git/objects/b2/a90623eae95833c90247c633c50d5dc7caa2a7, 37 files out of an estimated total of 57\n",
      "Uploading /home/atabordal/azureml-tutorial/.git/objects/4b/b3c6b11c0ce9ff69628789a5a70f460cf30d61\n",
      "Uploaded /home/atabordal/azureml-tutorial/.git/objects/4b/b3c6b11c0ce9ff69628789a5a70f460cf30d61, 38 files out of an estimated total of 57\n",
      "Uploading /home/atabordal/azureml-tutorial/.git/objects/54/8760a73cd11bf3bc7c3e35965cbe65feb216fc\n",
      "Uploaded /home/atabordal/azureml-tutorial/.git/objects/54/8760a73cd11bf3bc7c3e35965cbe65feb216fc, 39 files out of an estimated total of 57\n",
      "Uploading /home/atabordal/azureml-tutorial/.git/objects/c1/3087e2c43adc9e76526ec30b9ba55fefe39b20\n",
      "Uploaded /home/atabordal/azureml-tutorial/.git/objects/c1/3087e2c43adc9e76526ec30b9ba55fefe39b20, 40 files out of an estimated total of 57\n",
      "Uploading /home/atabordal/azureml-tutorial/.git/objects/2f/25b6c446f6c3f5e192872f879792e86486e69c\n",
      "Uploaded /home/atabordal/azureml-tutorial/.git/objects/2f/25b6c446f6c3f5e192872f879792e86486e69c, 41 files out of an estimated total of 57\n",
      "Uploading /home/atabordal/azureml-tutorial/.git/info/exclude\n",
      "Uploaded /home/atabordal/azureml-tutorial/.git/info/exclude, 42 files out of an estimated total of 57\n",
      "Uploading /home/atabordal/azureml-tutorial/.git/refs/remotes/origin/HEAD\n",
      "Uploaded /home/atabordal/azureml-tutorial/.git/refs/remotes/origin/HEAD, 43 files out of an estimated total of 57\n",
      "Uploading /home/atabordal/azureml-tutorial/.git/refs/heads/main\n",
      "Uploaded /home/atabordal/azureml-tutorial/.git/refs/heads/main, 44 files out of an estimated total of 57\n",
      "Uploading /home/atabordal/azureml-tutorial/.git/logs/HEAD\n",
      "Uploaded /home/atabordal/azureml-tutorial/.git/logs/HEAD, 45 files out of an estimated total of 57\n",
      "Uploading /home/atabordal/azureml-tutorial/.git/logs/refs/remotes/origin/HEAD\n",
      "Uploaded /home/atabordal/azureml-tutorial/.git/logs/refs/remotes/origin/HEAD, 46 files out of an estimated total of 57\n",
      "Uploading /home/atabordal/azureml-tutorial/.git/logs/refs/heads/main\n",
      "Uploaded /home/atabordal/azureml-tutorial/.git/logs/refs/heads/main, 47 files out of an estimated total of 57\n",
      "Uploading /home/atabordal/azureml-tutorial/.azureml/config.json\n",
      "Uploaded /home/atabordal/azureml-tutorial/.azureml/config.json, 48 files out of an estimated total of 57\n"
     ]
    },
    {
     "name": "stdout",
     "output_type": "stream",
     "text": [
      "Uploading /home/atabordal/azureml-tutorial/Train and Deploy a Model on Azure.ipynb\n",
      "Uploaded /home/atabordal/azureml-tutorial/Train and Deploy a Model on Azure.ipynb, 49 files out of an estimated total of 57\n",
      "Uploading /home/atabordal/azureml-tutorial/.git/objects/68/db527fa50968db9cd0edd109a179dc004fcbbe\n",
      "Uploaded /home/atabordal/azureml-tutorial/.git/objects/68/db527fa50968db9cd0edd109a179dc004fcbbe, 50 files out of an estimated total of 57\n",
      "Uploading /home/atabordal/azureml-tutorial/.git/objects/c2/279c68148e73507e6858ebd11d4a147ba5f4ca\n",
      "Uploaded /home/atabordal/azureml-tutorial/.git/objects/c2/279c68148e73507e6858ebd11d4a147ba5f4ca, 51 files out of an estimated total of 57\n",
      "Uploading /home/atabordal/azureml-tutorial/.git/objects/7e/d6093c2dd61fb62b2739d886119ecc420d0bc8\n",
      "Uploaded /home/atabordal/azureml-tutorial/.git/objects/7e/d6093c2dd61fb62b2739d886119ecc420d0bc8, 52 files out of an estimated total of 57\n",
      "Uploading /home/atabordal/azureml-tutorial/.git/objects/2c/c3ccc29987323266b56403b6214eb2278608f4\n",
      "Uploaded /home/atabordal/azureml-tutorial/.git/objects/2c/c3ccc29987323266b56403b6214eb2278608f4, 53 files out of an estimated total of 57\n",
      "Uploading /home/atabordal/azureml-tutorial/.ipynb_checkpoints/Train and Deploy a Model on Azure-checkpoint.ipynb\n",
      "Uploaded /home/atabordal/azureml-tutorial/.ipynb_checkpoints/Train and Deploy a Model on Azure-checkpoint.ipynb, 54 files out of an estimated total of 57\n",
      "Uploading /home/atabordal/azureml-tutorial/inputs/BikeFeatures.csv\n",
      "Uploaded /home/atabordal/azureml-tutorial/inputs/BikeFeatures.csv, 55 files out of an estimated total of 57\n",
      "Uploading /home/atabordal/azureml-tutorial/.git/objects/64/48c0a2b6cea547ae1d3583c12307575356b159\n",
      "Uploaded /home/atabordal/azureml-tutorial/.git/objects/64/48c0a2b6cea547ae1d3583c12307575356b159, 56 files out of an estimated total of 57\n",
      "Uploading /home/atabordal/azureml-tutorial/outputs/biketypemodel.pkl\n",
      "Uploaded /home/atabordal/azureml-tutorial/outputs/biketypemodel.pkl, 57 files out of an estimated total of 57\n",
      "Uploaded 57 files\n"
     ]
    },
    {
     "data": {
      "text/plain": [
       "$AZUREML_DATAREFERENCE_859fd12286af40f69e45852d2b22db4c"
      ]
     },
     "execution_count": 11,
     "metadata": {},
     "output_type": "execute_result"
    }
   ],
   "source": [
    "ds = ws.get_default_datastore()\n",
    "print(ds.datastore_type, ds.account_name, ds.container_name)\n",
    "\n",
    "ds.upload(src_dir=data_folder, target_path='dp100lab', overwrite=True, show_progress=True)"
   ]
  },
  {
   "cell_type": "markdown",
   "metadata": {},
   "source": [
    "## Train on a remote cluster\n",
    "\n",
    "For this task, submit the job to the remote training cluster you set up earlier.  To submit a job you:\n",
    "* Create a directory\n",
    "* Create a training script\n",
    "* Create an estimator object\n",
    "* Submit the job \n",
    "\n",
    "### Create a directory\n",
    "\n",
    "Create a directory to deliver the necessary code from your computer to the remote resource."
   ]
  },
  {
   "cell_type": "code",
   "execution_count": 13,
   "metadata": {},
   "outputs": [],
   "source": [
    "import os\n",
    "script_folder = os.path.join(os.getcwd(), \"dp100lab\")\n",
    "os.makedirs(script_folder, exist_ok=True)"
   ]
  },
  {
   "cell_type": "code",
   "execution_count": 14,
   "metadata": {},
   "outputs": [
    {
     "data": {
      "text/plain": [
       "BikeTypeCat             int64\n",
       "AgeBandCat              int64\n",
       "IncomeBandCat           int64\n",
       "MaritalStatusCat        int64\n",
       "OccupationCat           int64\n",
       "CommuteDistanceCat      int64\n",
       "GenderCat               int64\n",
       "ChildrenAtHomeCat       int64\n",
       "CountryRegionCodeCat    int64\n",
       "HouseOwnerFlagCat       int64\n",
       "EducationCat            int64\n",
       "dtype: object"
      ]
     },
     "execution_count": 14,
     "metadata": {},
     "output_type": "execute_result"
    }
   ],
   "source": [
    "# Confirm the df_feeatures one more time...\n",
    "df_features.dtypes"
   ]
  },
  {
   "cell_type": "markdown",
   "metadata": {},
   "source": [
    "### Create a training script\n",
    "\n",
    "To submit the job to the cluster, first create a training script. Run the following code to create the training script called `train.py` in the directory you just created. "
   ]
  },
  {
   "cell_type": "markdown",
   "metadata": {},
   "source": [
    "## About training scripts...\n",
    "\n",
    "To train a model in an Azure container, we need to get the model training script to the container. We start by saving the model training script to a Python script file, i.e. .py.  This will be uploaded to the Azure container later.  We don't need any exploratory code in this script, just what is needed to train the model."
   ]
  },
  {
   "cell_type": "markdown",
   "metadata": {},
   "source": [
    "# Clasiification training script below."
   ]
  },
  {
   "cell_type": "code",
   "execution_count": 15,
   "metadata": {},
   "outputs": [
    {
     "name": "stdout",
     "output_type": "stream",
     "text": [
      "Writing /home/atabordal/azureml-tutorial/dp100lab/train.py\n"
     ]
    }
   ],
   "source": [
    "%%writefile $script_folder/train.py\n",
    "\n",
    "import argparse\n",
    "import os\n",
    "\n",
    "import numpy as np\n",
    "import pandas as pd\n",
    "from sklearn.model_selection import train_test_split\n",
    "from sklearn.preprocessing import StandardScaler\n",
    "#from sklearn.ensemble import RandomForestClassifier\n",
    "from sklearn.ensemble import AdaBoostClassifier\n",
    "from sklearn.tree import DecisionTreeClassifier\n",
    "from sklearn.metrics import confusion_matrix\n",
    "from sklearn.externals import joblib\n",
    "\n",
    "from azureml.core import Run\n",
    "print('Libraries Imported')\n",
    "\n",
    "# ***  Azure Machine Learning service specfic code starts... ***\n",
    "\n",
    "# let user feed in 2 parameters, the location of the data files (from datastore), and the regularization rate of the logistic regression model\n",
    "parser = argparse.ArgumentParser()\n",
    "parser.add_argument('--data-folder', type=str, dest='data_folder', help='data folder mounting point')\n",
    "parser.add_argument('--maxdepth', type=float, dest='max_depth', default=14, help='max_depth')\n",
    "args = parser.parse_args()\n",
    "\n",
    "\n",
    "data_folder = args.data_folder\n",
    "max_depth = args.max_depth\n",
    "\n",
    "print('Data folder:', data_folder)\n",
    "\n",
    "# get hold of the current run\n",
    "run = Run.get_context()\n",
    "\n",
    "# ***  Azure Machine Learning service specfic code ends. ***\n",
    "\n",
    "# filepath = data_folder + '/BikeModelFeatures.csv'\n",
    "filepath = os.path.join(data_folder, 'BikeFeatures.csv')\n",
    "\n",
    "df_features = pd.read_csv(filepath, sep=';')\n",
    "\n",
    "# load train and test set into numpy arrays\n",
    "\n",
    "X_train_all , X_test_all = train_test_split(df_features.values,test_size=0.2)      \n",
    "#test_size=0.5(whole_data)\n",
    "\n",
    "# Column 0 has the value we want to predict\n",
    "X_train_all[:,0]\n",
    "\n",
    "y_train = X_train_all[:,0]\n",
    "\n",
    "y_test = X_test_all[:,0]\n",
    "\n",
    "X_train_all.shape\n",
    "\n",
    "X_train = X_train_all[:,1:11]\n",
    "X_train.shape\n",
    "\n",
    "X_test = X_test_all[:,1:11]\n",
    "X_test\n",
    "\n",
    "# Set the max_depth model hyperparameter to = max_depth which is the parameter value we created in the Azure ML service specific code above, i.e. , max_depth = max_depth \n",
    "# print('trainng RandomForestClassifier...')\n",
    "#classifier = RandomForestClassifier(n_estimators = 20, criterion = 'entropy', random_state = 42, max_depth = max_depth)\n",
    "classifier =  AdaBoostClassifier(DecisionTreeClassifier(min_samples_leaf=10, max_depth = 20), n_estimators= 100, learning_rate=0.2)\n",
    "classifier.fit(X_train, y_train)\n",
    "print('Classifier Model Trained.')\n",
    "\n",
    "\n",
    "# Predict using the test data...\n",
    "print('Running the test dataset through...')\n",
    "y_predtest = classifier.predict(X_test)\n",
    "print('Test dataset scored.')\n",
    "\n",
    "# calculate accuracy on the prediction\n",
    "acc = np.average(y_predtest == y_test)\n",
    "print('Accuracy is', acc)\n",
    "\n",
    "\n",
    "# ***  Azure Machine Learning service specfic code starts... ***\n",
    "run.log('data_dir', data_folder)\n",
    "run.log('accuracy', np.float(acc))\n",
    "\n",
    "os.makedirs('outputs', exist_ok=True)\n",
    "\n",
    "# note file saved in the outputs folder is automatically uploaded into experiment record\n",
    "joblib.dump(value=classifier, filename='outputs/biketypemodel.pkl')\n",
    "\n",
    "# ***  Azure Machine Learning service specfic code ends. ***"
   ]
  },
  {
   "cell_type": "markdown",
   "metadata": {},
   "source": [
    "Notice how the script gets data and saves models:\n",
    "\n",
    "+ The training script reads an argument to find the directory containing the data.  When you submit the job later, you point to the datastore for this argument:\n",
    "`parser.add_argument('--data-folder', type=str, dest='data_folder', help='data directory mounting point')`"
   ]
  },
  {
   "cell_type": "markdown",
   "metadata": {},
   "source": [
    "\n",
    "+ The training script saves your model into a directory named outputs. <br/>\n",
    "`joblib.dump(value=clf, filename='outputs/biketypemodel.pkl')`<br/>\n",
    "Anything written in this directory is automatically uploaded into your workspace. You'll access your model from this directory later in the tutorial."
   ]
  },
  {
   "cell_type": "markdown",
   "metadata": {},
   "source": [
    "### Create an estimator\n",
    "\n",
    "An estimator object is used to submit the run.  Create your estimator by running the following code to define:\n",
    "\n",
    "* The name of the estimator object, `est`\n",
    "* The directory that contains your scripts. All the files in this directory are uploaded into the cluster nodes for execution. \n",
    "* The compute target.  In this case you will use the AmlCompute you created\n",
    "* The training script name, train.py\n",
    "* Parameters required from the training script \n",
    "* Python packages needed for training\n",
    "\n",
    "In this tutorial, this target is AmlCompute. All files in the script folder are uploaded into the cluster nodes for execution. The data_folder is set to use the datastore (`ds.path('dp100lab').as_mount()`)."
   ]
  },
  {
   "cell_type": "code",
   "execution_count": 17,
   "metadata": {
    "tags": [
     "configure estimator"
    ]
   },
   "outputs": [
    {
     "name": "stderr",
     "output_type": "stream",
     "text": [
      "'Estimator' is deprecated. Please use 'ScriptRunConfig' from 'azureml.core.script_run_config' with your own defined environment or an Azure ML curated environment.\n"
     ]
    },
    {
     "name": "stdout",
     "output_type": "stream",
     "text": [
      "Executed\n"
     ]
    }
   ],
   "source": [
    "from azureml.train.estimator import Estimator\n",
    "\n",
    "script_params = {\n",
    "    '--data-folder': ds.path('dp100lab').as_mount(),\n",
    "    '--maxdepth': 12\n",
    "}\n",
    "\n",
    "est = Estimator(source_directory=script_folder,\n",
    "                script_params=script_params,\n",
    "                compute_target=compute_target,\n",
    "                entry_script='train.py',\n",
    "                conda_packages=['scikit-learn','pandas'])\n",
    "\n",
    "print('Executed')"
   ]
  },
  {
   "cell_type": "code",
   "execution_count": 21,
   "metadata": {
    "tags": [
     "create experiment"
    ]
   },
   "outputs": [
    {
     "name": "stdout",
     "output_type": "stream",
     "text": [
      "Experiment created.\n"
     ]
    }
   ],
   "source": [
    "# create or load an experiment\n",
    "experiment_name = 'dp100labexperiment'\n",
    "experiment = Experiment(workspace=ws, name=experiment_name)\n",
    "print('Experiment created.')"
   ]
  },
  {
   "cell_type": "code",
   "execution_count": 25,
   "metadata": {},
   "outputs": [
    {
     "ename": "Exception",
     "evalue": "Error retrieving the environment definition. Code: 404\n: {\n  \"error\": {\n    \"code\": \"UserError\",\n    \"severity\": null,\n    \"message\": \"No definitions exist for environment MyEnvironment\",\n    \"messageFormat\": null,\n    \"messageParameters\": null,\n    \"referenceCode\": null,\n    \"detailsUri\": null,\n    \"target\": null,\n    \"details\": [],\n    \"innerError\": {\n      \"code\": \"NotFoundError\",\n      \"innerError\": null\n    },\n    \"debugInfo\": null\n  },\n  \"correlation\": {\n    \"operation\": \"c9d51460bd441440bd29a56c4ae37489\",\n    \"request\": \"868c37cadefcf445\"\n  },\n  \"environment\": \"westus\",\n  \"location\": \"westus\",\n  \"time\": \"2021-01-24T11:07:15.7498339+00:00\",\n  \"componentName\": \"environment-management\"\n}",
     "output_type": "error",
     "traceback": [
      "\u001b[0;31m---------------------------------------------------------------------------\u001b[0m",
      "\u001b[0;31mException\u001b[0m                                 Traceback (most recent call last)",
      "\u001b[0;32m<ipython-input-25-b9f1961d7e68>\u001b[0m in \u001b[0;36m<module>\u001b[0;34m\u001b[0m\n\u001b[1;32m      2\u001b[0m \u001b[0;34m\u001b[0m\u001b[0m\n\u001b[1;32m      3\u001b[0m \u001b[0;31m# create or retrieve an environment\u001b[0m\u001b[0;34m\u001b[0m\u001b[0;34m\u001b[0m\u001b[0;34m\u001b[0m\u001b[0m\n\u001b[0;32m----> 4\u001b[0;31m \u001b[0menv\u001b[0m \u001b[0;34m=\u001b[0m \u001b[0mEnvironment\u001b[0m\u001b[0;34m.\u001b[0m\u001b[0mget\u001b[0m\u001b[0;34m(\u001b[0m\u001b[0mws\u001b[0m\u001b[0;34m,\u001b[0m \u001b[0mname\u001b[0m\u001b[0;34m=\u001b[0m\u001b[0;34m'MyEnvironment'\u001b[0m\u001b[0;34m)\u001b[0m\u001b[0;34m\u001b[0m\u001b[0;34m\u001b[0m\u001b[0m\n\u001b[0m\u001b[1;32m      5\u001b[0m \u001b[0;31m# configure and submit your training run\u001b[0m\u001b[0;34m\u001b[0m\u001b[0;34m\u001b[0m\u001b[0;34m\u001b[0m\u001b[0m\n\u001b[1;32m      6\u001b[0m config = ScriptRunConfig(source_directory=script_folder,\n",
      "\u001b[0;32m~/miniconda3/envs/azureml/lib/python3.6/site-packages/azureml/core/environment.py\u001b[0m in \u001b[0;36mget\u001b[0;34m(workspace, name, version, label)\u001b[0m\n\u001b[1;32m    886\u001b[0m             \u001b[0menvironment_dict\u001b[0m \u001b[0;34m=\u001b[0m \u001b[0menvironment_client\u001b[0m\u001b[0;34m.\u001b[0m\u001b[0m_get_environment_definition_by_label\u001b[0m\u001b[0;34m(\u001b[0m\u001b[0mname\u001b[0m\u001b[0;34m=\u001b[0m\u001b[0mname\u001b[0m\u001b[0;34m,\u001b[0m \u001b[0mlabel\u001b[0m\u001b[0;34m=\u001b[0m\u001b[0mlabel\u001b[0m\u001b[0;34m)\u001b[0m\u001b[0;34m\u001b[0m\u001b[0;34m\u001b[0m\u001b[0m\n\u001b[1;32m    887\u001b[0m         \u001b[0;32melse\u001b[0m\u001b[0;34m:\u001b[0m\u001b[0;34m\u001b[0m\u001b[0;34m\u001b[0m\u001b[0m\n\u001b[0;32m--> 888\u001b[0;31m             \u001b[0menvironment_dict\u001b[0m \u001b[0;34m=\u001b[0m \u001b[0menvironment_client\u001b[0m\u001b[0;34m.\u001b[0m\u001b[0m_get_environment_definition\u001b[0m\u001b[0;34m(\u001b[0m\u001b[0mname\u001b[0m\u001b[0;34m=\u001b[0m\u001b[0mname\u001b[0m\u001b[0;34m,\u001b[0m \u001b[0mversion\u001b[0m\u001b[0;34m=\u001b[0m\u001b[0mversion\u001b[0m\u001b[0;34m)\u001b[0m\u001b[0;34m\u001b[0m\u001b[0;34m\u001b[0m\u001b[0m\n\u001b[0m\u001b[1;32m    889\u001b[0m         \u001b[0menv\u001b[0m \u001b[0;34m=\u001b[0m \u001b[0mEnvironment\u001b[0m\u001b[0;34m.\u001b[0m\u001b[0m_deserialize_and_add_to_object\u001b[0m\u001b[0;34m(\u001b[0m\u001b[0menvironment_dict\u001b[0m\u001b[0;34m)\u001b[0m\u001b[0;34m\u001b[0m\u001b[0;34m\u001b[0m\u001b[0m\n\u001b[1;32m    890\u001b[0m \u001b[0;34m\u001b[0m\u001b[0m\n",
      "\u001b[0;32m~/miniconda3/envs/azureml/lib/python3.6/site-packages/azureml/_restclient/environment_client.py\u001b[0m in \u001b[0;36m_get_environment_definition\u001b[0;34m(self, name, version)\u001b[0m\n\u001b[1;32m     43\u001b[0m             message = \"Error retrieving the environment definition. Code: {}\\n: {}\".format(response.status_code,\n\u001b[1;32m     44\u001b[0m                                                                                            response.text)\n\u001b[0;32m---> 45\u001b[0;31m             \u001b[0;32mraise\u001b[0m \u001b[0mException\u001b[0m\u001b[0;34m(\u001b[0m\u001b[0mmessage\u001b[0m\u001b[0;34m)\u001b[0m\u001b[0;34m\u001b[0m\u001b[0;34m\u001b[0m\u001b[0m\n\u001b[0m\u001b[1;32m     46\u001b[0m \u001b[0;34m\u001b[0m\u001b[0m\n\u001b[1;32m     47\u001b[0m     \u001b[0;32mdef\u001b[0m \u001b[0m_get_environment_definition_by_label\u001b[0m\u001b[0;34m(\u001b[0m\u001b[0mself\u001b[0m\u001b[0;34m,\u001b[0m \u001b[0mname\u001b[0m\u001b[0;34m,\u001b[0m \u001b[0mlabel\u001b[0m\u001b[0;34m)\u001b[0m\u001b[0;34m:\u001b[0m\u001b[0;34m\u001b[0m\u001b[0;34m\u001b[0m\u001b[0m\n",
      "\u001b[0;31mException\u001b[0m: Error retrieving the environment definition. Code: 404\n: {\n  \"error\": {\n    \"code\": \"UserError\",\n    \"severity\": null,\n    \"message\": \"No definitions exist for environment MyEnvironment\",\n    \"messageFormat\": null,\n    \"messageParameters\": null,\n    \"referenceCode\": null,\n    \"detailsUri\": null,\n    \"target\": null,\n    \"details\": [],\n    \"innerError\": {\n      \"code\": \"NotFoundError\",\n      \"innerError\": null\n    },\n    \"debugInfo\": null\n  },\n  \"correlation\": {\n    \"operation\": \"c9d51460bd441440bd29a56c4ae37489\",\n    \"request\": \"868c37cadefcf445\"\n  },\n  \"environment\": \"westus\",\n  \"location\": \"westus\",\n  \"time\": \"2021-01-24T11:07:15.7498339+00:00\",\n  \"componentName\": \"environment-management\"\n}"
     ]
    }
   ],
   "source": [
    "from azureml.core import ScriptRunConfig, Environment\n",
    "\n",
    "# create or retrieve an environment\n",
    "env = Environment.get(ws, name='MyEnvironment')\n",
    "# configure and submit your training run\n",
    "config = ScriptRunConfig(source_directory=script_folder,\n",
    "                            script='train.py',\n",
    "                            arguments=script_params,\n",
    "                            compute_target=compute_target,\n",
    "                            environment=env)\n",
    "script_run = experiment.submit(config)"
   ]
  },
  {
   "cell_type": "code",
   "execution_count": 18,
   "metadata": {},
   "outputs": [
    {
     "data": {
      "text/plain": [
       "<azureml.train.estimator._estimator.Estimator at 0x7fce088fee10>"
      ]
     },
     "execution_count": 18,
     "metadata": {},
     "output_type": "execute_result"
    }
   ],
   "source": [
    "est  # take a look at the est object..."
   ]
  },
  {
   "cell_type": "code",
   "execution_count": 19,
   "metadata": {},
   "outputs": [],
   "source": [
    "from azureml.core.webservice import AciWebservice\n",
    "\n",
    "aciconfig = AciWebservice.deploy_configuration(cpu_cores=1, \n",
    "                                               memory_gb=5, \n",
    "                                               tags={\"data\": \"Bike Features\",  \"method\" : \"sklearn\"}, \n",
    "                                               description='Classification model sklearn')"
   ]
  },
  {
   "cell_type": "markdown",
   "metadata": {},
   "source": [
    "### Submit the job to the cluster\n",
    "\n",
    "Run the experiment by submitting the estimator object. And you can navigate to Azure portal to monitor the run."
   ]
  },
  {
   "cell_type": "code",
   "execution_count": 20,
   "metadata": {
    "tags": [
     "remote run",
     "amlcompute",
     "scikit-learn"
    ]
   },
   "outputs": [
    {
     "name": "stderr",
     "output_type": "stream",
     "text": [
      "WARNING:root:If 'script' has been provided here and a script file name has been specified in 'run_config', 'script' provided in ScriptRunConfig initialization will take precedence.\n",
      "WARNING:root:If 'arguments' has been provided here and arguments have been specified in 'run_config', 'arguments' provided in ScriptRunConfig initialization will take precedence.\n"
     ]
    },
    {
     "data": {
      "text/html": [
       "<table style=\"width:100%\"><tr><th>Experiment</th><th>Id</th><th>Type</th><th>Status</th><th>Details Page</th><th>Docs Page</th></tr><tr><td>dp100labexperiment</td><td>dp100labexperiment_1611485423_2eafbd8b</td><td>azureml.scriptrun</td><td>Preparing</td><td><a href=\"https://ml.azure.com/experiments/dp100labexperiment/runs/dp100labexperiment_1611485423_2eafbd8b?wsid=/subscriptions/c958680c-dc7a-403c-bb83-74f48dce46b3/resourcegroups/docs-aml/workspaces/docs-ws\" target=\"_blank\" rel=\"noopener\">Link to Azure Machine Learning studio</a></td><td><a href=\"https://docs.microsoft.com/en-us/python/api/azureml-core/azureml.core.script_run.ScriptRun?view=azure-ml-py\" target=\"_blank\" rel=\"noopener\">Link to Documentation</a></td></tr></table>"
      ],
      "text/plain": [
       "Run(Experiment: dp100labexperiment,\n",
       "Id: dp100labexperiment_1611485423_2eafbd8b,\n",
       "Type: azureml.scriptrun,\n",
       "Status: Preparing)"
      ]
     },
     "execution_count": 20,
     "metadata": {},
     "output_type": "execute_result"
    }
   ],
   "source": [
    "run = exp.submit(config=est)\n",
    "run"
   ]
  },
  {
   "cell_type": "code",
   "execution_count": null,
   "metadata": {},
   "outputs": [],
   "source": [
    "#  We can see what built-in datastores are available with this code below...\n",
    "datastores = ws.datastores\n",
    "for name, ds in datastores.items():\n",
    "    print(name, ds.datastore_type)"
   ]
  },
  {
   "cell_type": "markdown",
   "metadata": {},
   "source": [
    "Since the call is asynchronous, it returns a **Preparing** or **Running** state as soon as the job is started.\n",
    "\n",
    "## Monitor a remote run\n",
    "\n",
    "In total, the first run takes **approximately 10 minutes**. But for subsequent runs, as long as the dependencies (`conda_packages` parameter in the above estimator constructor) don't change, the same image is reused and hence the container start up time is much faster.\n",
    "\n",
    "Here is what's happening while you wait:\n",
    "\n",
    "- **Image creation**: A Docker image is created matching the Python environment specified by the estimator. The image is built and stored in the ACR (Azure Container Registry) associated with your workspace. Image creation and uploading takes **about 5 minutes**. \n",
    "\n",
    "  This stage happens once for each Python environment since the container is cached for subsequent runs.  During image creation, logs are streamed to the run history. You can monitor the image creation progress using these logs.\n",
    "\n",
    "- **Scaling**: If the remote cluster requires more nodes to execute the run than currently available, additional nodes are added automatically. Scaling typically takes **about 5 minutes.**\n",
    "\n",
    "- **Running**: In this stage, the necessary scripts and files are sent to the compute target, then data stores are mounted/copied, then the entry_script is run. While the job is running, stdout and the files in the ./logs directory are streamed to the run history. You can monitor the run's progress using these logs.\n",
    "\n",
    "- **Post-Processing**: The ./outputs directory of the run is copied over to the run history in your workspace so you can access these results.\n",
    "\n",
    "\n",
    "You can check the progress of a running job in multiple ways. This tutorial uses a Jupyter widget as well as a `wait_for_completion` method. \n",
    "\n",
    "### Jupyter widget\n",
    "\n",
    "Watch the progress of the run with a Jupyter widget.  Like the run submission, the widget is asynchronous and provides live updates every 10-15 seconds until the job completes."
   ]
  },
  {
   "cell_type": "code",
   "execution_count": null,
   "metadata": {
    "tags": [
     "use notebook widget"
    ]
   },
   "outputs": [],
   "source": [
    "from azureml.widgets import RunDetails\n",
    "RunDetails(run).show()"
   ]
  },
  {
   "cell_type": "markdown",
   "metadata": {},
   "source": [
    "By the way, if you need to cancel a run, you can follow [these instructions](https://aka.ms/aml-docs-cancel-run)."
   ]
  },
  {
   "cell_type": "markdown",
   "metadata": {},
   "source": [
    "### Get log results upon completion\n",
    "\n",
    "Model training happens in the background. You can use `wait_for_completion` to block and wait until the model has completed training before running more code. "
   ]
  },
  {
   "cell_type": "code",
   "execution_count": null,
   "metadata": {
    "tags": [
     "remote run",
     "amlcompute",
     "scikit-learn"
    ]
   },
   "outputs": [],
   "source": [
    "# specify show_output to True for a verbose log\n",
    "run.wait_for_completion(show_output=False) "
   ]
  },
  {
   "cell_type": "markdown",
   "metadata": {},
   "source": [
    "### Display run results\n",
    "\n",
    "You now have a model trained on a remote cluster.  Retrieve all the metrics logged during the run, including the accuracy of the model:"
   ]
  },
  {
   "cell_type": "code",
   "execution_count": null,
   "metadata": {
    "tags": [
     "get metrics"
    ]
   },
   "outputs": [],
   "source": [
    "print(run.get_metrics())"
   ]
  },
  {
   "cell_type": "markdown",
   "metadata": {},
   "source": [
    "In the next tutorial you will explore this model in more detail.\n",
    "\n",
    "## Register model\n",
    "\n",
    "The last step in the training script wrote the file `outputs/biketypemodel.pkl` in a directory named `outputs` in the VM of the cluster where the job is executed. `outputs` is a special directory in that all content in this  directory is automatically uploaded to your workspace.  This content appears in the run record in the experiment under your workspace. Hence, the model file is now also available in your workspace.\n",
    "\n",
    "You can see files associated with that run."
   ]
  },
  {
   "cell_type": "code",
   "execution_count": null,
   "metadata": {
    "tags": [
     "query history"
    ]
   },
   "outputs": [],
   "source": [
    "print(run.get_file_names())"
   ]
  },
  {
   "cell_type": "markdown",
   "metadata": {},
   "source": [
    "Register the model in the workspace so that you (or other collaborators) can later query, examine, and deploy this model."
   ]
  },
  {
   "cell_type": "code",
   "execution_count": null,
   "metadata": {
    "tags": [
     "register model from history"
    ]
   },
   "outputs": [],
   "source": [
    "# register model \n",
    "model = run.register_model(model_name='biketypemodel', model_path='outputs/biketypemodel.pkl')\n",
    "print(model.name, model.id, model.version, sep='\\t')"
   ]
  },
  {
   "cell_type": "markdown",
   "metadata": {},
   "source": [
    "_______________________"
   ]
  },
  {
   "cell_type": "markdown",
   "metadata": {},
   "source": [
    "# Lab 2: Part B Deploy the model"
   ]
  },
  {
   "cell_type": "markdown",
   "metadata": {},
   "source": [
    "Now, you're ready to deploy the model as a web service in Azure Container Instances (ACI). A web service is an image, in this case a Docker image, that encapsulates the scoring logic and the model itself.\n",
    "\n",
    "In this part of the lab, you use Azure Machine Learning service (Preview) to:\n",
    "\n",
    "Set up your testing environment\n",
    "Retrieve the model from your workspace\n",
    "Test the model locally\n",
    "Deploy the model to ACI\n",
    "Test the deployed model\n",
    "\n",
    "ACI is not ideal for production deployments, but it is great for testing and understanding the workflow. For scalable production deployments, consider using AKS."
   ]
  },
  {
   "cell_type": "markdown",
   "metadata": {},
   "source": [
    "### Retrieve the model\n",
    "\n",
    "You registered a model in your workspace previously. Assuming you needed to come back later to deploy the model, load this workspace and download the model to your local directory."
   ]
  },
  {
   "cell_type": "code",
   "execution_count": null,
   "metadata": {},
   "outputs": [],
   "source": [
    "from azureml.core import Workspace\n",
    "from azureml.core.model import Model\n",
    "\n",
    "ws = Workspace.from_config()\n",
    "model=Model(ws, 'biketypemodel')\n",
    "model.download(target_dir='.', exist_ok=True)\n",
    "import os \n",
    "# verify the downloaded model file\n",
    "os.stat('./biketypemodel.pkl')\n",
    "\n",
    "print('Complete')"
   ]
  },
  {
   "cell_type": "markdown",
   "metadata": {},
   "source": [
    "## Deploy as web service\n",
    "\n",
    "Once you've tested the model and are satisfied with the results, deploy the model as a web service hosted in ACI. \n",
    "\n",
    "To build the correct environment for ACI, provide the following:\n",
    "* A scoring script to show how to use the model\n",
    "* An environment file to show what packages need to be installed\n",
    "* A configuration file to build the ACI\n",
    "* The model you trained before\n",
    "\n",
    "### Create scoring script\n",
    "\n",
    "Create the scoring script, called score.py, used by the web service call to show how to use the model.\n",
    "\n",
    "You must include two required functions into the scoring script:\n",
    "* The `init()` function, which typically loads the model into a global object. This function is run only once when the Docker container is started. \n",
    "\n",
    "* The `run(input_data)` function uses the model to predict a value based on the input data. Inputs and outputs to the run typically use JSON for serialization and de-serialization, but other formats are supported."
   ]
  },
  {
   "cell_type": "code",
   "execution_count": null,
   "metadata": {},
   "outputs": [],
   "source": [
    "%%writefile score.py\n",
    "import json\n",
    "import numpy as np\n",
    "import os\n",
    "import pickle\n",
    "from sklearn.externals import joblib\n",
    "from sklearn.linear_model import LogisticRegression\n",
    "\n",
    "from azureml.core.model import Model\n",
    "\n",
    "def init():\n",
    "    global model\n",
    "    # retreive the path to the model file using the model name\n",
    "    model_path = Model.get_model_path('biketypemodel')\n",
    "    model = joblib.load(model_path)\n",
    "\n",
    "def run(raw_data):\n",
    "    data = np.array(json.loads(raw_data)['data'])\n",
    "    # make prediction\n",
    "    y_hat = model.predict(data)\n",
    "    # you can return any data type as long as it is JSON-serializable\n",
    "    return y_hat.tolist()"
   ]
  },
  {
   "cell_type": "markdown",
   "metadata": {},
   "source": [
    "### Create environment file\n",
    "\n",
    "Next, create an environment file, called myenv.yml, that specifies all of the script's package dependencies. This file is used to ensure that all of those dependencies are installed in the Docker image. This model needs `scikit-learn` and `azureml-sdk`."
   ]
  },
  {
   "cell_type": "code",
   "execution_count": null,
   "metadata": {},
   "outputs": [],
   "source": [
    "from azureml.core.conda_dependencies import CondaDependencies \n",
    "\n",
    "bikemodelenv = CondaDependencies()\n",
    "bikemodelenv.add_conda_package(\"scikit-learn\")\n",
    "\n",
    "with open(\"bikemodelenv.yml\",\"w\") as f:\n",
    "    f.write(bikemodelenv.serialize_to_string())\n",
    "    \n",
    "print('Complete')    "
   ]
  },
  {
   "cell_type": "markdown",
   "metadata": {},
   "source": [
    "Review the content of the `myenv.yml` file."
   ]
  },
  {
   "cell_type": "code",
   "execution_count": null,
   "metadata": {},
   "outputs": [],
   "source": [
    "with open(\"bikemodelenv.yml\",\"r\") as f:\n",
    "    print(f.read())\n",
    "    \n",
    "print('Complete')    "
   ]
  },
  {
   "cell_type": "markdown",
   "metadata": {},
   "source": [
    "### Create configuration file\n",
    "\n",
    "Create a deployment configuration file and specify the number of CPUs and gigabyte of RAM needed for your ACI container. While it depends on your model, the default of 1 core and 1 gigabyte of RAM is usually sufficient for many models. If you feel you need more later, you would have to recreate the image and redeploy the service."
   ]
  },
  {
   "cell_type": "code",
   "execution_count": null,
   "metadata": {},
   "outputs": [],
   "source": [
    "from azureml.core.webservice import AciWebservice\n",
    "\n",
    "aciconfig = AciWebservice.deploy_configuration(cpu_cores=1, \n",
    "                                               memory_gb=1, \n",
    "                                               tags={\"data\": \"biketype\",  \"method\" : \"sklearn\"}, \n",
    "                                               description='Predict biketype with sklearn')\n",
    "\n",
    "print('Complete')"
   ]
  },
  {
   "cell_type": "markdown",
   "metadata": {},
   "source": [
    "### Deploy in ACI\n",
    "Estimated time to complete: **about 7-8 minutes**\n",
    "\n",
    "Configure the image and deploy. The following code goes through these steps:\n",
    "\n",
    "1. Build an image using:\n",
    "   * The scoring file (`score.py`)\n",
    "   * The environment file (`myenv.yml`)\n",
    "   * The model file\n",
    "1. Register that image under the workspace. \n",
    "1. Send the image to the ACI container.\n",
    "1. Start up a container in ACI using the image.\n",
    "1. Get the web service HTTP endpoint."
   ]
  },
  {
   "cell_type": "code",
   "execution_count": null,
   "metadata": {},
   "outputs": [],
   "source": [
    "%%time\n",
    "from azureml.core.webservice import Webservice\n",
    "from azureml.core.image import ContainerImage\n",
    "\n",
    "# configure the image\n",
    "image_config = ContainerImage.image_configuration(execution_script=\"score.py\", \n",
    "                                                  runtime=\"python\", \n",
    "                                                  conda_file=\"bikemodelenv.yml\")\n",
    "\n",
    "service = Webservice.deploy_from_model(workspace=ws,\n",
    "                                       name='sklearn-biketype-svc2',\n",
    "                                       deployment_config=aciconfig,\n",
    "                                       models=[model],\n",
    "                                       image_config=image_config)\n",
    "\n",
    "service.wait_for_deployment(show_output=True)\n",
    "\n",
    "print('Complete')"
   ]
  },
  {
   "cell_type": "markdown",
   "metadata": {},
   "source": [
    "Get the scoring web service's HTTP endpoint, which accepts REST client calls. This endpoint can be shared with anyone who wants to test the web service or integrate it into an application."
   ]
  },
  {
   "cell_type": "code",
   "execution_count": null,
   "metadata": {},
   "outputs": [],
   "source": [
    "print(service.scoring_uri)"
   ]
  },
  {
   "cell_type": "markdown",
   "metadata": {},
   "source": [
    "## Test deployed service\n",
    "\n",
    "Earlier you scored all the test data with the local version of the model. Now, you can test the deployed model by just passing the test data we used earlier, X_test.  We're doing this in the interest of time as it will serve us well just to test the deployed service.  In a real use case, you might want to specially prepare some input data.  \n",
    "\n",
    "The following code goes through these steps:\n",
    "1. Send the data as a JSON array to the web service hosted in ACI. \n",
    "\n",
    "1. Use the SDK's `run` API to invoke the service. You can also make raw calls using any HTTP tool such as curl.\n",
    "\n",
    "1. Print the returned predictions and plot them along with the input images. Red font and inverse image (white on black) is used to highlight the misclassified samples. \n"
   ]
  },
  {
   "cell_type": "code",
   "execution_count": null,
   "metadata": {},
   "outputs": [],
   "source": [
    "import pandas as pd\n",
    "\n",
    "from sklearn.model_selection import train_test_split\n",
    "X_train_all , X_test_all = train_test_split(df_features.values,test_size=0.2)       #test_size=0.5(whole_data)\n",
    "X_train_all[:,0]\n",
    "y_train = X_train_all[:,0]\n",
    "y_test = X_test_all[:,0]\n",
    "X_train_all.shape\n",
    "X_train = X_train_all[:,1:11]\n",
    "X_train.shape\n",
    "X_test = X_test_all[:,1:11]\n",
    "X_test\n",
    "\n"
   ]
  },
  {
   "cell_type": "code",
   "execution_count": null,
   "metadata": {},
   "outputs": [],
   "source": [
    "df_BikeTest = pd.read_csv('BikeFeatures.csv', sep=';')\n",
    "y_test = df_BikeTest['BikeTypeCat']\n",
    "df_BikeTest.drop(columns=['BikeTypeCat'], inplace=True)\n",
    "X_test = df_BikeTest.values\n",
    "X_test.shape"
   ]
  },
  {
   "cell_type": "code",
   "execution_count": null,
   "metadata": {},
   "outputs": [],
   "source": [
    "import json\n",
    "\n",
    "\n",
    "test_samples = json.dumps({\"data\": X_test.tolist()})\n",
    "test_samples = bytes(test_samples, encoding='utf8')\n",
    "\n",
    "# predict using the deployed model\n",
    "result = service.run(input_data=test_samples)\n",
    "\n",
    "print('Complete')"
   ]
  },
  {
   "cell_type": "markdown",
   "metadata": {},
   "source": [
    "### Display the first few values to see that the call worked."
   ]
  },
  {
   "cell_type": "code",
   "execution_count": null,
   "metadata": {},
   "outputs": [],
   "source": [
    "result[0:5]"
   ]
  },
  {
   "cell_type": "markdown",
   "metadata": {},
   "source": [
    "You can also send raw HTTP request to test the web service.  Again, we are using the X_test data for convenience."
   ]
  },
  {
   "cell_type": "code",
   "execution_count": null,
   "metadata": {},
   "outputs": [],
   "source": [
    "import requests\n",
    "import json\n",
    "\n",
    "# send a random row from the test set to score\n",
    "random_index = np.random.randint(0, len(X_test)-1)\n",
    "input_data = \"{\\\"data\\\": [\" + str(list(X_test[random_index])) + \"]}\"\n",
    "\n",
    "\n",
    "headers = {'Content-Type':'application/json'}\n",
    "\n",
    "# for AKS deployment you'd need to the service key in the header as well\n",
    "# api_key = service.get_key()\n",
    "# headers = {'Content-Type':'application/json',  'Authorization':('Bearer '+ api_key)} \n",
    "\n",
    "resp = requests.post(service.scoring_uri, input_data, headers=headers)\n",
    "\n",
    "print(\"POST to url\", service.scoring_uri)\n",
    "#print(\"input data:\", input_data)\n",
    "print(\"label:\", y_test[random_index])\n",
    "print(\"prediction:\", resp.text)\n",
    "\n",
    "print('Complete')"
   ]
  },
  {
   "cell_type": "markdown",
   "metadata": {},
   "source": [
    "## Clean up resources\n",
    "\n",
    "To keep the resource group and workspace for other tutorials and exploration, you can delete only the ACI deployment using this API call:"
   ]
  },
  {
   "cell_type": "code",
   "execution_count": null,
   "metadata": {},
   "outputs": [],
   "source": [
    "# Uncomment the line below and run the code to clean up the resources.\n",
    "\n",
    "# service.delete()"
   ]
  }
 ],
 "metadata": {
  "authors": [
   {
    "name": "roastala"
   }
  ],
  "kernelspec": {
   "display_name": "Python 3",
   "language": "python",
   "name": "python3"
  },
  "language_info": {
   "codemirror_mode": {
    "name": "ipython",
    "version": 3
   },
   "file_extension": ".py",
   "mimetype": "text/x-python",
   "name": "python",
   "nbconvert_exporter": "python",
   "pygments_lexer": "ipython3",
   "version": "3.6.12"
  },
  "msauthor": "roastala"
 },
 "nbformat": 4,
 "nbformat_minor": 2
}
